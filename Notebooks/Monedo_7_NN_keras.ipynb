{
 "cells": [
  {
   "cell_type": "markdown",
   "id": "b821a5d2",
   "metadata": {},
   "source": [
    "# Imports"
   ]
  },
  {
   "cell_type": "code",
   "execution_count": 30,
   "id": "c11485d0",
   "metadata": {},
   "outputs": [],
   "source": [
    "%run Imports.ipynb\n",
    "from tensorflow.keras.models import Sequential\n",
    "from tensorflow.keras.layers import Dense\n",
    "from tensorflow.keras.optimizers import Adam, SGD\n",
    "from tensorflow.keras.losses import BinaryCrossentropy\n",
    "from sklearn.model_selection import train_test_split\n",
    "from sklearn.metrics import accuracy_score\n",
    "\n",
    "name = 'Kred'\n",
    "\n",
    "key_featsubgroups = pd.read_pickle('../pickle/2_FS/' + name + '/key_featsubgroups.pkl')\n",
    "df = pd.read_pickle('../pickle/2_FS/' + name + '/2_df_new_.pkl')"
   ]
  },
  {
   "cell_type": "code",
   "execution_count": 31,
   "id": "76b59ac7",
   "metadata": {},
   "outputs": [
    {
     "data": {
      "text/plain": [
       "'2.2.0'"
      ]
     },
     "execution_count": 31,
     "metadata": {},
     "output_type": "execute_result"
    }
   ],
   "source": [
    "np.__version__"
   ]
  },
  {
   "cell_type": "code",
   "execution_count": 32,
   "id": "ba68a942",
   "metadata": {},
   "outputs": [
    {
     "name": "stdout",
     "output_type": "stream",
     "text": [
      "arrears\n",
      "1   0.646\n",
      "0   0.354\n",
      "Name: count, dtype: float64\n",
      "df_shape:  (129457, 418)\n"
     ]
    }
   ],
   "source": [
    "print(df[target].value_counts()/df.shape[0])\n",
    "print('df_shape: ', df.shape)"
   ]
  },
  {
   "cell_type": "code",
   "execution_count": 33,
   "id": "693c2462",
   "metadata": {},
   "outputs": [],
   "source": [
    "param_grid = {\n",
    "    \"hidden_layer_size\": [16, 32, 64, 128, 200, 256, 300, 350, 400, 406],\n",
    "    \"activation\": [\"relu\", \"tanh\"],\n",
    "    \"optimizer\": [\"adam\", \"sgd\"],\n",
    "    \"learning_rate\": [0.001, 0.005, 0.01, 0.05],\n",
    "    \"batch_size\": [16, 32, 64],\n",
    "    \"epochs\": [10, 20, 30]\n",
    "}\n"
   ]
  },
  {
   "cell_type": "code",
   "execution_count": 34,
   "id": "3d66e8e1",
   "metadata": {},
   "outputs": [],
   "source": [
    "with open('../pickle/4_Model_Optuna/results_dict_updated.pkl', 'rb') as f:\n",
    "    results_dict = pickle.load(f)"
   ]
  },
  {
   "cell_type": "code",
   "execution_count": 35,
   "id": "9da0501c",
   "metadata": {},
   "outputs": [],
   "source": [
    "with open('../pickle/3_Model/xgb_default_params.pkl', 'rb') as f:\n",
    "    default_params = pickle.load(f)\n"
   ]
  },
  {
   "cell_type": "markdown",
   "id": "f17786b4",
   "metadata": {},
   "source": [
    "# 2) Create Model prediction functions"
   ]
  },
  {
   "cell_type": "markdown",
   "id": "adb34446",
   "metadata": {},
   "source": [
    "## 2.1) Split dataset into train/testing while excluding demographic features"
   ]
  },
  {
   "cell_type": "code",
   "execution_count": 28,
   "id": "e7b26a06",
   "metadata": {},
   "outputs": [],
   "source": [
    "def split_data_4(df, key_featsubgroups=key_featsubgroups, target=target, test_size=0.2, random_state=42):\n",
    "    \"\"\"\n",
    "    Splits the dataset into training and testing sets while excluding demographic features.\n",
    "\n",
    "    Parameters:\n",
    "    df (DataFrame): The dataset containing features and target variable.\n",
    "    key_featsubgroups (DataFrame): A mapping of feature subgroups.\n",
    "    target (str): The name of the target variable.\n",
    "    test_size (float, optional): The proportion of the dataset to allocate for testing. Default is 0.2.\n",
    "    random_state (int, optional): Random seed for reproducibility. Default is 42.\n",
    "\n",
    "    Returns:\n",
    "    tuple: X_train, X_test, y_train, y_test (training and testing datasets)\n",
    "    \"\"\"\n",
    "\n",
    "    # Extract demographic features\n",
    "    demo_feat = key_featsubgroups.loc[key_featsubgroups['subgroup'] == 'demo', 'list_features'].values[0]\n",
    "    print(\"Demographic Features:\", demo_feat)\n",
    "\n",
    "    # Separate features (X) and target variable (y), excluding demographic features\n",
    "    X = df.drop(columns=[target] + demo_feat)\n",
    "    y = df[target]\n",
    "\n",
    "    # Split the dataset into training (80%) and testing (20%) sets\n",
    "    X_train, X_test, y_train, y_test = train_test_split(\n",
    "        X, y, test_size=test_size, random_state=random_state\n",
    "    )\n",
    "\n",
    "    # Print dataset shapes\n",
    "    print(f\"Training Features Shape: {X_train.shape}\")\n",
    "    print(f\"Training Labels Shape: {y_train.shape}\")\n",
    "    print(f\"Testing Features Shape: {X_test.shape}\")\n",
    "    print(f\"Testing Labels Shape: {y_test.shape}\")\n",
    "\n",
    "    return X_train, X_test, y_train, y_test"
   ]
  },
  {
   "cell_type": "markdown",
   "id": "28e3dc06",
   "metadata": {},
   "source": [
    "## 2.2) Model training and prediction"
   ]
  },
  {
   "cell_type": "code",
   "execution_count": 29,
   "id": "a526113f",
   "metadata": {},
   "outputs": [
    {
     "name": "stdout",
     "output_type": "stream",
     "text": [
      "Demographic Features: ['clientdata.demo.gender', 'clientdata.demo.age_year', 'clientdata.demo.age_month', 'clientdata.demo.children', 'clientdata.demo.children_singleparent', 'clientdata.demo.maritalstatus_expand_SINGLE', 'clientdata.demo.maritalstatus_expand_MARRIED', 'clientdata.demo.maritalstatus_expand_DIVORCED', 'clientdata.demo.maritalstatus_expand_WIDOWED', 'clientdata.demo.maritalstatus_expand_newvalue', 'clientdata.demo.maritalstatus_woe']\n",
      "Training Features Shape: (103565, 406)\n",
      "Training Labels Shape: (103565,)\n",
      "Testing Features Shape: (25892, 406)\n",
      "Testing Labels Shape: (25892,)\n"
     ]
    }
   ],
   "source": [
    "x_train, x_test, y_train, y_test = split_data_4(df)"
   ]
  },
  {
   "cell_type": "markdown",
   "id": "05f2aa27",
   "metadata": {},
   "source": [
    "# 7) Neural Network"
   ]
  },
  {
   "cell_type": "code",
   "execution_count": null,
   "id": "9d2a71ad",
   "metadata": {},
   "outputs": [],
   "source": [
    "def keras_nn(param_grid, df, results_dict):\n",
    "    \"\"\"\n",
    "    Performs Bayesian optimization for a Keras neural network using Optuna.\n",
    "\n",
    "    The network has:\n",
    "    - 406 input neurons (fixed)\n",
    "    - One hidden layer (size and activation tunable)\n",
    "    - One output neuron with sigmoid activation (binary classification)\n",
    "\n",
    "    Parameters\n",
    "    ----------\n",
    "    default_params : dict\n",
    "        Default hyperparameters (values as lists).\n",
    "    param_grid : dict\n",
    "        Search space for hyperparameters.\n",
    "    df : DataFrame\n",
    "        Input dataset.\n",
    "    results_dict : dict\n",
    "        Evaluation results dictionary.\n",
    "\n",
    "    Returns\n",
    "    -------\n",
    "    best_params : dict\n",
    "        Best-found parameters by Optuna.\n",
    "    results_dict : dict\n",
    "        Updated with evaluation metrics.\n",
    "    \"\"\"\n",
    "\n",
    "    # Replace with your own function\n",
    "    X_train, X_test, y_train, y_test = split_data_4(df)\n",
    "\n",
    "    n_trials = int(np.cumsum([len(v) for v in param_grid.values()])[-1])\n",
    "    print(\"No. of trials:\", n_trials)\n",
    "\n",
    "    def objective(trial):\n",
    "        params = {k: trial.suggest_categorical(k, v) for k, v in param_grid.items()}\n",
    "\n",
    "        model = Sequential()\n",
    "        model.add(Dense(params[\"hidden_layer_size\"], activation=params[\"activation\"], input_shape=(406,)))\n",
    "        model.add(Dense(1, activation=\"sigmoid\"))\n",
    "\n",
    "        optimizer = Adam(learning_rate=params[\"learning_rate\"]) if params[\"optimizer\"] == \"adam\" \\\n",
    "                   else SGD(learning_rate=params[\"learning_rate\"])\n",
    "\n",
    "        model.compile(optimizer=optimizer, loss=BinaryCrossentropy(), metrics=[\"accuracy\"])\n",
    "\n",
    "        history = model.fit(X_train, y_train, epochs=params[\"epochs\"], batch_size=params[\"batch_size\"],\n",
    "                            validation_split=0.2, verbose=0)\n",
    "\n",
    "        return history.history[\"val_accuracy\"][-1]\n",
    "\n",
    "    start_time = time.time()\n",
    "    study = optuna.create_study(direction=\"maximize\")\n",
    "    study.optimize(objective, n_trials=n_trials)\n",
    "\n",
    "    best_params = study.best_params\n",
    "\n",
    "    # Build and train final model\n",
    "    final_model = Sequential()\n",
    "    final_model.add(Dense(best_params[\"hidden_layer_size\"], activation=best_params[\"activation\"], input_shape=(406,)))\n",
    "    final_model.add(Dense(1, activation=\"sigmoid\"))\n",
    "\n",
    "    final_optimizer = Adam(learning_rate=best_params[\"learning_rate\"]) if best_params[\"optimizer\"] == \"adam\" \\\n",
    "                      else SGD(learning_rate=best_params[\"learning_rate\"])\n",
    "\n",
    "    final_model.compile(optimizer=final_optimizer, loss=BinaryCrossentropy(), metrics=[\"accuracy\"])\n",
    "    final_model.fit(X_train, y_train, batch_size=best_params[\"batch_size\"], epochs=best_params[\"epochs\"], verbose=0)\n",
    "\n",
    "    # Evaluate and log\n",
    "    results_dict = model_pred(X_train, X_test, y_train, y_test, final_model, 'keras_optuna', 'opt', results_dict)\n",
    "    print(f\"Optimization completed in {(time.time() - start_time) / 60:.2f} minutes\")\n",
    "\n",
    "    return best_params, results_dict\n"
   ]
  },
  {
   "cell_type": "code",
   "execution_count": null,
   "id": "e88b57ba",
   "metadata": {},
   "outputs": [],
   "source": [
    "best_params, results_dict = keras_nn(param_grid, df, results_dict)"
   ]
  },
  {
   "cell_type": "code",
   "execution_count": null,
   "id": "fafe4375",
   "metadata": {},
   "outputs": [],
   "source": []
  }
 ],
 "metadata": {
  "kernelspec": {
   "display_name": "datachange_work",
   "language": "python",
   "name": "python3"
  },
  "language_info": {
   "codemirror_mode": {
    "name": "ipython",
    "version": 3
   },
   "file_extension": ".py",
   "mimetype": "text/x-python",
   "name": "python",
   "nbconvert_exporter": "python",
   "pygments_lexer": "ipython3",
   "version": "3.12.9"
  }
 },
 "nbformat": 4,
 "nbformat_minor": 5
}
