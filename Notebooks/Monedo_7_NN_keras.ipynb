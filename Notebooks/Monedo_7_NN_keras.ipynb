{
 "cells": [
  {
   "cell_type": "markdown",
   "id": "b821a5d2",
   "metadata": {},
   "source": [
    "# Imports"
   ]
  },
  {
   "cell_type": "code",
   "execution_count": 1,
   "id": "c11485d0",
   "metadata": {},
   "outputs": [
    {
     "name": "stderr",
     "output_type": "stream",
     "text": [
      "/home/RDC/fliegebe/.conda/envs/Work/lib/python3.12/site-packages/tqdm/auto.py:21: TqdmWarning: IProgress not found. Please update jupyter and ipywidgets. See https://ipywidgets.readthedocs.io/en/stable/user_install.html\n",
      "  from .autonotebook import tqdm as notebook_tqdm\n",
      "2025-06-10 14:07:33.159648: I tensorflow/core/util/port.cc:153] oneDNN custom operations are on. You may see slightly different numerical results due to floating-point round-off errors from different computation orders. To turn them off, set the environment variable `TF_ENABLE_ONEDNN_OPTS=0`.\n",
      "2025-06-10 14:07:33.160941: I external/local_xla/xla/tsl/cuda/cudart_stub.cc:32] Could not find cuda drivers on your machine, GPU will not be used.\n",
      "2025-06-10 14:07:33.163876: I external/local_xla/xla/tsl/cuda/cudart_stub.cc:32] Could not find cuda drivers on your machine, GPU will not be used.\n",
      "2025-06-10 14:07:33.172485: E external/local_xla/xla/stream_executor/cuda/cuda_fft.cc:467] Unable to register cuFFT factory: Attempting to register factory for plugin cuFFT when one has already been registered\n",
      "WARNING: All log messages before absl::InitializeLog() is called are written to STDERR\n",
      "E0000 00:00:1749557253.187272  555382 cuda_dnn.cc:8579] Unable to register cuDNN factory: Attempting to register factory for plugin cuDNN when one has already been registered\n",
      "E0000 00:00:1749557253.191684  555382 cuda_blas.cc:1407] Unable to register cuBLAS factory: Attempting to register factory for plugin cuBLAS when one has already been registered\n",
      "W0000 00:00:1749557253.202772  555382 computation_placer.cc:177] computation placer already registered. Please check linkage and avoid linking the same target more than once.\n",
      "W0000 00:00:1749557253.202784  555382 computation_placer.cc:177] computation placer already registered. Please check linkage and avoid linking the same target more than once.\n",
      "W0000 00:00:1749557253.202785  555382 computation_placer.cc:177] computation placer already registered. Please check linkage and avoid linking the same target more than once.\n",
      "W0000 00:00:1749557253.202786  555382 computation_placer.cc:177] computation placer already registered. Please check linkage and avoid linking the same target more than once.\n",
      "2025-06-10 14:07:33.207102: I tensorflow/core/platform/cpu_feature_guard.cc:210] This TensorFlow binary is optimized to use available CPU instructions in performance-critical operations.\n",
      "To enable the following instructions: AVX2 AVX512F AVX512_VNNI FMA, in other operations, rebuild TensorFlow with the appropriate compiler flags.\n"
     ]
    }
   ],
   "source": [
    "%run Imports.ipynb\n",
    "from tensorflow.keras.models import Sequential\n",
    "from tensorflow.keras.layers import Dense\n",
    "from tensorflow.keras.optimizers import Adam, SGD\n",
    "from tensorflow.keras.losses import BinaryCrossentropy\n",
    "from sklearn.model_selection import train_test_split\n",
    "from sklearn.metrics import accuracy_score\n",
    "\n",
    "name = 'Kred'\n",
    "\n",
    "key_featsubgroups = pd.read_pickle('../pickle/2_FS/' + name + '/key_featsubgroups.pkl')\n",
    "df = pd.read_pickle('../pickle/2_FS/' + name + '/2_df_new_.pkl')"
   ]
  },
  {
   "cell_type": "code",
   "execution_count": 2,
   "id": "76b59ac7",
   "metadata": {},
   "outputs": [
    {
     "data": {
      "text/plain": [
       "'2.1.3'"
      ]
     },
     "execution_count": 2,
     "metadata": {},
     "output_type": "execute_result"
    }
   ],
   "source": [
    "np.__version__"
   ]
  },
  {
   "cell_type": "code",
   "execution_count": 3,
   "id": "ba68a942",
   "metadata": {},
   "outputs": [
    {
     "name": "stdout",
     "output_type": "stream",
     "text": [
      "arrears\n",
      "1   0.646\n",
      "0   0.354\n",
      "Name: count, dtype: float64\n",
      "df_shape:  (129457, 418)\n"
     ]
    }
   ],
   "source": [
    "print(df[target].value_counts()/df.shape[0])\n",
    "print('df_shape: ', df.shape)"
   ]
  },
  {
   "cell_type": "code",
   "execution_count": 4,
   "id": "693c2462",
   "metadata": {},
   "outputs": [],
   "source": [
    "param_grid = {\n",
    "    \"hidden_layer_size\": [16, 32, 64, 128, 200, 256, 300, 350, 400, 406],\n",
    "    \"activation\": [\"relu\", \"tanh\"],\n",
    "    \"optimizer\": [\"adam\", \"sgd\"],\n",
    "    \"learning_rate\": [0.001, 0.005, 0.01, 0.05],\n",
    "    \"batch_size\": [16, 32, 64],\n",
    "    \"epochs\": [10, 20, 30]\n",
    "}\n"
   ]
  },
  {
   "cell_type": "code",
   "execution_count": 5,
   "id": "3d66e8e1",
   "metadata": {},
   "outputs": [],
   "source": [
    "with open('../pickle/4_Model_Optuna/results_dict_updated.pkl', 'rb') as f:\n",
    "    results_dict = pickle.load(f)"
   ]
  },
  {
   "cell_type": "code",
   "execution_count": 6,
   "id": "9da0501c",
   "metadata": {},
   "outputs": [],
   "source": [
    "with open('../pickle/3_Model/xgb_default_params.pkl', 'rb') as f:\n",
    "    default_params = pickle.load(f)\n"
   ]
  },
  {
   "cell_type": "markdown",
   "id": "f17786b4",
   "metadata": {},
   "source": [
    "# 2) Create Model prediction functions"
   ]
  },
  {
   "cell_type": "markdown",
   "id": "adb34446",
   "metadata": {},
   "source": [
    "## 2.1) Split dataset into train/testing while excluding demographic features"
   ]
  },
  {
   "cell_type": "code",
   "execution_count": 7,
   "id": "e7b26a06",
   "metadata": {},
   "outputs": [],
   "source": [
    "def split_data_4(df, key_featsubgroups=key_featsubgroups, target=target, test_size=0.2, random_state=42):\n",
    "    \"\"\"\n",
    "    Splits the dataset into training and testing sets while excluding demographic features.\n",
    "\n",
    "    Parameters:\n",
    "    df (DataFrame): The dataset containing features and target variable.\n",
    "    key_featsubgroups (DataFrame): A mapping of feature subgroups.\n",
    "    target (str): The name of the target variable.\n",
    "    test_size (float, optional): The proportion of the dataset to allocate for testing. Default is 0.2.\n",
    "    random_state (int, optional): Random seed for reproducibility. Default is 42.\n",
    "\n",
    "    Returns:\n",
    "    tuple: X_train, X_test, y_train, y_test (training and testing datasets)\n",
    "    \"\"\"\n",
    "\n",
    "    # Extract demographic features\n",
    "    demo_feat = key_featsubgroups.loc[key_featsubgroups['subgroup'] == 'demo', 'list_features'].values[0]\n",
    "    print(\"Demographic Features:\", demo_feat)\n",
    "\n",
    "    # Separate features (X) and target variable (y), excluding demographic features\n",
    "    X = df.drop(columns=[target] + demo_feat)\n",
    "    y = df[target]\n",
    "\n",
    "    # Split the dataset into training (80%) and testing (20%) sets\n",
    "    X_train, X_test, y_train, y_test = train_test_split(\n",
    "        X, y, test_size=test_size, random_state=random_state\n",
    "    )\n",
    "\n",
    "    # Print dataset shapes\n",
    "    print(f\"Training Features Shape: {X_train.shape}\")\n",
    "    print(f\"Training Labels Shape: {y_train.shape}\")\n",
    "    print(f\"Testing Features Shape: {X_test.shape}\")\n",
    "    print(f\"Testing Labels Shape: {y_test.shape}\")\n",
    "\n",
    "    return X_train, X_test, y_train, y_test"
   ]
  },
  {
   "cell_type": "markdown",
   "id": "28e3dc06",
   "metadata": {},
   "source": [
    "## 2.2) Model training and prediction"
   ]
  },
  {
   "cell_type": "code",
   "execution_count": 8,
   "id": "a526113f",
   "metadata": {},
   "outputs": [
    {
     "name": "stdout",
     "output_type": "stream",
     "text": [
      "Demographic Features: ['clientdata.demo.gender', 'clientdata.demo.age_year', 'clientdata.demo.age_month', 'clientdata.demo.children', 'clientdata.demo.children_singleparent', 'clientdata.demo.maritalstatus_expand_SINGLE', 'clientdata.demo.maritalstatus_expand_MARRIED', 'clientdata.demo.maritalstatus_expand_DIVORCED', 'clientdata.demo.maritalstatus_expand_WIDOWED', 'clientdata.demo.maritalstatus_expand_newvalue', 'clientdata.demo.maritalstatus_woe']\n",
      "Training Features Shape: (103565, 406)\n",
      "Training Labels Shape: (103565,)\n",
      "Testing Features Shape: (25892, 406)\n",
      "Testing Labels Shape: (25892,)\n"
     ]
    }
   ],
   "source": [
    "x_train, x_test, y_train, y_test = split_data_4(df)"
   ]
  },
  {
   "cell_type": "code",
   "execution_count": 9,
   "id": "398677bf",
   "metadata": {},
   "outputs": [],
   "source": [
    "def keras_nn(default_params, param_grid, df, results_dict):\n",
    "    \"\"\"\n",
    "    Performs Bayesian hyperparameter optimization for a Keras-based neural network using Optuna.\n",
    "    Only one hidden layer is used; its size and other hyperparameters are optimized.\n",
    "\n",
    "    Parameters:\n",
    "    -----------\n",
    "    default_params : dict\n",
    "        Default hyperparameters (each as a list).\n",
    "    param_grid : dict\n",
    "        Search space for hyperparameters.\n",
    "    df : DataFrame\n",
    "        Input data with features and target.\n",
    "    results_dict : dict\n",
    "        Dictionary to store results.\n",
    "\n",
    "    Returns:\n",
    "    --------\n",
    "    best_params : dict\n",
    "        Best hyperparameters found by Optuna.\n",
    "    results_dict : dict\n",
    "        Updated with evaluation metrics.\n",
    "    \"\"\"\n",
    "    \n",
    "    start_time = time.time()\n",
    "    X_train, X_test, y_train, y_test = split_data_4(df)\n",
    "\n",
    "    n_trials = int(np.cumsum([len(v) for v in param_grid.values()])[-1])\n",
    "    print(\"No. of trials:\", n_trials)\n",
    "\n",
    "    def objective(trial):\n",
    "        # Sample hyperparameters\n",
    "        params = {k: trial.suggest_categorical(k, v) for k, v in param_grid.items()}\n",
    "\n",
    "        model = Sequential()\n",
    "        model.add(Dense(params[\"hidden_layer_size\"], activation=params[\"activation\"], input_shape=(X_train.shape[1],)))\n",
    "        model.add(Dense(1, activation=\"sigmoid\"))\n",
    "\n",
    "        optimizer = Adam(learning_rate=params[\"learning_rate\"]) if params[\"optimizer\"] == \"adam\" else SGD(learning_rate=params[\"learning_rate\"])\n",
    "        model.compile(optimizer=optimizer, loss=BinaryCrossentropy(), metrics=[\"accuracy\"])\n",
    "\n",
    "        history = model.fit(X_train, y_train, validation_split=0.2, batch_size=params[\"batch_size\"], epochs=params[\"epochs\"], verbose=0)\n",
    "        val_acc = history.history[\"val_accuracy\"][-1]\n",
    "\n",
    "        return val_acc\n",
    "\n",
    "    study = optuna.create_study(direction=\"maximize\")\n",
    "    study.optimize(objective, n_trials=n_trials)\n",
    "\n",
    "    best_params = study.best_params\n",
    "\n",
    "    # Train final model\n",
    "    final_model = Sequential()\n",
    "    final_model.add(Dense(best_params[\"hidden_layer_size\"], activation=best_params[\"activation\"], input_shape=(X_train.shape[1],)))\n",
    "    final_model.add(Dense(1, activation=\"sigmoid\"))\n",
    "    final_optimizer = Adam(learning_rate=best_params[\"learning_rate\"]) if best_params[\"optimizer\"] == \"adam\" else SGD(learning_rate=best_params[\"learning_rate\"])\n",
    "    final_model.compile(optimizer=final_optimizer, loss=BinaryCrossentropy(), metrics=[\"accuracy\"])\n",
    "    final_model.fit(X_train, y_train, batch_size=best_params[\"batch_size\"], epochs=best_params[\"epochs\"], verbose=0)\n",
    "\n",
    "    results_dict = model_pred(X_train, X_test, y_train, y_test, final_model, 'keras_optuna', 'opt', results_dict)\n",
    "\n",
    "    print(f\"Optimization completed in {(time.time() - start_time) / 60:.2f} minutes\")\n",
    "    return best_params, results_dict\n"
   ]
  },
  {
   "cell_type": "markdown",
   "id": "05f2aa27",
   "metadata": {},
   "source": [
    "# 7) Neural Network"
   ]
  },
  {
   "cell_type": "code",
   "execution_count": 10,
   "id": "9d2a71ad",
   "metadata": {},
   "outputs": [],
   "source": [
    "import time\n",
    "from copy import deepcopy\n",
    "import numpy as np\n",
    "import optuna\n",
    "from sklearn.metrics import (\n",
    "    confusion_matrix,\n",
    "    accuracy_score,\n",
    "    f1_score,\n",
    "    roc_auc_score\n",
    ")\n",
    "from tensorflow.keras.models import Sequential\n",
    "from tensorflow.keras.layers import Dense\n",
    "from tensorflow.keras.optimizers import Adam, SGD\n",
    "\n",
    "def keras_nn(param_grid, df, results_dict):\n",
    "    \"\"\"\n",
    "    Tunes and trains a single-hidden-layer Keras NN via Optuna,\n",
    "    evaluates performance, and stores results in the given dictionary.\n",
    "\n",
    "    Network architecture:\n",
    "    - Input layer: 406 features\n",
    "    - Hidden layer: size & activation from param_grid\n",
    "    - Output layer: 1 neuron, sigmoid\n",
    "\n",
    "    Parameters:\n",
    "    -----------\n",
    "    param_grid : dict\n",
    "        Search space for Optuna. Keys should include:\n",
    "        \"hidden_layer_size\", \"activation\", \"optimizer\",\n",
    "        \"learning_rate\", \"batch_size\", \"epochs\"\n",
    "    df : DataFrame\n",
    "        Dataset containing features and the target.\n",
    "    results_dict : dict\n",
    "        Dictionary to store model performance metrics.\n",
    "\n",
    "    Returns:\n",
    "    --------\n",
    "    best_params : dict\n",
    "        Best parameters found by Optuna.\n",
    "    results_dict : dict\n",
    "        Updated results dictionary containing model evaluation metrics.\n",
    "    \"\"\"\n",
    "    start_time = time.time()\n",
    "    print(\"\\nStarting Optuna hyperparameter search for Keras NN...\")\n",
    "\n",
    "    # split_data_4 must return X_train, X_test, y_train, y_test\n",
    "    X_train, X_test, y_train, y_test = split_data_4(df)\n",
    "\n",
    "    # determine total number of trials\n",
    "    n_trials = int(np.sum([len(v) for v in param_grid.values()]))\n",
    "    print(f\"No. of trials scheduled: {n_trials}\")\n",
    "\n",
    "    def objective(trial):\n",
    "        # sample hyperparameters\n",
    "        params = {k: trial.suggest_categorical(k, v)\n",
    "                  for k, v in param_grid.items()}\n",
    "\n",
    "        # build model\n",
    "        model = Sequential([\n",
    "            Dense(params[\"hidden_layer_size\"],\n",
    "                  activation=params[\"activation\"],\n",
    "                  input_shape=(X_train.shape[1],)),\n",
    "            Dense(1, activation=\"sigmoid\")\n",
    "        ])\n",
    "\n",
    "        # choose optimizer\n",
    "        opt = (Adam(params[\"learning_rate\"])\n",
    "               if params[\"optimizer\"] == \"adam\"\n",
    "               else SGD(params[\"learning_rate\"]))\n",
    "\n",
    "        model.compile(\n",
    "            optimizer=opt,\n",
    "            loss=\"binary_crossentropy\",\n",
    "            metrics=[\"accuracy\"]\n",
    "        )\n",
    "\n",
    "        # train with validation split\n",
    "        history = model.fit(\n",
    "            X_train, y_train,\n",
    "            epochs=params[\"epochs\"],\n",
    "            batch_size=params[\"batch_size\"],\n",
    "            validation_split=0.2,\n",
    "            verbose=0\n",
    "        )\n",
    "        return history.history[\"val_accuracy\"][-1]\n",
    "\n",
    "    # run Optuna\n",
    "    study = optuna.create_study(direction=\"maximize\")\n",
    "    study.optimize(objective, n_trials=n_trials)\n",
    "\n",
    "    best_params = study.best_params\n",
    "    print(\"Best hyperparameters found:\", best_params)\n",
    "\n",
    "    # build & train final model\n",
    "    final_model = Sequential([\n",
    "        Dense(best_params[\"hidden_layer_size\"],\n",
    "              activation=best_params[\"activation\"],\n",
    "              input_shape=(X_train.shape[1],)),\n",
    "        Dense(1, activation=\"sigmoid\")\n",
    "    ])\n",
    "    final_opt = (Adam(best_params[\"learning_rate\"])\n",
    "                 if best_params[\"optimizer\"] == \"adam\"\n",
    "                 else SGD(best_params[\"learning_rate\"]))\n",
    "    final_model.compile(\n",
    "        optimizer=final_opt,\n",
    "        loss=\"binary_crossentropy\",\n",
    "        metrics=[\"accuracy\"]\n",
    "    )\n",
    "    final_model.fit(\n",
    "        X_train, y_train,\n",
    "        epochs=best_params[\"epochs\"],\n",
    "        batch_size=best_params[\"batch_size\"],\n",
    "        verbose=0\n",
    "    )\n",
    "\n",
    "    # get cross-validated train predictions\n",
    "    from sklearn.model_selection import StratifiedKFold\n",
    "    skf = StratifiedKFold(n_splits=5, shuffle=True, random_state=0)\n",
    "    y_train_pred = np.zeros_like(y_train)\n",
    "    for tr_idx, val_idx in skf.split(X_train, y_train):\n",
    "        fold_model = Sequential([\n",
    "            Dense(best_params[\"hidden_layer_size\"],\n",
    "                  activation=best_params[\"activation\"],\n",
    "                  input_shape=(X_train.shape[1],)),\n",
    "            Dense(1, activation=\"sigmoid\")\n",
    "        ])\n",
    "        fold_model.compile(\n",
    "            optimizer=final_opt,\n",
    "            loss=\"binary_crossentropy\",\n",
    "            metrics=[\"accuracy\"]\n",
    "        )\n",
    "        fold_model.fit(\n",
    "            X_train[tr_idx], y_train[tr_idx],\n",
    "            epochs=best_params[\"epochs\"],\n",
    "            batch_size=best_params[\"batch_size\"],\n",
    "            verbose=0\n",
    "        )\n",
    "        y_train_pred[val_idx] = (fold_model.predict(X_train[val_idx])[:,0] > 0.5).astype(int)\n",
    "\n",
    "    # test set predictions\n",
    "    y_test_proba = final_model.predict(X_test)[:,0]\n",
    "    y_test_pred  = (y_test_proba > 0.5).astype(int)\n",
    "\n",
    "    # compute metrics\n",
    "    cfm_train    = confusion_matrix(y_train, y_train_pred)\n",
    "    cfm_test     = confusion_matrix(y_test,  y_test_pred)\n",
    "    acc_train    = accuracy_score(y_train, y_train_pred)\n",
    "    acc_test     = accuracy_score(y_test,  y_test_pred)\n",
    "    f1_train_1   = f1_score(y_train, y_train_pred, pos_label=1)\n",
    "    f1_train_0   = f1_score(y_train, y_train_pred, pos_label=0)\n",
    "    f1_test_1    = f1_score(y_test,  y_test_pred,  pos_label=1)\n",
    "    f1_test_0    = f1_score(y_test,  y_test_pred,  pos_label=0)\n",
    "    roc_auc_test = roc_auc_score(y_test, y_test_proba)\n",
    "\n",
    "    total_time = (time.time() - start_time) / 60\n",
    "    print(f\"Keras NN optimization & training completed in {total_time:.2f} minutes\")\n",
    "\n",
    "    # store results\n",
    "    results_dict[\"keras_nn\"] = {\n",
    "        \"model\":                 deepcopy(final_model),\n",
    "        \"cfm_train\":             cfm_train,\n",
    "        \"cfm_test\":              cfm_test,\n",
    "        \"train_accuracy\":        acc_train,\n",
    "        \"test_accuracy\":         acc_test,\n",
    "        \"train F1-score label 1\": f1_train_1,\n",
    "        \"train F1-score label 0\": f1_train_0,\n",
    "        \"test F1-score label 1\":  f1_test_1,\n",
    "        \"test F1-score label 0\":  f1_test_0,\n",
    "        \"test roc auc score\":     roc_auc_test,\n",
    "        \"param_grid\":             param_grid,\n",
    "        \"best_params\":            best_params,\n",
    "        \"time_m\":                 total_time\n",
    "    }\n",
    "\n",
    "    return best_params, results_dict\n"
   ]
  },
  {
   "cell_type": "code",
   "execution_count": null,
   "id": "e88b57ba",
   "metadata": {},
   "outputs": [
    {
     "name": "stdout",
     "output_type": "stream",
     "text": [
      "\n",
      "Starting Optuna hyperparameter search for Keras NN...\n",
      "Demographic Features: ['clientdata.demo.gender', 'clientdata.demo.age_year', 'clientdata.demo.age_month', 'clientdata.demo.children', 'clientdata.demo.children_singleparent', 'clientdata.demo.maritalstatus_expand_SINGLE', 'clientdata.demo.maritalstatus_expand_MARRIED', 'clientdata.demo.maritalstatus_expand_DIVORCED', 'clientdata.demo.maritalstatus_expand_WIDOWED', 'clientdata.demo.maritalstatus_expand_newvalue', 'clientdata.demo.maritalstatus_woe']\n"
     ]
    },
    {
     "name": "stderr",
     "output_type": "stream",
     "text": [
      "[I 2025-06-10 14:08:02,992] A new study created in memory with name: no-name-e1f9274c-e961-4b85-be65-4420450ae8d0\n"
     ]
    },
    {
     "name": "stdout",
     "output_type": "stream",
     "text": [
      "Training Features Shape: (103565, 406)\n",
      "Training Labels Shape: (103565,)\n",
      "Testing Features Shape: (25892, 406)\n",
      "Testing Labels Shape: (25892,)\n",
      "No. of trials scheduled: 24\n"
     ]
    },
    {
     "name": "stderr",
     "output_type": "stream",
     "text": [
      "E0000 00:00:1749557283.014266  555382 cuda_executor.cc:1228] INTERNAL: CUDA Runtime error: Failed call to cudaGetRuntimeVersion: Error loading CUDA libraries. GPU will not be used.: Error loading CUDA libraries. GPU will not be used.\n",
      "E0000 00:00:1749557283.015869  555382 cuda_executor.cc:1228] INTERNAL: CUDA Runtime error: Failed call to cudaGetRuntimeVersion: Error loading CUDA libraries. GPU will not be used.: Error loading CUDA libraries. GPU will not be used.\n",
      "E0000 00:00:1749557283.017535  555382 cuda_executor.cc:1228] INTERNAL: CUDA Runtime error: Failed call to cudaGetRuntimeVersion: Error loading CUDA libraries. GPU will not be used.: Error loading CUDA libraries. GPU will not be used.\n",
      "E0000 00:00:1749557283.018682  555382 cuda_executor.cc:1228] INTERNAL: CUDA Runtime error: Failed call to cudaGetRuntimeVersion: Error loading CUDA libraries. GPU will not be used.: Error loading CUDA libraries. GPU will not be used.\n",
      "W0000 00:00:1749557283.044518  555382 gpu_device.cc:2341] Cannot dlopen some GPU libraries. Please make sure the missing libraries mentioned above are installed properly if you would like to use GPU. Follow the guide at https://www.tensorflow.org/install/gpu for how to download and setup the required libraries for your platform.\n",
      "Skipping registering GPU devices...\n",
      "[I 2025-06-10 14:09:35,965] Trial 0 finished with value: 0.6418673992156982 and parameters: {'hidden_layer_size': 32, 'activation': 'relu', 'optimizer': 'adam', 'learning_rate': 0.05, 'batch_size': 32, 'epochs': 20}. Best is trial 0 with value: 0.6418673992156982.\n",
      "[I 2025-06-10 14:10:23,219] Trial 1 finished with value: 0.6420122385025024 and parameters: {'hidden_layer_size': 32, 'activation': 'tanh', 'optimizer': 'adam', 'learning_rate': 0.005, 'batch_size': 64, 'epochs': 20}. Best is trial 1 with value: 0.6420122385025024.\n",
      "[I 2025-06-10 14:11:57,999] Trial 2 finished with value: 0.6418673992156982 and parameters: {'hidden_layer_size': 64, 'activation': 'tanh', 'optimizer': 'adam', 'learning_rate': 0.005, 'batch_size': 32, 'epochs': 20}. Best is trial 1 with value: 0.6420122385025024.\n",
      "[I 2025-06-10 14:12:59,637] Trial 3 finished with value: 0.6419156789779663 and parameters: {'hidden_layer_size': 406, 'activation': 'relu', 'optimizer': 'adam', 'learning_rate': 0.05, 'batch_size': 64, 'epochs': 10}. Best is trial 1 with value: 0.6420122385025024.\n",
      "[I 2025-06-10 14:14:19,120] Trial 4 finished with value: 0.6419156789779663 and parameters: {'hidden_layer_size': 400, 'activation': 'relu', 'optimizer': 'sgd', 'learning_rate': 0.001, 'batch_size': 64, 'epochs': 20}. Best is trial 1 with value: 0.6420122385025024.\n",
      "[I 2025-06-10 14:15:09,736] Trial 5 finished with value: 0.6419639587402344 and parameters: {'hidden_layer_size': 32, 'activation': 'relu', 'optimizer': 'adam', 'learning_rate': 0.05, 'batch_size': 64, 'epochs': 20}. Best is trial 1 with value: 0.6420122385025024.\n",
      "[I 2025-06-10 14:19:28,488] Trial 6 finished with value: 0.3580842912197113 and parameters: {'hidden_layer_size': 128, 'activation': 'relu', 'optimizer': 'sgd', 'learning_rate': 0.005, 'batch_size': 16, 'epochs': 30}. Best is trial 1 with value: 0.6420122385025024.\n"
     ]
    }
   ],
   "source": [
    "best_params, results_dict = keras_nn(param_grid, df, results_dict)"
   ]
  },
  {
   "cell_type": "code",
   "execution_count": null,
   "id": "fafe4375",
   "metadata": {},
   "outputs": [],
   "source": [
    "with open('../pickle/7_Model/keras_nn_results.pkl', 'wb') as f:\n",
    "    pickle.dump(results_dict, f, pickle.HIGHEST_PROTOCOL)"
   ]
  },
  {
   "cell_type": "code",
   "execution_count": null,
   "id": "f7fe66d3",
   "metadata": {},
   "outputs": [],
   "source": [
    "with open('../pickle/7_Model/keras_nn_best_params.pkl', 'wb') as f:\n",
    "    pickle.dump(best_params, f, pickle.HIGHEST_PROTOCOL)"
   ]
  },
  {
   "cell_type": "code",
   "execution_count": null,
   "id": "8f5515bf",
   "metadata": {},
   "outputs": [],
   "source": []
  }
 ],
 "metadata": {
  "kernelspec": {
   "display_name": "Work",
   "language": "python",
   "name": "python3"
  },
  "language_info": {
   "codemirror_mode": {
    "name": "ipython",
    "version": 3
   },
   "file_extension": ".py",
   "mimetype": "text/x-python",
   "name": "python",
   "nbconvert_exporter": "python",
   "pygments_lexer": "ipython3",
   "version": "3.12.9"
  }
 },
 "nbformat": 4,
 "nbformat_minor": 5
}
