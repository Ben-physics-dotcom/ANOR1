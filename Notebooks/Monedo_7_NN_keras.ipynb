{
 "cells": [
  {
   "cell_type": "markdown",
   "id": "b821a5d2",
   "metadata": {},
   "source": [
    "# Imports"
   ]
  },
  {
   "cell_type": "code",
   "execution_count": 15,
   "id": "c11485d0",
   "metadata": {},
   "outputs": [],
   "source": [
    "%run Imports.ipynb\n",
    "import time\n",
    "from sklearn.model_selection import StratifiedKFold\n",
    "from sklearn.metrics import (\n",
    "    confusion_matrix,\n",
    "    accuracy_score,\n",
    "    f1_score,\n",
    "    roc_auc_score\n",
    ")\n",
    "from tensorflow.keras.models import Sequential\n",
    "from tensorflow.keras.layers import Dense\n",
    "from tensorflow.keras.optimizers import Adam, SGD\n",
    "\n",
    "name = 'Kred'\n",
    "\n",
    "key_featsubgroups = pd.read_pickle('../pickle/2_FS/' + name + '/key_featsubgroups.pkl')\n",
    "df = pd.read_pickle('../pickle/2_FS/' + name + '/2_df_new_.pkl')"
   ]
  },
  {
   "cell_type": "code",
   "execution_count": 16,
   "id": "76b59ac7",
   "metadata": {},
   "outputs": [
    {
     "data": {
      "text/plain": [
       "'2.1.3'"
      ]
     },
     "execution_count": 16,
     "metadata": {},
     "output_type": "execute_result"
    }
   ],
   "source": [
    "np.__version__"
   ]
  },
  {
   "cell_type": "code",
   "execution_count": 17,
   "id": "ba68a942",
   "metadata": {},
   "outputs": [
    {
     "name": "stdout",
     "output_type": "stream",
     "text": [
      "arrears\n",
      "1   0.646\n",
      "0   0.354\n",
      "Name: count, dtype: float64\n",
      "df_shape:  (129457, 418)\n"
     ]
    }
   ],
   "source": [
    "print(df[target].value_counts()/df.shape[0])\n",
    "print('df_shape: ', df.shape)"
   ]
  },
  {
   "cell_type": "code",
   "execution_count": 18,
   "id": "693c2462",
   "metadata": {},
   "outputs": [],
   "source": [
    "param_grid = {\n",
    "    \"hidden_layer_size\": [16, 32, 64, 128, 200, 256, 300, 350, 400, 406],\n",
    "    \"activation\": [\"relu\", \"tanh\"],\n",
    "    \"optimizer\": [\"adam\", \"sgd\"],\n",
    "    \"learning_rate\": [0.001, 0.005, 0.01, 0.05],\n",
    "    \"batch_size\": [16, 32, 64],\n",
    "    \"epochs\": [10, 20, 30]\n",
    "}\n"
   ]
  },
  {
   "cell_type": "code",
   "execution_count": null,
   "id": "cfcb05aa",
   "metadata": {},
   "outputs": [],
   "source": [
    "# params grid to test function\n",
    "pg = {\n",
    "    \"hidden_layer_size\": [16, 32],\n",
    "    \"activation\": [\"relu\", \"tanh\"],\n",
    "    \"optimizer\": [\"adam\", \"sgd\"],\n",
    "    \"learning_rate\": [0.05],\n",
    "    \"batch_size\": [16],\n",
    "    \"epochs\": [10]\n",
    "}\n"
   ]
  },
  {
   "cell_type": "code",
   "execution_count": 19,
   "id": "3d66e8e1",
   "metadata": {},
   "outputs": [],
   "source": [
    "with open('../pickle/4_Model_Optuna/results_dict_updated.pkl', 'rb') as f:\n",
    "    results_dict = pickle.load(f)"
   ]
  },
  {
   "cell_type": "code",
   "execution_count": 20,
   "id": "9da0501c",
   "metadata": {},
   "outputs": [],
   "source": [
    "with open('../pickle/3_Model/xgb_default_params.pkl', 'rb') as f:\n",
    "    default_params = pickle.load(f)\n"
   ]
  },
  {
   "cell_type": "markdown",
   "id": "f17786b4",
   "metadata": {},
   "source": [
    "# 2) Create Model prediction functions"
   ]
  },
  {
   "cell_type": "markdown",
   "id": "adb34446",
   "metadata": {},
   "source": [
    "## 2.1) Split dataset into train/testing while excluding demographic features"
   ]
  },
  {
   "cell_type": "code",
   "execution_count": 21,
   "id": "e7b26a06",
   "metadata": {},
   "outputs": [],
   "source": [
    "def split_data_4(df, key_featsubgroups=key_featsubgroups, target=target, test_size=0.2, random_state=42):\n",
    "    \"\"\"\n",
    "    Splits the dataset into training and testing sets while excluding demographic features.\n",
    "\n",
    "    Parameters:\n",
    "    df (DataFrame): The dataset containing features and target variable.\n",
    "    key_featsubgroups (DataFrame): A mapping of feature subgroups.\n",
    "    target (str): The name of the target variable.\n",
    "    test_size (float, optional): The proportion of the dataset to allocate for testing. Default is 0.2.\n",
    "    random_state (int, optional): Random seed for reproducibility. Default is 42.\n",
    "\n",
    "    Returns:\n",
    "    tuple: X_train, X_test, y_train, y_test (training and testing datasets)\n",
    "    \"\"\"\n",
    "\n",
    "    # Extract demographic features\n",
    "    demo_feat = key_featsubgroups.loc[key_featsubgroups['subgroup'] == 'demo', 'list_features'].values[0]\n",
    "    print(\"Demographic Features:\", demo_feat)\n",
    "\n",
    "    # Separate features (X) and target variable (y), excluding demographic features\n",
    "    X = df.drop(columns=[target] + demo_feat)\n",
    "    y = df[target]\n",
    "\n",
    "    # Split the dataset into training (80%) and testing (20%) sets\n",
    "    X_train, X_test, y_train, y_test = train_test_split(\n",
    "        X, y, test_size=test_size, random_state=random_state\n",
    "    )\n",
    "\n",
    "    # Print dataset shapes\n",
    "    print(f\"Training Features Shape: {X_train.shape}\")\n",
    "    print(f\"Training Labels Shape: {y_train.shape}\")\n",
    "    print(f\"Testing Features Shape: {X_test.shape}\")\n",
    "    print(f\"Testing Labels Shape: {y_test.shape}\")\n",
    "\n",
    "    return X_train, X_test, y_train, y_test"
   ]
  },
  {
   "cell_type": "markdown",
   "id": "28e3dc06",
   "metadata": {},
   "source": [
    "## 2.2) Model training and prediction"
   ]
  },
  {
   "cell_type": "code",
   "execution_count": 22,
   "id": "a526113f",
   "metadata": {},
   "outputs": [
    {
     "name": "stdout",
     "output_type": "stream",
     "text": [
      "Demographic Features: ['clientdata.demo.gender', 'clientdata.demo.age_year', 'clientdata.demo.age_month', 'clientdata.demo.children', 'clientdata.demo.children_singleparent', 'clientdata.demo.maritalstatus_expand_SINGLE', 'clientdata.demo.maritalstatus_expand_MARRIED', 'clientdata.demo.maritalstatus_expand_DIVORCED', 'clientdata.demo.maritalstatus_expand_WIDOWED', 'clientdata.demo.maritalstatus_expand_newvalue', 'clientdata.demo.maritalstatus_woe']\n",
      "Training Features Shape: (103565, 406)\n",
      "Training Labels Shape: (103565,)\n",
      "Testing Features Shape: (25892, 406)\n",
      "Testing Labels Shape: (25892,)\n"
     ]
    }
   ],
   "source": [
    "x_train, x_test, y_train, y_test = split_data_4(df)"
   ]
  },
  {
   "cell_type": "code",
   "execution_count": 23,
   "id": "398677bf",
   "metadata": {},
   "outputs": [],
   "source": [
    "def keras_nn(param_grid, df, results_dict):\n",
    "    \"\"\"\n",
    "    Tunes and trains a single-hidden-layer Keras NN via Optuna,\n",
    "    evaluates performance, and stores results in the given dictionary.\n",
    "\n",
    "    Architecture:\n",
    "    - Input layer: 406 features\n",
    "    - Hidden layer: size & activation from param_grid\n",
    "    - Output layer: 1 neuron, sigmoid\n",
    "\n",
    "    Parameters:\n",
    "    -----------\n",
    "    param_grid : dict\n",
    "        Search space for Optuna. Keys: \n",
    "        \"hidden_layer_size\", \"activation\", \"optimizer\",\n",
    "        \"learning_rate\", \"batch_size\", \"epochs\"\n",
    "    df : DataFrame\n",
    "        Dataset containing features and the target.\n",
    "    results_dict : dict\n",
    "        Dictionary to store model performance metrics.\n",
    "\n",
    "    Returns:\n",
    "    --------\n",
    "    best_params : dict\n",
    "        Best parameters found by Optuna.\n",
    "    results_dict : dict\n",
    "        Updated results dictionary containing model evaluation metrics.\n",
    "    \"\"\"\n",
    "    start_time = time.time()\n",
    "    print(\"\\nStarting Optuna hyperparameter search for Keras NN...\")\n",
    "\n",
    "    # split_data_4 must return pandas DataFrames/Series\n",
    "    X_train, X_test, y_train, y_test = split_data_4(df)\n",
    "\n",
    "    # total trials = sum of grid sizes\n",
    "    n_trials = int(np.sum([len(v) for v in param_grid.values()]))\n",
    "    print(f\"No. of trials scheduled: {n_trials}\")\n",
    "\n",
    "    def objective(trial):\n",
    "        # sample hyperparameters\n",
    "        params = {k: trial.suggest_categorical(k, v)\n",
    "                  for k, v in param_grid.items()}\n",
    "\n",
    "        # build model\n",
    "        model = Sequential([\n",
    "            Dense(params[\"hidden_layer_size\"],\n",
    "                  activation=params[\"activation\"],\n",
    "                  input_shape=(X_train.shape[1],)),\n",
    "            Dense(1, activation=\"sigmoid\")\n",
    "        ])\n",
    "\n",
    "        # choose optimizer\n",
    "        optimizer = (Adam(params[\"learning_rate\"])\n",
    "                     if params[\"optimizer\"] == \"adam\"\n",
    "                     else SGD(params[\"learning_rate\"]))\n",
    "\n",
    "        model.compile(\n",
    "            optimizer=optimizer,\n",
    "            loss=\"binary_crossentropy\",\n",
    "            metrics=[\"accuracy\"]\n",
    "        )\n",
    "\n",
    "        # train & return validation accuracy\n",
    "        history = model.fit(\n",
    "            X_train, y_train,\n",
    "            epochs=params[\"epochs\"],\n",
    "            batch_size=params[\"batch_size\"],\n",
    "            validation_split=0.2,\n",
    "            verbose=0\n",
    "        )\n",
    "        return history.history[\"val_accuracy\"][-1]\n",
    "\n",
    "    # run Optuna\n",
    "    study = optuna.create_study(direction=\"maximize\")\n",
    "    study.optimize(objective, n_trials=n_trials)\n",
    "\n",
    "    best_params = study.best_params\n",
    "    print(\"Best hyperparameters found:\", best_params)\n",
    "\n",
    "    # build & train final model\n",
    "    final_model = Sequential([\n",
    "        Dense(best_params[\"hidden_layer_size\"],\n",
    "              activation=best_params[\"activation\"],\n",
    "              input_shape=(X_train.shape[1],)),\n",
    "        Dense(1, activation=\"sigmoid\")\n",
    "    ])\n",
    "    final_optimizer = (Adam(best_params[\"learning_rate\"])\n",
    "                       if best_params[\"optimizer\"] == \"adam\"\n",
    "                       else SGD(best_params[\"learning_rate\"]))\n",
    "    final_model.compile(\n",
    "        optimizer=final_optimizer,\n",
    "        loss=\"binary_crossentropy\",\n",
    "        metrics=[\"accuracy\"]\n",
    "    )\n",
    "    final_model.fit(\n",
    "        X_train, y_train,\n",
    "        epochs=best_params[\"epochs\"],\n",
    "        batch_size=best_params[\"batch_size\"],\n",
    "        verbose=0\n",
    "    )\n",
    "\n",
    "    # cross-validated predictions on train set using iloc\n",
    "    skf = StratifiedKFold(n_splits=5, shuffle=True, random_state=0)\n",
    "    y_train_pred = np.zeros(len(y_train), dtype=int)\n",
    "    for train_idx, val_idx in skf.split(X_train, y_train):\n",
    "        fold_X_tr = X_train.iloc[train_idx]\n",
    "        fold_y_tr = y_train.iloc[train_idx]\n",
    "        fold_X_val = X_train.iloc[val_idx]\n",
    "\n",
    "        # re-build & train for this fold\n",
    "        fold_model = Sequential([\n",
    "            Dense(best_params[\"hidden_layer_size\"],\n",
    "                  activation=best_params[\"activation\"],\n",
    "                  input_shape=(X_train.shape[1],)),\n",
    "            Dense(1, activation=\"sigmoid\")\n",
    "        ])\n",
    "        fold_model.compile(\n",
    "            optimizer=final_optimizer,\n",
    "            loss=\"binary_crossentropy\",\n",
    "            metrics=[\"accuracy\"]\n",
    "        )\n",
    "        fold_model.fit(\n",
    "            fold_X_tr, fold_y_tr,\n",
    "            epochs=best_params[\"epochs\"],\n",
    "            batch_size=best_params[\"batch_size\"],\n",
    "            verbose=0\n",
    "        )\n",
    "\n",
    "        preds = (fold_model.predict(fold_X_val)[:, 0] > 0.5).astype(int)\n",
    "        y_train_pred[val_idx] = preds\n",
    "\n",
    "    # test set predictions\n",
    "    y_test_proba = final_model.predict(X_test)[:, 0]\n",
    "    y_test_pred  = (y_test_proba > 0.5).astype(int)\n",
    "\n",
    "    # compute metrics\n",
    "    cfm_train    = confusion_matrix(y_train, y_train_pred)\n",
    "    cfm_test     = confusion_matrix(y_test,  y_test_pred)\n",
    "    acc_train    = accuracy_score(y_train, y_train_pred)\n",
    "    acc_test     = accuracy_score(y_test,  y_test_pred)\n",
    "    f1_train_1   = f1_score(y_train, y_train_pred, pos_label=1)\n",
    "    f1_train_0   = f1_score(y_train, y_train_pred, pos_label=0)\n",
    "    f1_test_1    = f1_score(y_test,  y_test_pred,  pos_label=1)\n",
    "    f1_test_0    = f1_score(y_test,  y_test_pred,  pos_label=0)\n",
    "    roc_auc_test = roc_auc_score(y_test, y_test_proba)\n",
    "\n",
    "    total_time = (time.time() - start_time) / 60\n",
    "    print(f\"Keras NN optimization & training completed in {total_time:.2f} minutes\")\n",
    "\n",
    "    # store everything\n",
    "    results_dict[\"keras_nn\"] = {\n",
    "        \"model\":                  deepcopy(final_model),\n",
    "        \"cfm_train\":              cfm_train,\n",
    "        \"cfm_test\":               cfm_test,\n",
    "        \"train_accuracy\":         acc_train,\n",
    "        \"test_accuracy\":          acc_test,\n",
    "        \"train F1-score label 1\": f1_train_1,\n",
    "        \"train F1-score label 0\": f1_train_0,\n",
    "        \"test F1-score label 1\":  f1_test_1,\n",
    "        \"test F1-score label 0\":  f1_test_0,\n",
    "        \"test roc auc score\":     roc_auc_test,\n",
    "        \"param_grid\":             param_grid,\n",
    "        \"best_params\":            best_params,\n",
    "        \"time_m\":                 total_time\n",
    "    }\n",
    "\n",
    "    return best_params, results_dict"
   ]
  },
  {
   "cell_type": "markdown",
   "id": "05f2aa27",
   "metadata": {},
   "source": [
    "# 7) Neural Network"
   ]
  },
  {
   "cell_type": "code",
   "execution_count": 26,
   "id": "e88b57ba",
   "metadata": {},
   "outputs": [
    {
     "name": "stdout",
     "output_type": "stream",
     "text": [
      "\n",
      "Starting Optuna hyperparameter search for Keras NN...\n",
      "Demographic Features: ['clientdata.demo.gender', 'clientdata.demo.age_year', 'clientdata.demo.age_month', 'clientdata.demo.children', 'clientdata.demo.children_singleparent', 'clientdata.demo.maritalstatus_expand_SINGLE', 'clientdata.demo.maritalstatus_expand_MARRIED', 'clientdata.demo.maritalstatus_expand_DIVORCED', 'clientdata.demo.maritalstatus_expand_WIDOWED', 'clientdata.demo.maritalstatus_expand_newvalue', 'clientdata.demo.maritalstatus_woe']\n"
     ]
    },
    {
     "name": "stderr",
     "output_type": "stream",
     "text": [
      "[I 2025-06-10 15:30:49,140] A new study created in memory with name: no-name-048c60b4-c1ff-4b08-a53e-51c41e969a58\n"
     ]
    },
    {
     "name": "stdout",
     "output_type": "stream",
     "text": [
      "Training Features Shape: (103565, 406)\n",
      "Training Labels Shape: (103565,)\n",
      "Testing Features Shape: (25892, 406)\n",
      "Testing Labels Shape: (25892,)\n",
      "No. of trials scheduled: 9\n"
     ]
    },
    {
     "name": "stderr",
     "output_type": "stream",
     "text": [
      "[I 2025-06-10 15:32:09,709] Trial 0 finished with value: 0.35948437452316284 and parameters: {'hidden_layer_size': 32, 'activation': 'tanh', 'optimizer': 'sgd', 'learning_rate': 0.05, 'batch_size': 16, 'epochs': 10}. Best is trial 0 with value: 0.35948437452316284.\n",
      "[I 2025-06-10 15:33:32,710] Trial 1 finished with value: 0.6419156789779663 and parameters: {'hidden_layer_size': 32, 'activation': 'tanh', 'optimizer': 'adam', 'learning_rate': 0.05, 'batch_size': 16, 'epochs': 10}. Best is trial 1 with value: 0.6419156789779663.\n",
      "[I 2025-06-10 15:34:54,533] Trial 2 finished with value: 0.6420605182647705 and parameters: {'hidden_layer_size': 16, 'activation': 'tanh', 'optimizer': 'adam', 'learning_rate': 0.05, 'batch_size': 16, 'epochs': 10}. Best is trial 2 with value: 0.6420605182647705.\n",
      "[I 2025-06-10 15:36:13,164] Trial 3 finished with value: 0.3580842912197113 and parameters: {'hidden_layer_size': 16, 'activation': 'relu', 'optimizer': 'sgd', 'learning_rate': 0.05, 'batch_size': 16, 'epochs': 10}. Best is trial 2 with value: 0.6420605182647705.\n",
      "[I 2025-06-10 15:37:35,871] Trial 4 finished with value: 0.6419156789779663 and parameters: {'hidden_layer_size': 16, 'activation': 'relu', 'optimizer': 'adam', 'learning_rate': 0.05, 'batch_size': 16, 'epochs': 10}. Best is trial 2 with value: 0.6420605182647705.\n",
      "[I 2025-06-10 15:38:54,412] Trial 5 finished with value: 0.6418191194534302 and parameters: {'hidden_layer_size': 32, 'activation': 'tanh', 'optimizer': 'sgd', 'learning_rate': 0.05, 'batch_size': 16, 'epochs': 10}. Best is trial 2 with value: 0.6420605182647705.\n",
      "[I 2025-06-10 15:40:12,407] Trial 6 finished with value: 0.6419156789779663 and parameters: {'hidden_layer_size': 16, 'activation': 'tanh', 'optimizer': 'adam', 'learning_rate': 0.05, 'batch_size': 16, 'epochs': 10}. Best is trial 2 with value: 0.6420605182647705.\n",
      "[I 2025-06-10 15:41:42,882] Trial 7 finished with value: 0.6419639587402344 and parameters: {'hidden_layer_size': 16, 'activation': 'tanh', 'optimizer': 'adam', 'learning_rate': 0.05, 'batch_size': 16, 'epochs': 10}. Best is trial 2 with value: 0.6420605182647705.\n",
      "[I 2025-06-10 15:43:04,968] Trial 8 finished with value: 0.6419639587402344 and parameters: {'hidden_layer_size': 16, 'activation': 'relu', 'optimizer': 'adam', 'learning_rate': 0.05, 'batch_size': 16, 'epochs': 10}. Best is trial 2 with value: 0.6420605182647705.\n"
     ]
    },
    {
     "name": "stdout",
     "output_type": "stream",
     "text": [
      "Best hyperparameters found: {'hidden_layer_size': 16, 'activation': 'tanh', 'optimizer': 'adam', 'learning_rate': 0.05, 'batch_size': 16, 'epochs': 10}\n"
     ]
    },
    {
     "ename": "NotImplementedError",
     "evalue": "numpy() is only available when eager execution is enabled.",
     "output_type": "error",
     "traceback": [
      "\u001b[31m---------------------------------------------------------------------------\u001b[39m",
      "\u001b[31mNotImplementedError\u001b[39m                       Traceback (most recent call last)",
      "\u001b[36mCell\u001b[39m\u001b[36m \u001b[39m\u001b[32mIn[26]\u001b[39m\u001b[32m, line 1\u001b[39m\n\u001b[32m----> \u001b[39m\u001b[32m1\u001b[39m best_params, results_dict = \u001b[43mkeras_nn\u001b[49m\u001b[43m(\u001b[49m\u001b[43mpg\u001b[49m\u001b[43m,\u001b[49m\u001b[43m \u001b[49m\u001b[43mdf\u001b[49m\u001b[43m,\u001b[49m\u001b[43m \u001b[49m\u001b[43mresults_dict\u001b[49m\u001b[43m)\u001b[49m\n",
      "\u001b[36mCell\u001b[39m\u001b[36m \u001b[39m\u001b[32mIn[23]\u001b[39m\u001b[32m, line 122\u001b[39m, in \u001b[36mkeras_nn\u001b[39m\u001b[34m(param_grid, df, results_dict)\u001b[39m\n\u001b[32m    111\u001b[39m fold_model = Sequential([\n\u001b[32m    112\u001b[39m     Dense(best_params[\u001b[33m\"\u001b[39m\u001b[33mhidden_layer_size\u001b[39m\u001b[33m\"\u001b[39m],\n\u001b[32m    113\u001b[39m           activation=best_params[\u001b[33m\"\u001b[39m\u001b[33mactivation\u001b[39m\u001b[33m\"\u001b[39m],\n\u001b[32m    114\u001b[39m           input_shape=(X_train.shape[\u001b[32m1\u001b[39m],)),\n\u001b[32m    115\u001b[39m     Dense(\u001b[32m1\u001b[39m, activation=\u001b[33m\"\u001b[39m\u001b[33msigmoid\u001b[39m\u001b[33m\"\u001b[39m)\n\u001b[32m    116\u001b[39m ])\n\u001b[32m    117\u001b[39m fold_model.compile(\n\u001b[32m    118\u001b[39m     optimizer=final_optimizer,\n\u001b[32m    119\u001b[39m     loss=\u001b[33m\"\u001b[39m\u001b[33mbinary_crossentropy\u001b[39m\u001b[33m\"\u001b[39m,\n\u001b[32m    120\u001b[39m     metrics=[\u001b[33m\"\u001b[39m\u001b[33maccuracy\u001b[39m\u001b[33m\"\u001b[39m]\n\u001b[32m    121\u001b[39m )\n\u001b[32m--> \u001b[39m\u001b[32m122\u001b[39m \u001b[43mfold_model\u001b[49m\u001b[43m.\u001b[49m\u001b[43mfit\u001b[49m\u001b[43m(\u001b[49m\n\u001b[32m    123\u001b[39m \u001b[43m    \u001b[49m\u001b[43mfold_X_tr\u001b[49m\u001b[43m,\u001b[49m\u001b[43m \u001b[49m\u001b[43mfold_y_tr\u001b[49m\u001b[43m,\u001b[49m\n\u001b[32m    124\u001b[39m \u001b[43m    \u001b[49m\u001b[43mepochs\u001b[49m\u001b[43m=\u001b[49m\u001b[43mbest_params\u001b[49m\u001b[43m[\u001b[49m\u001b[33;43m\"\u001b[39;49m\u001b[33;43mepochs\u001b[39;49m\u001b[33;43m\"\u001b[39;49m\u001b[43m]\u001b[49m\u001b[43m,\u001b[49m\n\u001b[32m    125\u001b[39m \u001b[43m    \u001b[49m\u001b[43mbatch_size\u001b[49m\u001b[43m=\u001b[49m\u001b[43mbest_params\u001b[49m\u001b[43m[\u001b[49m\u001b[33;43m\"\u001b[39;49m\u001b[33;43mbatch_size\u001b[39;49m\u001b[33;43m\"\u001b[39;49m\u001b[43m]\u001b[49m\u001b[43m,\u001b[49m\n\u001b[32m    126\u001b[39m \u001b[43m    \u001b[49m\u001b[43mverbose\u001b[49m\u001b[43m=\u001b[49m\u001b[32;43m0\u001b[39;49m\n\u001b[32m    127\u001b[39m \u001b[43m\u001b[49m\u001b[43m)\u001b[49m\n\u001b[32m    129\u001b[39m preds = (fold_model.predict(fold_X_val)[:, \u001b[32m0\u001b[39m] > \u001b[32m0.5\u001b[39m).astype(\u001b[38;5;28mint\u001b[39m)\n\u001b[32m    130\u001b[39m y_train_pred[val_idx] = preds\n",
      "\u001b[36mFile \u001b[39m\u001b[32m~/.conda/envs/Work/lib/python3.12/site-packages/keras/src/utils/traceback_utils.py:122\u001b[39m, in \u001b[36mfilter_traceback.<locals>.error_handler\u001b[39m\u001b[34m(*args, **kwargs)\u001b[39m\n\u001b[32m    119\u001b[39m     filtered_tb = _process_traceback_frames(e.__traceback__)\n\u001b[32m    120\u001b[39m     \u001b[38;5;66;03m# To get the full stack trace, call:\u001b[39;00m\n\u001b[32m    121\u001b[39m     \u001b[38;5;66;03m# `keras.config.disable_traceback_filtering()`\u001b[39;00m\n\u001b[32m--> \u001b[39m\u001b[32m122\u001b[39m     \u001b[38;5;28;01mraise\u001b[39;00m e.with_traceback(filtered_tb) \u001b[38;5;28;01mfrom\u001b[39;00m\u001b[38;5;250m \u001b[39m\u001b[38;5;28;01mNone\u001b[39;00m\n\u001b[32m    123\u001b[39m \u001b[38;5;28;01mfinally\u001b[39;00m:\n\u001b[32m    124\u001b[39m     \u001b[38;5;28;01mdel\u001b[39;00m filtered_tb\n",
      "\u001b[36mFile \u001b[39m\u001b[32m~/.conda/envs/Work/lib/python3.12/site-packages/keras/src/backend/tensorflow/core.py:171\u001b[39m, in \u001b[36mconvert_to_numpy\u001b[39m\u001b[34m(x)\u001b[39m\n\u001b[32m    169\u001b[39m \u001b[38;5;28;01melif\u001b[39;00m \u001b[38;5;28misinstance\u001b[39m(x, tf.RaggedTensor):\n\u001b[32m    170\u001b[39m     x = x.to_tensor()\n\u001b[32m--> \u001b[39m\u001b[32m171\u001b[39m \u001b[38;5;28;01mreturn\u001b[39;00m \u001b[43mnp\u001b[49m\u001b[43m.\u001b[49m\u001b[43marray\u001b[49m\u001b[43m(\u001b[49m\u001b[43mx\u001b[49m\u001b[43m)\u001b[49m\n",
      "\u001b[31mNotImplementedError\u001b[39m: numpy() is only available when eager execution is enabled."
     ]
    }
   ],
   "source": [
    "best_params, results_dict = keras_nn(pg, df, results_dict)"
   ]
  },
  {
   "cell_type": "code",
   "execution_count": null,
   "id": "fafe4375",
   "metadata": {},
   "outputs": [],
   "source": [
    "with open('../pickle/7_Model/keras_nn_results.pkl', 'wb') as f:\n",
    "    pickle.dump(results_dict, f, pickle.HIGHEST_PROTOCOL)"
   ]
  },
  {
   "cell_type": "code",
   "execution_count": null,
   "id": "f7fe66d3",
   "metadata": {},
   "outputs": [],
   "source": [
    "with open('../pickle/7_Model/keras_nn_best_params.pkl', 'wb') as f:\n",
    "    pickle.dump(best_params, f, pickle.HIGHEST_PROTOCOL)"
   ]
  },
  {
   "cell_type": "code",
   "execution_count": null,
   "id": "8f5515bf",
   "metadata": {},
   "outputs": [],
   "source": []
  }
 ],
 "metadata": {
  "kernelspec": {
   "display_name": "Work",
   "language": "python",
   "name": "python3"
  },
  "language_info": {
   "codemirror_mode": {
    "name": "ipython",
    "version": 3
   },
   "file_extension": ".py",
   "mimetype": "text/x-python",
   "name": "python",
   "nbconvert_exporter": "python",
   "pygments_lexer": "ipython3",
   "version": "3.12.9"
  }
 },
 "nbformat": 4,
 "nbformat_minor": 5
}
