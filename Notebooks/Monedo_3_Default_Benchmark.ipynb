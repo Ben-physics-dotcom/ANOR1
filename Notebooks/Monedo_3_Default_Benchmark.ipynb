{
 "cells": [
  {
   "cell_type": "markdown",
   "id": "78df235a",
   "metadata": {},
   "source": [
    "# 1) Read in Files"
   ]
  },
  {
   "cell_type": "code",
   "execution_count": 1,
   "id": "9799522d",
   "metadata": {},
   "outputs": [
    {
     "name": "stderr",
     "output_type": "stream",
     "text": [
      "/home/RDC/fliegebe/.conda/envs/Work/lib/python3.12/site-packages/tqdm/auto.py:21: TqdmWarning: IProgress not found. Please update jupyter and ipywidgets. See https://ipywidgets.readthedocs.io/en/stable/user_install.html\n",
      "  from .autonotebook import tqdm as notebook_tqdm\n"
     ]
    }
   ],
   "source": [
    "%run Imports.ipynb\n",
    "name = 'Kred'\n",
    "\n",
    "key_featsubgroups = pd.read_pickle('../pickle/2_FS/' + name + '/key_featsubgroups.pkl')\n",
    "df = pd.read_pickle('../pickle/2_FS/' + name + '/2_df_new_.pkl')"
   ]
  },
  {
   "cell_type": "code",
   "execution_count": 2,
   "id": "6ec155b3-766f-4bdb-9953-c36c43c2d81f",
   "metadata": {},
   "outputs": [
    {
     "name": "stdout",
     "output_type": "stream",
     "text": [
      "arrears\n",
      "1   0.646\n",
      "0   0.354\n",
      "Name: count, dtype: float64\n",
      "df_shape:  (129457, 418)\n"
     ]
    }
   ],
   "source": [
    "print(df[target].value_counts()/df.shape[0])\n",
    "print('df_shape: ', df.shape)"
   ]
  },
  {
   "cell_type": "code",
   "execution_count": 3,
   "id": "c6314fd5",
   "metadata": {},
   "outputs": [
    {
     "name": "stdout",
     "output_type": "stream",
     "text": [
      "arrears\n"
     ]
    }
   ],
   "source": [
    "print(target)"
   ]
  },
  {
   "cell_type": "code",
   "execution_count": 4,
   "id": "ac63532b",
   "metadata": {},
   "outputs": [],
   "source": [
    "# from Ben\n",
    "import sys\n",
    "import os\n",
    "\n",
    "# Get the parent directory and add it to sys.path\n",
    "parent_dir = os.path.abspath(os.path.join(os.getcwd(), '..'))\n",
    "if parent_dir not in sys.path:\n",
    "    sys.path.insert(0, parent_dir)\n",
    "\n",
    "#from Functions_ANOR_Ben import feature_importance"
   ]
  },
  {
   "cell_type": "markdown",
   "id": "e33eba05",
   "metadata": {},
   "source": [
    "# 2) Create Model prediction functions"
   ]
  },
  {
   "cell_type": "markdown",
   "id": "f139308d",
   "metadata": {},
   "source": [
    "## 2.1) Split dataset into train/testing while excluding demographic features"
   ]
  },
  {
   "cell_type": "code",
   "execution_count": 5,
   "id": "ca691c4f-d717-4b13-9f69-478cc81f81fc",
   "metadata": {},
   "outputs": [],
   "source": [
    "def split_data_4(df, key_featsubgroups=key_featsubgroups, target=target, test_size=0.2, random_state=42):\n",
    "    \"\"\"\n",
    "    Splits the dataset into training and testing sets while excluding demographic features.\n",
    "\n",
    "    Parameters:\n",
    "    df (DataFrame): The dataset containing features and target variable.\n",
    "    key_featsubgroups (DataFrame): A mapping of feature subgroups.\n",
    "    target (str): The name of the target variable.\n",
    "    test_size (float, optional): The proportion of the dataset to allocate for testing. Default is 0.2.\n",
    "    random_state (int, optional): Random seed for reproducibility. Default is 42.\n",
    "\n",
    "    Returns:\n",
    "    tuple: X_train, X_test, y_train, y_test (training and testing datasets)\n",
    "    \"\"\"\n",
    "\n",
    "    # Extract demographic features\n",
    "    demo_feat = key_featsubgroups.loc[key_featsubgroups['subgroup'] == 'demo', 'list_features'].values[0]\n",
    "    print(\"Demographic Features:\", demo_feat)\n",
    "\n",
    "    # Separate features (X) and target variable (y), excluding demographic features\n",
    "    X = df.drop(columns=[target] + demo_feat)\n",
    "    y = df[target]\n",
    "\n",
    "    # Split the dataset into training (80%) and testing (20%) sets\n",
    "    X_train, X_test, y_train, y_test = train_test_split(\n",
    "        X, y, test_size=test_size, random_state=random_state\n",
    "    )\n",
    "\n",
    "    # Print dataset shapes\n",
    "    print(f\"Training Features Shape: {X_train.shape}\")\n",
    "    print(f\"Training Labels Shape: {y_train.shape}\")\n",
    "    print(f\"Testing Features Shape: {X_test.shape}\")\n",
    "    print(f\"Testing Labels Shape: {y_test.shape}\")\n",
    "\n",
    "    return X_train, X_test, y_train, y_test"
   ]
  },
  {
   "cell_type": "markdown",
   "id": "3b94d2e1",
   "metadata": {},
   "source": [
    "## 2.2) Model training and prediction"
   ]
  },
  {
   "cell_type": "code",
   "execution_count": 6,
   "id": "39d380c7",
   "metadata": {},
   "outputs": [
    {
     "name": "stdout",
     "output_type": "stream",
     "text": [
      "Demographic Features: ['clientdata.demo.gender', 'clientdata.demo.age_year', 'clientdata.demo.age_month', 'clientdata.demo.children', 'clientdata.demo.children_singleparent', 'clientdata.demo.maritalstatus_expand_SINGLE', 'clientdata.demo.maritalstatus_expand_MARRIED', 'clientdata.demo.maritalstatus_expand_DIVORCED', 'clientdata.demo.maritalstatus_expand_WIDOWED', 'clientdata.demo.maritalstatus_expand_newvalue', 'clientdata.demo.maritalstatus_woe']\n",
      "Training Features Shape: (103565, 406)\n",
      "Training Labels Shape: (103565,)\n",
      "Testing Features Shape: (25892, 406)\n",
      "Testing Labels Shape: (25892,)\n"
     ]
    }
   ],
   "source": [
    "x_train, x_test, y_train, y_test = split_data_4(df)"
   ]
  },
  {
   "cell_type": "code",
   "execution_count": null,
   "id": "85c34689",
   "metadata": {},
   "outputs": [],
   "source": []
  },
  {
   "cell_type": "markdown",
   "id": "2d49909d",
   "metadata": {},
   "source": [
    "# 3) Run Default Random Forest"
   ]
  },
  {
   "cell_type": "code",
   "execution_count": 7,
   "id": "82be9ab3",
   "metadata": {},
   "outputs": [],
   "source": [
    "def run_basic_RF(df, n_estimators):\n",
    "    \"\"\"\n",
    "    Trains a basic Random Forest model and evaluates its performance.\n",
    "\n",
    "    Parameters:\n",
    "    df (DataFrame): The dataset containing features and target variable.\n",
    "    n_estimators (int): Number of trees in the Random Forest.\n",
    "\n",
    "    Returns:\n",
    "    dict: A dictionary containing evaluation metrics for the trained model.\n",
    "    \"\"\"\n",
    "\n",
    "    # Split data into training and testing sets\n",
    "    X_train, X_test, y_train, y_test = split_data_4(df)\n",
    "\n",
    "    # Initialize a results dictionary\n",
    "    results_dict = {}\n",
    "    # Initialize Random Forest classifier\n",
    "    rf = RandomForestClassifier(n_estimators=n_estimators, random_state=42)\n",
    "\n",
    "    # Train and evaluate the model\n",
    "    results_dict = model_pred(X_train, X_test, y_train, y_test, rf, 'rf0', 'opt', results_dict)\n",
    "\n",
    "    return results_dict\n"
   ]
  },
  {
   "cell_type": "code",
   "execution_count": null,
   "id": "db9deb8a-a01c-4acf-af49-1a44747cd257",
   "metadata": {},
   "outputs": [
    {
     "name": "stdout",
     "output_type": "stream",
     "text": [
      "Demographic Features: ['clientdata.demo.gender', 'clientdata.demo.age_year', 'clientdata.demo.age_month', 'clientdata.demo.children', 'clientdata.demo.children_singleparent', 'clientdata.demo.maritalstatus_expand_SINGLE', 'clientdata.demo.maritalstatus_expand_MARRIED', 'clientdata.demo.maritalstatus_expand_DIVORCED', 'clientdata.demo.maritalstatus_expand_WIDOWED', 'clientdata.demo.maritalstatus_expand_newvalue', 'clientdata.demo.maritalstatus_woe']\n",
      "Training Features Shape: (103565, 406)\n",
      "Training Labels Shape: (103565,)\n",
      "Testing Features Shape: (25892, 406)\n",
      "Testing Labels Shape: (25892,)\n",
      "\n",
      "Starting model training and evaluation...\n"
     ]
    }
   ],
   "source": [
    "results_dict = run_basic_RF(df, 100)"
   ]
  },
  {
   "cell_type": "code",
   "execution_count": null,
   "id": "f95639c9-104f-489f-847e-b0cd372d3c3b",
   "metadata": {},
   "outputs": [
    {
     "data": {
      "text/plain": [
       "{'rf0': {'classifier': RandomForestClassifier(random_state=42),\n",
       "  'cfm_train': array([[36755,     0],\n",
       "         [    0, 66810]]),\n",
       "  'cfm_test': array([[ 2682,  6452],\n",
       "         [ 1631, 15127]]),\n",
       "  'train_accuracy': 1.0,\n",
       "  'test_accuracy': 0.6878186312374479,\n",
       "  'train F1-score label 1': 1.0,\n",
       "  'train F1-score label 0': 1.0,\n",
       "  'test F1-score label 1': 0.7891592978062968,\n",
       "  'test F1-score label 0': 0.39889938276195436,\n",
       "  'test roc auc score': np.float64(0.7036737409018287),\n",
       "  'best_params': {'bootstrap': True,\n",
       "   'ccp_alpha': 0.0,\n",
       "   'class_weight': None,\n",
       "   'criterion': 'gini',\n",
       "   'max_depth': None,\n",
       "   'max_features': 'sqrt',\n",
       "   'max_leaf_nodes': None,\n",
       "   'max_samples': None,\n",
       "   'min_impurity_decrease': 0.0,\n",
       "   'min_samples_leaf': 1,\n",
       "   'min_samples_split': 2,\n",
       "   'min_weight_fraction_leaf': 0.0,\n",
       "   'monotonic_cst': None,\n",
       "   'n_estimators': 100,\n",
       "   'n_jobs': None,\n",
       "   'oob_score': False,\n",
       "   'random_state': 42,\n",
       "   'verbose': 0,\n",
       "   'warm_start': False},\n",
       "  'time_m': 1.809039008617401}}"
      ]
     },
     "execution_count": 10,
     "metadata": {},
     "output_type": "execute_result"
    }
   ],
   "source": [
    "results_dict"
   ]
  },
  {
   "cell_type": "code",
   "execution_count": null,
   "id": "4ce9b7f1",
   "metadata": {},
   "outputs": [
    {
     "data": {
      "text/plain": [
       "{'bootstrap': True,\n",
       " 'ccp_alpha': 0.0,\n",
       " 'class_weight': None,\n",
       " 'criterion': 'gini',\n",
       " 'max_depth': None,\n",
       " 'max_features': 'sqrt',\n",
       " 'max_leaf_nodes': None,\n",
       " 'max_samples': None,\n",
       " 'min_impurity_decrease': 0.0,\n",
       " 'min_samples_leaf': 1,\n",
       " 'min_samples_split': 2,\n",
       " 'min_weight_fraction_leaf': 0.0,\n",
       " 'monotonic_cst': None,\n",
       " 'n_estimators': 100,\n",
       " 'n_jobs': None,\n",
       " 'oob_score': False,\n",
       " 'random_state': 42,\n",
       " 'verbose': 0,\n",
       " 'warm_start': False}"
      ]
     },
     "execution_count": 11,
     "metadata": {},
     "output_type": "execute_result"
    }
   ],
   "source": [
    "results_dict['rf0']['best_params']"
   ]
  },
  {
   "cell_type": "markdown",
   "id": "16549a45",
   "metadata": {},
   "source": [
    "# 4) Run Default XGBoost - with CV"
   ]
  },
  {
   "cell_type": "code",
   "execution_count": null,
   "id": "5ac6ac06",
   "metadata": {},
   "outputs": [],
   "source": [
    "def run_basic_XGB(df, results_dict):\n",
    "    \"\"\"\n",
    "    Trains an XGBoost classifier using default hyperparameters and evaluates its performance.\n",
    "\n",
    "    Parameters:\n",
    "    df (DataFrame): The dataset containing features and target variable.\n",
    "    results_dict (dict): Dictionary to store evaluation metrics.\n",
    "\n",
    "    Returns:\n",
    "    tuple: A dictionary of default XGBoost hyperparameters and the updated results dictionary.\n",
    "    \"\"\"\n",
    "\n",
    "    # Split the dataset into training and testing sets\n",
    "    X_train, X_test, y_train, y_test = split_data_4(df)\n",
    "\n",
    "    # Initialize XGBoost classifier with default parameters\n",
    "    xgbc0 = xgb.XGBClassifier(random_state=42)\n",
    "    xgbc0.fit(X_train, y_train)  # Fit model to extract default parameters\n",
    "\n",
    "    # Feature Importance made by Ben\n",
    "    _ = feature_importance(model=xgbc0, X_train=X_train, y_train=y_train, model_name='XGBoost0')\n",
    "\n",
    "    # Extract default hyperparameters from the trained model\n",
    "    default_params = {key: [value] for key, value in xgbc0.get_params().items()}  # Wrap in lists for GridSearchCV\n",
    "\n",
    "    # Perform GridSearchCV using default parameters (no real tuning, only cross-validation)\n",
    "    clf0 = GridSearchCV(\n",
    "        estimator=xgbc0,\n",
    "        param_grid=default_params,  # Single-value hyperparameters\n",
    "        scoring='accuracy',\n",
    "        return_train_score=True,\n",
    "        verbose=1,\n",
    "        cv=3  # 3-fold cross-validation\n",
    "    )\n",
    "\n",
    "    # Train & evaluate the model using model_pred function\n",
    "    results_dict = model_pred(X_train, X_test, y_train, y_test, clf0, 'xgbc0', 'search', results_dict)\n",
    "\n",
    "    return default_params, results_dict\n"
   ]
  },
  {
   "cell_type": "code",
   "execution_count": null,
   "id": "51a456c6-6032-435e-90e7-ec4abc199b81",
   "metadata": {},
   "outputs": [
    {
     "name": "stdout",
     "output_type": "stream",
     "text": [
      "Demographic Features: ['clientdata.demo.gender', 'clientdata.demo.age_year', 'clientdata.demo.age_month', 'clientdata.demo.children', 'clientdata.demo.children_singleparent', 'clientdata.demo.maritalstatus_expand_SINGLE', 'clientdata.demo.maritalstatus_expand_MARRIED', 'clientdata.demo.maritalstatus_expand_DIVORCED', 'clientdata.demo.maritalstatus_expand_WIDOWED', 'clientdata.demo.maritalstatus_expand_newvalue', 'clientdata.demo.maritalstatus_woe']\n",
      "Training Features Shape: (103565, 406)\n",
      "Training Labels Shape: (103565,)\n",
      "Testing Features Shape: (25892, 406)\n",
      "Testing Labels Shape: (25892,)\n",
      "\n",
      "Starting model training and evaluation...\n",
      "Fitting 3 folds for each of 1 candidates, totalling 3 fits\n",
      "Total execution time: 0.43 minutes\n"
     ]
    }
   ],
   "source": [
    "default_params, results_dict = run_basic_XGB(df, results_dict)\n",
    "# idea: default params are for the monedo_4"
   ]
  },
  {
   "cell_type": "code",
   "execution_count": null,
   "id": "9c7fdb4c-068b-4b72-bdba-f780f8ea822a",
   "metadata": {},
   "outputs": [
    {
     "data": {
      "text/plain": [
       "{'rf0': {'classifier': RandomForestClassifier(random_state=42),\n",
       "  'cfm_train': array([[36755,     0],\n",
       "         [    0, 66810]]),\n",
       "  'cfm_test': array([[ 2682,  6452],\n",
       "         [ 1631, 15127]]),\n",
       "  'train_accuracy': 1.0,\n",
       "  'test_accuracy': 0.6878186312374479,\n",
       "  'train F1-score label 1': 1.0,\n",
       "  'train F1-score label 0': 1.0,\n",
       "  'test F1-score label 1': 0.7891592978062968,\n",
       "  'test F1-score label 0': 0.39889938276195436,\n",
       "  'test roc auc score': np.float64(0.7036737409018287),\n",
       "  'best_params': {'bootstrap': True,\n",
       "   'ccp_alpha': 0.0,\n",
       "   'class_weight': None,\n",
       "   'criterion': 'gini',\n",
       "   'max_depth': None,\n",
       "   'max_features': 'sqrt',\n",
       "   'max_leaf_nodes': None,\n",
       "   'max_samples': None,\n",
       "   'min_impurity_decrease': 0.0,\n",
       "   'min_samples_leaf': 1,\n",
       "   'min_samples_split': 2,\n",
       "   'min_weight_fraction_leaf': 0.0,\n",
       "   'monotonic_cst': None,\n",
       "   'n_estimators': 100,\n",
       "   'n_jobs': None,\n",
       "   'oob_score': False,\n",
       "   'random_state': 42,\n",
       "   'verbose': 0,\n",
       "   'warm_start': False},\n",
       "  'time_m': 1.809039008617401},\n",
       " 'xgbc0': {'classifier': GridSearchCV(cv=3,\n",
       "               estimator=XGBClassifier(base_score=None, booster=None,\n",
       "                                       callbacks=None, colsample_bylevel=None,\n",
       "                                       colsample_bynode=None,\n",
       "                                       colsample_bytree=None, device=None,\n",
       "                                       early_stopping_rounds=None,\n",
       "                                       enable_categorical=False, eval_metric=None,\n",
       "                                       feature_types=None, feature_weights=None,\n",
       "                                       gamma=None, grow_policy=None,\n",
       "                                       importance_type=None,\n",
       "                                       interaction_constraints=Non...\n",
       "                           'learning_rate': [None], 'max_bin': [None],\n",
       "                           'max_cat_threshold': [None],\n",
       "                           'max_cat_to_onehot': [None], 'max_delta_step': [None],\n",
       "                           'max_depth': [None], 'max_leaves': [None],\n",
       "                           'min_child_weight': [None], 'missing': [nan],\n",
       "                           'monotone_constraints': [None],\n",
       "                           'multi_strategy': [None], 'n_estimators': [None],\n",
       "                           'n_jobs': [None], 'num_parallel_tree': [None], ...},\n",
       "               return_train_score=True, scoring='accuracy', verbose=1),\n",
       "  'cfm_train': array([[20665, 16090],\n",
       "         [ 5224, 61586]]),\n",
       "  'cfm_test': array([[ 3685,  5449],\n",
       "         [ 2418, 14340]]),\n",
       "  'train_accuracy': 0.7941968811857287,\n",
       "  'test_accuracy': 0.6961609763633555,\n",
       "  'train F1-score label 1': 0.8524839776864195,\n",
       "  'train F1-score label 0': 0.6597599131600792,\n",
       "  'test F1-score label 1': 0.7847429337565327,\n",
       "  'test F1-score label 0': 0.4836910152917241,\n",
       "  'test roc auc score': np.float64(0.7229549051709006),\n",
       "  'best_params': {'base_score': None,\n",
       "   'booster': None,\n",
       "   'callbacks': None,\n",
       "   'colsample_bylevel': None,\n",
       "   'colsample_bynode': None,\n",
       "   'colsample_bytree': None,\n",
       "   'device': None,\n",
       "   'early_stopping_rounds': None,\n",
       "   'enable_categorical': False,\n",
       "   'eval_metric': None,\n",
       "   'feature_types': None,\n",
       "   'feature_weights': None,\n",
       "   'gamma': None,\n",
       "   'grow_policy': None,\n",
       "   'importance_type': None,\n",
       "   'interaction_constraints': None,\n",
       "   'learning_rate': None,\n",
       "   'max_bin': None,\n",
       "   'max_cat_threshold': None,\n",
       "   'max_cat_to_onehot': None,\n",
       "   'max_delta_step': None,\n",
       "   'max_depth': None,\n",
       "   'max_leaves': None,\n",
       "   'min_child_weight': None,\n",
       "   'missing': nan,\n",
       "   'monotone_constraints': None,\n",
       "   'multi_strategy': None,\n",
       "   'n_estimators': None,\n",
       "   'n_jobs': None,\n",
       "   'num_parallel_tree': None,\n",
       "   'objective': 'binary:logistic',\n",
       "   'random_state': 42,\n",
       "   'reg_alpha': None,\n",
       "   'reg_lambda': None,\n",
       "   'sampling_method': None,\n",
       "   'scale_pos_weight': None,\n",
       "   'subsample': None,\n",
       "   'tree_method': None,\n",
       "   'validate_parameters': None,\n",
       "   'verbosity': None},\n",
       "  'time_m': 0.42970751921335854}}"
      ]
     },
     "execution_count": 14,
     "metadata": {},
     "output_type": "execute_result"
    }
   ],
   "source": [
    "results_dict"
   ]
  },
  {
   "cell_type": "markdown",
   "id": "7b0ea218",
   "metadata": {},
   "source": [
    "# 7) Save results"
   ]
  },
  {
   "cell_type": "code",
   "execution_count": null,
   "id": "0611ce48-011b-41ec-aa4a-93c9c1b14815",
   "metadata": {},
   "outputs": [],
   "source": [
    "with open('../outputs/3_AggModel/' + name + '/model_results.pickle', \"wb\") as file:\n",
    "    pickle.dump(results_dict, file, pickle.HIGHEST_PROTOCOL)\n",
    "\n",
    "results_dict = pickle.load(open('../outputs/3_AggModel/' + name + '/model_results.pickle', 'rb'))"
   ]
  },
  {
   "cell_type": "code",
   "execution_count": null,
   "id": "54836da1",
   "metadata": {},
   "outputs": [
    {
     "data": {
      "text/plain": [
       "{'classifier': GridSearchCV(cv=3,\n",
       "              estimator=XGBClassifier(base_score=None, booster=None,\n",
       "                                      callbacks=None, colsample_bylevel=None,\n",
       "                                      colsample_bynode=None,\n",
       "                                      colsample_bytree=None, device=None,\n",
       "                                      early_stopping_rounds=None,\n",
       "                                      enable_categorical=False, eval_metric=None,\n",
       "                                      feature_types=None, feature_weights=None,\n",
       "                                      gamma=None, grow_policy=None,\n",
       "                                      importance_type=None,\n",
       "                                      interaction_constraints=Non...\n",
       "                          'learning_rate': [None], 'max_bin': [None],\n",
       "                          'max_cat_threshold': [None],\n",
       "                          'max_cat_to_onehot': [None], 'max_delta_step': [None],\n",
       "                          'max_depth': [None], 'max_leaves': [None],\n",
       "                          'min_child_weight': [None], 'missing': [nan],\n",
       "                          'monotone_constraints': [None],\n",
       "                          'multi_strategy': [None], 'n_estimators': [None],\n",
       "                          'n_jobs': [None], 'num_parallel_tree': [None], ...},\n",
       "              return_train_score=True, scoring='accuracy', verbose=1),\n",
       " 'cfm_train': array([[20665, 16090],\n",
       "        [ 5224, 61586]]),\n",
       " 'cfm_test': array([[ 3685,  5449],\n",
       "        [ 2418, 14340]]),\n",
       " 'train_accuracy': 0.7941968811857287,\n",
       " 'test_accuracy': 0.6961609763633555,\n",
       " 'train F1-score label 1': 0.8524839776864195,\n",
       " 'train F1-score label 0': 0.6597599131600792,\n",
       " 'test F1-score label 1': 0.7847429337565327,\n",
       " 'test F1-score label 0': 0.4836910152917241,\n",
       " 'test roc auc score': np.float64(0.7229549051709006),\n",
       " 'best_params': {'base_score': None,\n",
       "  'booster': None,\n",
       "  'callbacks': None,\n",
       "  'colsample_bylevel': None,\n",
       "  'colsample_bynode': None,\n",
       "  'colsample_bytree': None,\n",
       "  'device': None,\n",
       "  'early_stopping_rounds': None,\n",
       "  'enable_categorical': False,\n",
       "  'eval_metric': None,\n",
       "  'feature_types': None,\n",
       "  'feature_weights': None,\n",
       "  'gamma': None,\n",
       "  'grow_policy': None,\n",
       "  'importance_type': None,\n",
       "  'interaction_constraints': None,\n",
       "  'learning_rate': None,\n",
       "  'max_bin': None,\n",
       "  'max_cat_threshold': None,\n",
       "  'max_cat_to_onehot': None,\n",
       "  'max_delta_step': None,\n",
       "  'max_depth': None,\n",
       "  'max_leaves': None,\n",
       "  'min_child_weight': None,\n",
       "  'missing': nan,\n",
       "  'monotone_constraints': None,\n",
       "  'multi_strategy': None,\n",
       "  'n_estimators': None,\n",
       "  'n_jobs': None,\n",
       "  'num_parallel_tree': None,\n",
       "  'objective': 'binary:logistic',\n",
       "  'random_state': 42,\n",
       "  'reg_alpha': None,\n",
       "  'reg_lambda': None,\n",
       "  'sampling_method': None,\n",
       "  'scale_pos_weight': None,\n",
       "  'subsample': None,\n",
       "  'tree_method': None,\n",
       "  'validate_parameters': None,\n",
       "  'verbosity': None},\n",
       " 'time_m': 0.42970751921335854}"
      ]
     },
     "execution_count": 26,
     "metadata": {},
     "output_type": "execute_result"
    }
   ],
   "source": [
    "results_dict['xgbc0']"
   ]
  },
  {
   "cell_type": "code",
   "execution_count": null,
   "id": "6d1aac27",
   "metadata": {},
   "outputs": [],
   "source": [
    "# save_path_xgbc0 = '../pickle/3_Model/results_dict_updated_pre-Bayes.pkl'\n",
    "# with open(save_path_xgbc0, \"wb\") as file:\n",
    "#     pickle.dump(results_dict, file, pickle.HIGHEST_PROTOCOL)"
   ]
  },
  {
   "cell_type": "markdown",
   "id": "f442f404",
   "metadata": {},
   "source": [
    "## Saving default params"
   ]
  },
  {
   "cell_type": "code",
   "execution_count": null,
   "id": "62d749aa",
   "metadata": {},
   "outputs": [
    {
     "data": {
      "text/plain": [
       "{'objective': ['binary:logistic'],\n",
       " 'base_score': [None],\n",
       " 'booster': [None],\n",
       " 'callbacks': [None],\n",
       " 'colsample_bylevel': [None],\n",
       " 'colsample_bynode': [None],\n",
       " 'colsample_bytree': [None],\n",
       " 'device': [None],\n",
       " 'early_stopping_rounds': [None],\n",
       " 'enable_categorical': [False],\n",
       " 'eval_metric': [None],\n",
       " 'feature_types': [None],\n",
       " 'feature_weights': [None],\n",
       " 'gamma': [None],\n",
       " 'grow_policy': [None],\n",
       " 'importance_type': [None],\n",
       " 'interaction_constraints': [None],\n",
       " 'learning_rate': [None],\n",
       " 'max_bin': [None],\n",
       " 'max_cat_threshold': [None],\n",
       " 'max_cat_to_onehot': [None],\n",
       " 'max_delta_step': [None],\n",
       " 'max_depth': [None],\n",
       " 'max_leaves': [None],\n",
       " 'min_child_weight': [None],\n",
       " 'missing': [nan],\n",
       " 'monotone_constraints': [None],\n",
       " 'multi_strategy': [None],\n",
       " 'n_estimators': [None],\n",
       " 'n_jobs': [None],\n",
       " 'num_parallel_tree': [None],\n",
       " 'random_state': [42],\n",
       " 'reg_alpha': [None],\n",
       " 'reg_lambda': [None],\n",
       " 'sampling_method': [None],\n",
       " 'scale_pos_weight': [None],\n",
       " 'subsample': [None],\n",
       " 'tree_method': [None],\n",
       " 'validate_parameters': [None],\n",
       " 'verbosity': [None]}"
      ]
     },
     "execution_count": 20,
     "metadata": {},
     "output_type": "execute_result"
    }
   ],
   "source": [
    "default_params"
   ]
  },
  {
   "cell_type": "code",
   "execution_count": null,
   "id": "0d48eb9e",
   "metadata": {},
   "outputs": [],
   "source": [
    "# Ben\n",
    "save_default_params_path = '../pickle/3_Model/xgb_default_params.pkl'"
   ]
  },
  {
   "cell_type": "code",
   "execution_count": null,
   "id": "841db477",
   "metadata": {},
   "outputs": [],
   "source": [
    "# with open(save_default_params_path, 'wb') as f:\n",
    "#     pickle.dump(default_params, f)"
   ]
  },
  {
   "cell_type": "markdown",
   "id": "6a7c54df",
   "metadata": {},
   "source": [
    "# 8) Compile results: AUC, Accuracy and Time"
   ]
  },
  {
   "cell_type": "code",
   "execution_count": null,
   "id": "95cec2ed",
   "metadata": {},
   "outputs": [
    {
     "name": "stdout",
     "output_type": "stream",
     "text": [
      "Benchmark RandomForest - AUC/accuracy score: 0.7037 / 0.6878 @ 1.81 minutes\n",
      "Benchmark XGBoost - AUC/accuracy score: 0.723 / 0.6962 @ 0.43 minutes\n"
     ]
    }
   ],
   "source": [
    "#printing benchmark, iterative grid search and randomized search ROC AUC / accuracy scores (test data set)\n",
    "print(f\"Benchmark RandomForest - AUC/accuracy score: {np.round(results_dict['rf0']['test roc auc score'],4)} / {np.round(results_dict['rf0']['test_accuracy'],4)} @ {np.round(results_dict['rf0']['time_m'],2)} minutes\")\n",
    "print(f\"Benchmark XGBoost - AUC/accuracy score: {np.round(results_dict['xgbc0']['test roc auc score'],4)} / {np.round(results_dict['xgbc0']['test_accuracy'],4)} @ {np.round(results_dict['xgbc0']['time_m'],2)} minutes\")"
   ]
  },
  {
   "cell_type": "code",
   "execution_count": null,
   "id": "d6fbdbfe",
   "metadata": {},
   "outputs": [],
   "source": []
  }
 ],
 "metadata": {
  "kernelspec": {
   "display_name": "Work",
   "language": "python",
   "name": "python3"
  },
  "language_info": {
   "codemirror_mode": {
    "name": "ipython",
    "version": 3
   },
   "file_extension": ".py",
   "mimetype": "text/x-python",
   "name": "python",
   "nbconvert_exporter": "python",
   "pygments_lexer": "ipython3",
   "version": "3.12.9"
  }
 },
 "nbformat": 4,
 "nbformat_minor": 5
}
