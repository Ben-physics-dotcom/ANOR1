{
 "cells": [
  {
   "cell_type": "markdown",
   "id": "29f78075",
   "metadata": {},
   "source": [
    "# Imports"
   ]
  },
  {
   "cell_type": "code",
   "execution_count": 16,
   "id": "b81373b9",
   "metadata": {},
   "outputs": [],
   "source": [
    "%run Imports.ipynb\n",
    "name = 'Kred' # Choose Kred or Mone\n",
    "from scipy.stats import spearmanr\n",
    "from sklearn.metrics import accuracy_score, roc_auc_score\n"
   ]
  },
  {
   "cell_type": "markdown",
   "id": "1fce70db",
   "metadata": {},
   "source": [
    "# Data"
   ]
  },
  {
   "cell_type": "code",
   "execution_count": 2,
   "id": "ff23aabf",
   "metadata": {},
   "outputs": [],
   "source": [
    "with open(\"../../pickle/Monedo_5/wo_optuna/ebm_best_results.pkl\", \"rb\") as f:\n",
    "    ebm_best_res = pickle.load(f)"
   ]
  },
  {
   "cell_type": "code",
   "execution_count": 3,
   "id": "b823aa9d",
   "metadata": {},
   "outputs": [],
   "source": [
    "with open(\"../../pickle/Monedo_7/without_optuna/results_M7_T2.pkl\", \"rb\") as f:\n",
    "    m7_res = pickle.load(f)"
   ]
  },
  {
   "cell_type": "code",
   "execution_count": 19,
   "id": "f96c0a58",
   "metadata": {},
   "outputs": [],
   "source": [
    "\n",
    "key_featsubgroups = pd.read_pickle('../../pickle/2_FS/' + name + '/key_featsubgroups.pkl')\n",
    "df = pd.read_pickle('../../pickle/2_FS/' + name + '/2_df_new_.pkl')"
   ]
  },
  {
   "cell_type": "code",
   "execution_count": 20,
   "id": "87661de7",
   "metadata": {},
   "outputs": [
    {
     "name": "stdout",
     "output_type": "stream",
     "text": [
      "arrears\n",
      "1   0.646\n",
      "0   0.354\n",
      "Name: count, dtype: float64\n",
      "df_shape:  (129457, 418)\n"
     ]
    }
   ],
   "source": [
    "print(df[target].value_counts()/df.shape[0])\n",
    "print('df_shape: ', df.shape)"
   ]
  },
  {
   "cell_type": "markdown",
   "id": "4b0bffcf",
   "metadata": {},
   "source": [
    "# Functions"
   ]
  },
  {
   "cell_type": "code",
   "execution_count": 21,
   "id": "0127e40d",
   "metadata": {},
   "outputs": [],
   "source": [
    "def split_data_4(df, key_featsubgroups=key_featsubgroups, target=target, test_size=0.2, random_state=42):\n",
    "    \"\"\"\n",
    "    Splits the dataset into training and testing sets while excluding demographic features.\n",
    "\n",
    "    Parameters:\n",
    "    df (DataFrame): The dataset containing features and target variable.\n",
    "    key_featsubgroups (DataFrame): A mapping of feature subgroups.\n",
    "    target (str): The name of the target variable.\n",
    "    test_size (float, optional): The proportion of the dataset to allocate for testing. Default is 0.2.\n",
    "    random_state (int, optional): Random seed for reproducibility. Default is 42.\n",
    "\n",
    "    Returns:\n",
    "    tuple: X_train, X_test, y_train, y_test (training and testing datasets)\n",
    "    \"\"\"\n",
    "\n",
    "    # Extract demographic features\n",
    "    demo_feat = key_featsubgroups.loc[key_featsubgroups['subgroup'] == 'demo', 'list_features'].values[0]\n",
    "    print(\"Demographic Features:\", demo_feat)\n",
    "\n",
    "    # Separate features (X) and target variable (y), excluding demographic features\n",
    "    X = df.drop(columns=[target] + demo_feat)\n",
    "    y = df[target]\n",
    "\n",
    "    # Split the dataset into training (80%) and testing (20%) sets\n",
    "    X_train, X_test, y_train, y_test = train_test_split(\n",
    "        X, y, test_size=test_size, random_state=random_state\n",
    "    )\n",
    "\n",
    "    # Print dataset shapes\n",
    "    print(f\"Training Features Shape: {X_train.shape}\")\n",
    "    print(f\"Training Labels Shape: {y_train.shape}\")\n",
    "    print(f\"Testing Features Shape: {X_test.shape}\")\n",
    "    print(f\"Testing Labels Shape: {y_test.shape}\")\n",
    "\n",
    "    return X_train, X_test, y_train, y_test"
   ]
  },
  {
   "cell_type": "code",
   "execution_count": 22,
   "id": "d480aef3",
   "metadata": {},
   "outputs": [
    {
     "name": "stdout",
     "output_type": "stream",
     "text": [
      "Demographic Features: ['clientdata.demo.gender', 'clientdata.demo.age_year', 'clientdata.demo.age_month', 'clientdata.demo.children', 'clientdata.demo.children_singleparent', 'clientdata.demo.maritalstatus_expand_SINGLE', 'clientdata.demo.maritalstatus_expand_MARRIED', 'clientdata.demo.maritalstatus_expand_DIVORCED', 'clientdata.demo.maritalstatus_expand_WIDOWED', 'clientdata.demo.maritalstatus_expand_newvalue', 'clientdata.demo.maritalstatus_woe']\n",
      "Training Features Shape: (103565, 406)\n",
      "Training Labels Shape: (103565,)\n",
      "Testing Features Shape: (25892, 406)\n",
      "Testing Labels Shape: (25892,)\n"
     ]
    }
   ],
   "source": [
    "x_train, x_test, y_train, y_test = split_data_4(df)"
   ]
  },
  {
   "cell_type": "markdown",
   "id": "d0be708c",
   "metadata": {},
   "source": [
    "# Reporting"
   ]
  },
  {
   "cell_type": "markdown",
   "id": "c26e932b",
   "metadata": {},
   "source": [
    "## Overview"
   ]
  },
  {
   "cell_type": "code",
   "execution_count": 14,
   "id": "dd1deb7e",
   "metadata": {},
   "outputs": [
    {
     "data": {
      "text/plain": [
       "dict_keys(['y_test_pred', 'y_test_proba', 'feature_importances'])"
      ]
     },
     "execution_count": 14,
     "metadata": {},
     "output_type": "execute_result"
    }
   ],
   "source": [
    "ebm_best_res.keys()"
   ]
  },
  {
   "cell_type": "code",
   "execution_count": 17,
   "id": "70a59d6e",
   "metadata": {},
   "outputs": [
    {
     "data": {
      "text/plain": [
       "dict_keys(['y_test_pred', 'y_test_proba', 'feature_importances'])"
      ]
     },
     "execution_count": 17,
     "metadata": {},
     "output_type": "execute_result"
    }
   ],
   "source": [
    "m7_res.keys()"
   ]
  },
  {
   "cell_type": "code",
   "execution_count": 6,
   "id": "612a05d4",
   "metadata": {},
   "outputs": [],
   "source": [
    "results = {'EBM': ebm_best_res,\n",
    "           'SKlearn_NN': m7_res}"
   ]
  },
  {
   "cell_type": "code",
   "execution_count": 8,
   "id": "61dea635",
   "metadata": {},
   "outputs": [
    {
     "name": "stdout",
     "output_type": "stream",
     "text": [
      "EBM\n",
      "SKlearn_NN\n"
     ]
    }
   ],
   "source": [
    "for mth, res in results.items():\n",
    "    print(mth)"
   ]
  },
  {
   "cell_type": "markdown",
   "id": "a2850839",
   "metadata": {},
   "source": [
    "## reporting"
   ]
  },
  {
   "cell_type": "code",
   "execution_count": 23,
   "id": "e5ef3caf",
   "metadata": {},
   "outputs": [
    {
     "name": "stdout",
     "output_type": "stream",
     "text": [
      "=== Predictive Performance ===\n",
      "            accuracy  roc_auc\n",
      "method                       \n",
      "EBM            0.698    0.721\n",
      "SKlearn_NN     0.647    0.500\n"
     ]
    }
   ],
   "source": [
    "# --- 1) Build performance DataFrame ---\n",
    "perf_rows = []\n",
    "for method, res in results.items():\n",
    "    y_pred  = res[\"y_test_pred\"]\n",
    "    y_proba = res[\"y_test_proba\"]\n",
    "\n",
    "    acc = accuracy_score(y_test, y_pred)\n",
    "    auc = roc_auc_score(y_test, y_proba)\n",
    "\n",
    "    perf_rows.append({\n",
    "        \"method\":   method,\n",
    "        \"accuracy\": acc,\n",
    "        \"roc_auc\":  auc\n",
    "    })\n",
    "\n",
    "perf_df = pd.DataFrame(perf_rows).set_index(\"method\")\n",
    "print(\"=== Predictive Performance ===\")\n",
    "print(perf_df)"
   ]
  },
  {
   "cell_type": "code",
   "execution_count": 24,
   "id": "6298d32d",
   "metadata": {},
   "outputs": [
    {
     "name": "stdout",
     "output_type": "stream",
     "text": [
      "\n",
      "=== Feature Importances (first 5 features) ===\n",
      "                EBM  SKlearn_NN\n",
      "feature_index                  \n",
      "0             0.000       0.000\n",
      "1             0.001       0.000\n",
      "2             0.001       0.000\n",
      "3             0.000       0.000\n",
      "4             0.000       0.000\n"
     ]
    }
   ],
   "source": [
    "# --- 2) Build feature‐importance DataFrame ---\n",
    "# This assumes each feature_importances array is the same length\n",
    "fi_df = pd.DataFrame({\n",
    "    method: res[\"feature_importances\"]\n",
    "    for method, res in results.items()\n",
    "})\n",
    "fi_df.index.name = \"feature_index\"\n",
    "print(\"\\n=== Feature Importances (first 5 features) ===\")\n",
    "print(fi_df.head())"
   ]
  },
  {
   "cell_type": "code",
   "execution_count": 25,
   "id": "c546403b",
   "metadata": {},
   "outputs": [
    {
     "name": "stdout",
     "output_type": "stream",
     "text": [
      "\n",
      "=== Spearman Rank-Correlation of Feature Importances ===\n",
      "             EBM  SKlearn_NN\n",
      "EBM        1.000       0.147\n",
      "SKlearn_NN 0.147       1.000\n"
     ]
    }
   ],
   "source": [
    "# --- 3) Pairwise Spearman rank correlations ---\n",
    "corr = fi_df.corr(method=\"spearman\")\n",
    "print(\"\\n=== Spearman Rank-Correlation of Feature Importances ===\")\n",
    "print(corr)"
   ]
  },
  {
   "cell_type": "code",
   "execution_count": 26,
   "id": "783d4f75",
   "metadata": {},
   "outputs": [
    {
     "name": "stdout",
     "output_type": "stream",
     "text": [
      "\n",
      "=== Pairwise Spearman Correlations (long format) ===\n",
      "      method1     method2  spearman_r\n",
      "0         EBM         EBM       1.000\n",
      "1  SKlearn_NN         EBM       0.147\n",
      "2         EBM  SKlearn_NN       0.147\n",
      "3  SKlearn_NN  SKlearn_NN       1.000\n"
     ]
    }
   ],
   "source": [
    "# --- 4) (Optional) Long-format correlations table ---\n",
    "corr_long = (\n",
    "    corr\n",
    "      .reset_index()\n",
    "      .melt(id_vars=\"index\", var_name=\"method2\", value_name=\"spearman_r\")\n",
    "      .rename(columns={\"index\": \"method1\"})\n",
    ")\n",
    "print(\"\\n=== Pairwise Spearman Correlations (long format) ===\")\n",
    "print(corr_long)"
   ]
  }
 ],
 "metadata": {
  "kernelspec": {
   "display_name": "Work",
   "language": "python",
   "name": "python3"
  },
  "language_info": {
   "codemirror_mode": {
    "name": "ipython",
    "version": 3
   },
   "file_extension": ".py",
   "mimetype": "text/x-python",
   "name": "python",
   "nbconvert_exporter": "python",
   "pygments_lexer": "ipython3",
   "version": "3.12.9"
  }
 },
 "nbformat": 4,
 "nbformat_minor": 5
}
