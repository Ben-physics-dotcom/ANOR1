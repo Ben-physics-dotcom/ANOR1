{
 "cells": [
  {
   "cell_type": "code",
   "execution_count": 1,
   "id": "d753a2d5",
   "metadata": {},
   "outputs": [
    {
     "name": "stderr",
     "output_type": "stream",
     "text": [
      "/home/RDC/fliegebe/.conda/envs/Work/lib/python3.12/site-packages/tqdm/auto.py:21: TqdmWarning: IProgress not found. Please update jupyter and ipywidgets. See https://ipywidgets.readthedocs.io/en/stable/user_install.html\n",
      "  from .autonotebook import tqdm as notebook_tqdm\n"
     ]
    }
   ],
   "source": [
    "%run Imports.ipynb\n",
    "name = 'Kred' # Choose Kred or Mone\n",
    "from scipy.stats import spearmanr\n",
    "from sklearn.metrics import accuracy_score, roc_auc_score"
   ]
  },
  {
   "cell_type": "markdown",
   "id": "e308d812",
   "metadata": {},
   "source": [
    "# Data"
   ]
  },
  {
   "cell_type": "markdown",
   "id": "59394826",
   "metadata": {},
   "source": [
    "## results 3_AggModel"
   ]
  },
  {
   "cell_type": "code",
   "execution_count": 8,
   "id": "e375cb9b",
   "metadata": {},
   "outputs": [],
   "source": [
    "with open('../../outputs/3_AggModel/3_AggModel/' + name + '/model_results.pickle', \"rb\") as file:\n",
    "    results_dict = pickle.load(file)"
   ]
  },
  {
   "cell_type": "code",
   "execution_count": 10,
   "id": "0c472664",
   "metadata": {},
   "outputs": [
    {
     "data": {
      "text/plain": [
       "dict_keys(['rf0', 'xgbc0'])"
      ]
     },
     "execution_count": 10,
     "metadata": {},
     "output_type": "execute_result"
    }
   ],
   "source": [
    "results_dict.keys()"
   ]
  },
  {
   "cell_type": "code",
   "execution_count": 11,
   "id": "34721376",
   "metadata": {},
   "outputs": [
    {
     "data": {
      "text/plain": [
       "dict_keys(['classifier', 'cfm_train', 'cfm_test', 'train_accuracy', 'test_accuracy', 'train F1-score label 1', 'train F1-score label 0', 'test F1-score label 1', 'test F1-score label 0', 'test roc auc score', 'best_params', 'time_m'])"
      ]
     },
     "execution_count": 11,
     "metadata": {},
     "output_type": "execute_result"
    }
   ],
   "source": [
    "results_dict['rf0'].keys()"
   ]
  },
  {
   "cell_type": "code",
   "execution_count": 12,
   "id": "b174a83f",
   "metadata": {},
   "outputs": [
    {
     "data": {
      "text/plain": [
       "dict_keys(['classifier', 'cfm_train', 'cfm_test', 'train_accuracy', 'test_accuracy', 'train F1-score label 1', 'train F1-score label 0', 'test F1-score label 1', 'test F1-score label 0', 'test roc auc score', 'best_params', 'time_m'])"
      ]
     },
     "execution_count": 12,
     "metadata": {},
     "output_type": "execute_result"
    }
   ],
   "source": [
    "results_dict['xgbc0'].keys()"
   ]
  },
  {
   "cell_type": "markdown",
   "id": "80166f42",
   "metadata": {},
   "source": [
    "## 4M"
   ]
  },
  {
   "cell_type": "code",
   "execution_count": 21,
   "id": "5d70e82a",
   "metadata": {},
   "outputs": [],
   "source": [
    "with open('../../pickle/4_Model_Optuna/results_dict_updated.pkl', \"rb\") as file:\n",
    "    results_dict_upd_4m = pickle.load(file)"
   ]
  },
  {
   "cell_type": "code",
   "execution_count": 22,
   "id": "036d61e8",
   "metadata": {},
   "outputs": [],
   "source": [
    "with open('../../pickle/4_Model_Optuna/results_dict_updated_5.pkl', \"rb\") as file:\n",
    "    results_dict_upd5_4m = pickle.load(file)"
   ]
  },
  {
   "cell_type": "code",
   "execution_count": 24,
   "id": "be0d802c",
   "metadata": {},
   "outputs": [
    {
     "data": {
      "text/plain": [
       "dict_keys(['rf0', 'xgbc0', 'xgbc_optuna', 'xgbc_optimized'])"
      ]
     },
     "execution_count": 24,
     "metadata": {},
     "output_type": "execute_result"
    }
   ],
   "source": [
    "results_dict_upd_4m.keys()"
   ]
  },
  {
   "cell_type": "code",
   "execution_count": 25,
   "id": "8b0c6fd4",
   "metadata": {},
   "outputs": [
    {
     "data": {
      "text/plain": [
       "dict_keys(['rf0', 'xgbc0', 'xgbc_optuna', 'xgbc_optimized', 'ebm_default'])"
      ]
     },
     "execution_count": 25,
     "metadata": {},
     "output_type": "execute_result"
    }
   ],
   "source": [
    "results_dict_upd5_4m.keys()"
   ]
  },
  {
   "cell_type": "markdown",
   "id": "01216138",
   "metadata": {},
   "source": [
    "# Feature Importance"
   ]
  },
  {
   "cell_type": "code",
   "execution_count": 14,
   "id": "d71b667e",
   "metadata": {},
   "outputs": [],
   "source": [
    "with open('../../outputs/importances/importances/Feat_Import_XGBoost0.pickle', \"rb\") as file:\n",
    "    xgb_imp = pickle.load(file)"
   ]
  },
  {
   "cell_type": "code",
   "execution_count": 15,
   "id": "233d61e7",
   "metadata": {},
   "outputs": [],
   "source": [
    "with open('../../outputs/importances/importances/rf_importances.pickle', \"rb\") as file:\n",
    "    rf_imp = pickle.load(file)"
   ]
  },
  {
   "cell_type": "code",
   "execution_count": 17,
   "id": "90cef253",
   "metadata": {},
   "outputs": [
    {
     "data": {
      "text/html": [
       "<div>\n",
       "<style scoped>\n",
       "    .dataframe tbody tr th:only-of-type {\n",
       "        vertical-align: middle;\n",
       "    }\n",
       "\n",
       "    .dataframe tbody tr th {\n",
       "        vertical-align: top;\n",
       "    }\n",
       "\n",
       "    .dataframe thead th {\n",
       "        text-align: right;\n",
       "    }\n",
       "</style>\n",
       "<table border=\"1\" class=\"dataframe\">\n",
       "  <thead>\n",
       "    <tr style=\"text-align: right;\">\n",
       "      <th></th>\n",
       "      <th>Feature_XGBoost0</th>\n",
       "      <th>Importance_XGBoost0</th>\n",
       "    </tr>\n",
       "  </thead>\n",
       "  <tbody>\n",
       "    <tr>\n",
       "      <th>0</th>\n",
       "      <td>kontoconnect.basicfeatures.basic_currencybalan...</td>\n",
       "      <td>0.006</td>\n",
       "    </tr>\n",
       "    <tr>\n",
       "      <th>1</th>\n",
       "      <td>kontoconnect.basicfeatures.basic_maxratiodaysw...</td>\n",
       "      <td>0.007</td>\n",
       "    </tr>\n",
       "    <tr>\n",
       "      <th>2</th>\n",
       "      <td>kontoconnect.basicfeatures.basic_maxratioposac...</td>\n",
       "      <td>0.004</td>\n",
       "    </tr>\n",
       "    <tr>\n",
       "      <th>3</th>\n",
       "      <td>kontoconnect.basicfeatures.basic_minsdposaccba...</td>\n",
       "      <td>0.003</td>\n",
       "    </tr>\n",
       "    <tr>\n",
       "      <th>4</th>\n",
       "      <td>kontoconnect.basicfeatures.basic_maxrationear0...</td>\n",
       "      <td>0.007</td>\n",
       "    </tr>\n",
       "  </tbody>\n",
       "</table>\n",
       "</div>"
      ],
      "text/plain": [
       "                                    Feature_XGBoost0  Importance_XGBoost0\n",
       "0  kontoconnect.basicfeatures.basic_currencybalan...                0.006\n",
       "1  kontoconnect.basicfeatures.basic_maxratiodaysw...                0.007\n",
       "2  kontoconnect.basicfeatures.basic_maxratioposac...                0.004\n",
       "3  kontoconnect.basicfeatures.basic_minsdposaccba...                0.003\n",
       "4  kontoconnect.basicfeatures.basic_maxrationear0...                0.007"
      ]
     },
     "execution_count": 17,
     "metadata": {},
     "output_type": "execute_result"
    }
   ],
   "source": [
    "xgb_imp.head()"
   ]
  },
  {
   "cell_type": "code",
   "execution_count": 18,
   "id": "fa06c0bc",
   "metadata": {},
   "outputs": [
    {
     "data": {
      "text/html": [
       "<div>\n",
       "<style scoped>\n",
       "    .dataframe tbody tr th:only-of-type {\n",
       "        vertical-align: middle;\n",
       "    }\n",
       "\n",
       "    .dataframe tbody tr th {\n",
       "        vertical-align: top;\n",
       "    }\n",
       "\n",
       "    .dataframe thead th {\n",
       "        text-align: right;\n",
       "    }\n",
       "</style>\n",
       "<table border=\"1\" class=\"dataframe\">\n",
       "  <thead>\n",
       "    <tr style=\"text-align: right;\">\n",
       "      <th></th>\n",
       "      <th>Feature_RF</th>\n",
       "      <th>Importance_RF</th>\n",
       "    </tr>\n",
       "  </thead>\n",
       "  <tbody>\n",
       "    <tr>\n",
       "      <th>0</th>\n",
       "      <td>kontoconnect.basicfeatures.basic_currencybalan...</td>\n",
       "      <td>0.010</td>\n",
       "    </tr>\n",
       "    <tr>\n",
       "      <th>1</th>\n",
       "      <td>kontoconnect.basicfeatures.basic_maxratiodaysw...</td>\n",
       "      <td>0.007</td>\n",
       "    </tr>\n",
       "    <tr>\n",
       "      <th>2</th>\n",
       "      <td>kontoconnect.basicfeatures.basic_maxratioposac...</td>\n",
       "      <td>0.006</td>\n",
       "    </tr>\n",
       "    <tr>\n",
       "      <th>3</th>\n",
       "      <td>kontoconnect.basicfeatures.basic_minsdposaccba...</td>\n",
       "      <td>0.005</td>\n",
       "    </tr>\n",
       "    <tr>\n",
       "      <th>4</th>\n",
       "      <td>kontoconnect.basicfeatures.basic_maxrationear0...</td>\n",
       "      <td>0.006</td>\n",
       "    </tr>\n",
       "  </tbody>\n",
       "</table>\n",
       "</div>"
      ],
      "text/plain": [
       "                                          Feature_RF  Importance_RF\n",
       "0  kontoconnect.basicfeatures.basic_currencybalan...          0.010\n",
       "1  kontoconnect.basicfeatures.basic_maxratiodaysw...          0.007\n",
       "2  kontoconnect.basicfeatures.basic_maxratioposac...          0.006\n",
       "3  kontoconnect.basicfeatures.basic_minsdposaccba...          0.005\n",
       "4  kontoconnect.basicfeatures.basic_maxrationear0...          0.006"
      ]
     },
     "execution_count": 18,
     "metadata": {},
     "output_type": "execute_result"
    }
   ],
   "source": [
    "rf_imp.head()"
   ]
  },
  {
   "cell_type": "code",
   "execution_count": 20,
   "id": "e7c08c3b",
   "metadata": {},
   "outputs": [
    {
     "data": {
      "text/plain": [
       "{True}"
      ]
     },
     "execution_count": 20,
     "metadata": {},
     "output_type": "execute_result"
    }
   ],
   "source": [
    "set(rf_imp.Feature_RF == xgb_imp.Feature_XGBoost0)"
   ]
  }
 ],
 "metadata": {
  "kernelspec": {
   "display_name": "Work",
   "language": "python",
   "name": "python3"
  },
  "language_info": {
   "codemirror_mode": {
    "name": "ipython",
    "version": 3
   },
   "file_extension": ".py",
   "mimetype": "text/x-python",
   "name": "python",
   "nbconvert_exporter": "python",
   "pygments_lexer": "ipython3",
   "version": "3.12.9"
  }
 },
 "nbformat": 4,
 "nbformat_minor": 5
}
