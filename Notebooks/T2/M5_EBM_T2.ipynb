{
 "cells": [
  {
   "cell_type": "markdown",
   "id": "b4b29f2e",
   "metadata": {},
   "source": [
    "# Imports"
   ]
  },
  {
   "cell_type": "code",
   "execution_count": null,
   "id": "51ba9ce9",
   "metadata": {},
   "outputs": [],
   "source": [
    "%run Imports.ipynb\n",
    "name = 'Kred' # Choose Kred or Mone\n",
    "\n",
    "param_grid = {\n",
    "    'learning_rate': [0.001, 0.005, 0.01, 0.05],\n",
    "    'max_leaves': [3, 5, 10, 15, 20, 32],\n",
    "    'min_samples_leaf': [2, 5, 10, 15, 20],\n",
    "    'interactions': [5, 10, 15]\n",
    "}"
   ]
  }
 ],
 "metadata": {
  "kernelspec": {
   "display_name": "datachange_work",
   "language": "python",
   "name": "python3"
  },
  "language_info": {
   "name": "python",
   "version": "3.12.9"
  }
 },
 "nbformat": 4,
 "nbformat_minor": 5
}
