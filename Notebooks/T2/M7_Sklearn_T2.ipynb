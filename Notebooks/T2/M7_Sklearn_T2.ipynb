{
 "cells": [
  {
   "cell_type": "markdown",
   "id": "182dfd8a",
   "metadata": {},
   "source": [
    "# imports and data loading"
   ]
  },
  {
   "cell_type": "code",
   "execution_count": 1,
   "id": "bc01a979",
   "metadata": {},
   "outputs": [
    {
     "name": "stderr",
     "output_type": "stream",
     "text": [
      "c:\\Users\\benjf\\anaconda3\\envs\\Work\\Lib\\site-packages\\tqdm\\auto.py:21: TqdmWarning: IProgress not found. Please update jupyter and ipywidgets. See https://ipywidgets.readthedocs.io/en/stable/user_install.html\n",
      "  from .autonotebook import tqdm as notebook_tqdm\n"
     ]
    }
   ],
   "source": [
    "%run Imports.ipynb\n",
    "name = 'Kred'\n",
    "\n",
    "# specific imports\n",
    "from sklearn.neural_network import MLPClassifier\n",
    "from sklearn.model_selection import GridSearchCV\n",
    "\n",
    "\n",
    "key_featsubgroups = pd.read_pickle('../../pickle/2_FS/' + name + '/key_featsubgroups.pkl')\n",
    "df = pd.read_pickle('../../pickle/2_FS/' + name + '/2_df_new_.pkl')"
   ]
  },
  {
   "cell_type": "code",
   "execution_count": 2,
   "id": "d391d0b7",
   "metadata": {},
   "outputs": [
    {
     "name": "stdout",
     "output_type": "stream",
     "text": [
      "arrears\n",
      "1   0.646\n",
      "0   0.354\n",
      "Name: count, dtype: float64\n",
      "df_shape:  (129457, 418)\n"
     ]
    }
   ],
   "source": [
    "print(df[target].value_counts()/df.shape[0])\n",
    "print('df_shape: ', df.shape)"
   ]
  },
  {
   "cell_type": "code",
   "execution_count": 3,
   "id": "50bae675",
   "metadata": {},
   "outputs": [],
   "source": [
    "# param grid scikit\n",
    "param_grid = {\n",
    "    'hidden_layer_sizes': [(h,) for h in [5, 10, 20, 50, 100, 200, 300, 406]],\n",
    "    'activation': ['relu', 'tanh', 'logistic'],                   # activation functions\n",
    "    'solver': ['adam', 'sgd'],                                    # optimization algorithms\n",
    "    'alpha': [0.0001, 0.001, 0.01, 0.1],                                # L2 regularization\n",
    "    'learning_rate': ['constant', 'adaptive'],                    # learning rate strategy\n",
    "    'learning_rate_init': [0.001, 0.005, 0.01, 0.05],                           # initial learning rate\n",
    "    'max_iter': [100, 200, 500, 750, 1000]                                        # training epochs\n",
    "}"
   ]
  },
  {
   "cell_type": "code",
   "execution_count": 4,
   "id": "5ae55c48",
   "metadata": {},
   "outputs": [],
   "source": [
    "with open('../../pickle/4_Model_Optuna/results_dict_updated.pkl', 'rb') as f:\n",
    "    results_dict = pickle.load(f)"
   ]
  },
  {
   "cell_type": "code",
   "execution_count": 5,
   "id": "baf3d660",
   "metadata": {},
   "outputs": [],
   "source": [
    "with open('../../pickle/3_Model/xgb_default_params.pkl', 'rb') as f:\n",
    "    default_params = pickle.load(f)\n"
   ]
  },
  {
   "cell_type": "markdown",
   "id": "efabc4ae",
   "metadata": {},
   "source": [
    "# data splitting"
   ]
  },
  {
   "cell_type": "code",
   "execution_count": null,
   "id": "ed6f2c4e",
   "metadata": {},
   "outputs": [],
   "source": [
    "def split_data_4(df, key_featsubgroups=key_featsubgroups, target=target, test_size=0.2, random_state=42):\n",
    "    \"\"\"\n",
    "    Splits the dataset into training and testing sets while excluding demographic features.\n",
    "\n",
    "    Parameters:\n",
    "    df (DataFrame): The dataset containing features and target variable.\n",
    "    key_featsubgroups (DataFrame): A mapping of feature subgroups.\n",
    "    target (str): The name of the target variable.\n",
    "    test_size (float, optional): The proportion of the dataset to allocate for testing. Default is 0.2.\n",
    "    random_state (int, optional): Random seed for reproducibility. Default is 42.\n",
    "\n",
    "    Returns:\n",
    "    tuple: X_train, X_test, y_train, y_test (training and testing datasets)\n",
    "    \"\"\"\n",
    "\n",
    "    # Extract demographic features\n",
    "    demo_feat = key_featsubgroups.loc[key_featsubgroups['subgroup'] == 'demo', 'list_features'].values[0]\n",
    "    print(\"Demographic Features:\", demo_feat)\n",
    "\n",
    "    # Separate features (X) and target variable (y), excluding demographic features\n",
    "    X = df.drop(columns=[target] + demo_feat)\n",
    "    y = df[target]\n",
    "\n",
    "    # Split the dataset into training (80%) and testing (20%) sets\n",
    "    X_train, X_test, y_train, y_test = train_test_split(\n",
    "        X, y, test_size=test_size, random_state=random_state\n",
    "    )\n",
    "\n",
    "    # Print dataset shapes\n",
    "    print(f\"Training Features Shape: {X_train.shape}\")\n",
    "    print(f\"Training Labels Shape: {y_train.shape}\")\n",
    "    print(f\"Testing Features Shape: {X_test.shape}\")\n",
    "    print(f\"Testing Labels Shape: {y_test.shape}\")\n",
    "\n",
    "    return X_train, X_test, y_train, y_test"
   ]
  },
  {
   "cell_type": "code",
   "execution_count": null,
   "id": "d3a7a7a8",
   "metadata": {},
   "outputs": [],
   "source": [
    "x_train, x_test, y_train, y_test = split_data_4(df)"
   ]
  },
  {
   "cell_type": "markdown",
   "id": "2b8258be",
   "metadata": {},
   "source": [
    "# Task 2"
   ]
  },
  {
   "cell_type": "code",
   "execution_count": null,
   "id": "9b06b540",
   "metadata": {},
   "outputs": [],
   "source": [
    "# choosing optimal parameters\n",
    "clf_best = MLPClassifier(**best_params, random_state=0)\n",
    "clf_best.fit(x_train, y_train)"
   ]
  },
  {
   "cell_type": "code",
   "execution_count": null,
   "id": "bce3e3e7",
   "metadata": {},
   "outputs": [],
   "source": [
    "# Predict test data\n",
    "y_test_pred  = clf_best.predict(X_test)\n",
    "y_test_proba = clf_best.predict_proba(X_test)[:, 1]"
   ]
  },
  {
   "cell_type": "code",
   "execution_count": null,
   "id": "92c85931",
   "metadata": {},
   "outputs": [],
   "source": [
    "# Extract feature importance score from trained model using permutation-based feature importance scoring\n",
    "from sklearn.inspection import permutation_importance\n",
    "\n",
    "perm_imp = permutation_importance(\n",
    "    clf_best, X_test, y_test,\n",
    "    n_repeats=30, random_state=0, n_jobs=-1\n",
    ")\n",
    "feature_importances = perm_imp.importances_mean"
   ]
  },
  {
   "cell_type": "code",
   "execution_count": null,
   "id": "b209dd6c",
   "metadata": {},
   "outputs": [],
   "source": [
    "# Store test set predictions and feature importance scores\n",
    "\n",
    "results_M7_T2 = {\n",
    "    \"y_test_pred\":         y_test_pred,\n",
    "    \"y_test_proba\":        y_test_proba,\n",
    "    \"feature_importances\": feature_importances\n",
    "}\n",
    "\n",
    "# please update the path as needed\n",
    "with open(\"results_M7_T2.pkl\", \"wb\") as f:\n",
    "    pickle.dump(results_M7_T2, f, protocol=pickle.HIGHEST_PROTOCOL)"
   ]
  }
 ],
 "metadata": {
  "kernelspec": {
   "display_name": "Work",
   "language": "python",
   "name": "python3"
  },
  "language_info": {
   "codemirror_mode": {
    "name": "ipython",
    "version": 3
   },
   "file_extension": ".py",
   "mimetype": "text/x-python",
   "name": "python",
   "nbconvert_exporter": "python",
   "pygments_lexer": "ipython3",
   "version": "3.12.9"
  }
 },
 "nbformat": 4,
 "nbformat_minor": 5
}
