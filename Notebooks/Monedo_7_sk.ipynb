{
 "cells": [
  {
   "cell_type": "markdown",
   "id": "3f65e456",
   "metadata": {},
   "source": [
    "# Imports and data loading"
   ]
  },
  {
   "cell_type": "code",
   "execution_count": 1,
   "id": "639d8b62",
   "metadata": {},
   "outputs": [
    {
     "name": "stderr",
     "output_type": "stream",
     "text": [
      "/home/RDC/fliegebe/.conda/envs/Work/lib/python3.12/site-packages/tqdm/auto.py:21: TqdmWarning: IProgress not found. Please update jupyter and ipywidgets. See https://ipywidgets.readthedocs.io/en/stable/user_install.html\n",
      "  from .autonotebook import tqdm as notebook_tqdm\n"
     ]
    }
   ],
   "source": [
    "%run Imports.ipynb\n",
    "name = 'Kred' # Choose Kred or Mone"
   ]
  },
  {
   "cell_type": "code",
   "execution_count": 2,
   "id": "4244e4e8",
   "metadata": {},
   "outputs": [
    {
     "data": {
      "text/plain": [
       "'2.1.3'"
      ]
     },
     "execution_count": 2,
     "metadata": {},
     "output_type": "execute_result"
    }
   ],
   "source": [
    "np.__version__"
   ]
  },
  {
   "cell_type": "code",
   "execution_count": 3,
   "id": "6360d709",
   "metadata": {},
   "outputs": [],
   "source": [
    "# updated version of grid, because previous has 6'144 different combinations\n",
    "param_grid = {\n",
    "    'hidden_layer_sizes': [(h,) for h in [100, 200, 300]],\n",
    "    'activation': ['relu'],                   # activation functions\n",
    "    'solver': ['adam'],                                    # optimization algorithms\n",
    "    'alpha': [0.0001, 0.01],                                # L2 regularization\n",
    "    'learning_rate': ['constant'],                    # learning rate strategy\n",
    "    'learning_rate_init': [0.005, 0.01, 0.05],                           # initial learning rate\n",
    "    'max_iter': [100, 200, 500]                                        # training epochs\n",
    "}"
   ]
  },
  {
   "cell_type": "code",
   "execution_count": 4,
   "id": "e13d30ea",
   "metadata": {},
   "outputs": [],
   "source": [
    "# specific imports\n",
    "from sklearn.model_selection import ParameterGrid, cross_val_score, cross_val_predict\n",
    "from sklearn.metrics import (\n",
    "    confusion_matrix,\n",
    "    accuracy_score,\n",
    "    f1_score,\n",
    "    roc_auc_score\n",
    ")\n",
    "from sklearn.neural_network import MLPClassifier\n",
    "\n",
    "key_featsubgroups = pd.read_pickle('../pickle/2_FS/' + name + '/key_featsubgroups.pkl')\n",
    "df = pd.read_pickle('../pickle/2_FS/' + name + '/2_df_new_.pkl')"
   ]
  },
  {
   "cell_type": "code",
   "execution_count": 5,
   "id": "a8cae619",
   "metadata": {},
   "outputs": [
    {
     "name": "stdout",
     "output_type": "stream",
     "text": [
      "arrears\n",
      "1   0.646\n",
      "0   0.354\n",
      "Name: count, dtype: float64\n",
      "df_shape:  (129457, 418)\n"
     ]
    }
   ],
   "source": [
    "print(df[target].value_counts()/df.shape[0])\n",
    "print('df_shape: ', df.shape)"
   ]
  },
  {
   "cell_type": "code",
   "execution_count": 6,
   "id": "1652cee0",
   "metadata": {},
   "outputs": [],
   "source": [
    "with open('../pickle/4_Model_Optuna/results_dict_updated.pkl', 'rb') as f:\n",
    "    results_dict = pickle.load(f)"
   ]
  },
  {
   "cell_type": "code",
   "execution_count": 7,
   "id": "cb616a65",
   "metadata": {},
   "outputs": [],
   "source": [
    "with open('../pickle/3_Model/xgb_default_params.pkl', 'rb') as f:\n",
    "    default_params = pickle.load(f)\n"
   ]
  },
  {
   "cell_type": "code",
   "execution_count": 8,
   "id": "823f62e9",
   "metadata": {},
   "outputs": [],
   "source": [
    "def split_data_4(df, key_featsubgroups=key_featsubgroups, target=target, test_size=0.2, random_state=42):\n",
    "    \"\"\"\n",
    "    Splits the dataset into training and testing sets while excluding demographic features.\n",
    "\n",
    "    Parameters:\n",
    "    df (DataFrame): The dataset containing features and target variable.\n",
    "    key_featsubgroups (DataFrame): A mapping of feature subgroups.\n",
    "    target (str): The name of the target variable.\n",
    "    test_size (float, optional): The proportion of the dataset to allocate for testing. Default is 0.2.\n",
    "    random_state (int, optional): Random seed for reproducibility. Default is 42.\n",
    "\n",
    "    Returns:\n",
    "    tuple: X_train, X_test, y_train, y_test (training and testing datasets)\n",
    "    \"\"\"\n",
    "\n",
    "    # Extract demographic features\n",
    "    demo_feat = key_featsubgroups.loc[key_featsubgroups['subgroup'] == 'demo', 'list_features'].values[0]\n",
    "    print(\"Demographic Features:\", demo_feat)\n",
    "\n",
    "    # Separate features (X) and target variable (y), excluding demographic features\n",
    "    X = df.drop(columns=[target] + demo_feat)\n",
    "    y = df[target]\n",
    "\n",
    "    # Split the dataset into training (80%) and testing (20%) sets\n",
    "    X_train, X_test, y_train, y_test = train_test_split(\n",
    "        X, y, test_size=test_size, random_state=random_state\n",
    "    )\n",
    "\n",
    "    # Print dataset shapes\n",
    "    print(f\"Training Features Shape: {X_train.shape}\")\n",
    "    print(f\"Training Labels Shape: {y_train.shape}\")\n",
    "    print(f\"Testing Features Shape: {X_test.shape}\")\n",
    "    print(f\"Testing Labels Shape: {y_test.shape}\")\n",
    "\n",
    "    return X_train, X_test, y_train, y_test"
   ]
  },
  {
   "cell_type": "code",
   "execution_count": 9,
   "id": "9b109154",
   "metadata": {},
   "outputs": [
    {
     "name": "stdout",
     "output_type": "stream",
     "text": [
      "Demographic Features: ['clientdata.demo.gender', 'clientdata.demo.age_year', 'clientdata.demo.age_month', 'clientdata.demo.children', 'clientdata.demo.children_singleparent', 'clientdata.demo.maritalstatus_expand_SINGLE', 'clientdata.demo.maritalstatus_expand_MARRIED', 'clientdata.demo.maritalstatus_expand_DIVORCED', 'clientdata.demo.maritalstatus_expand_WIDOWED', 'clientdata.demo.maritalstatus_expand_newvalue', 'clientdata.demo.maritalstatus_woe']\n",
      "Training Features Shape: (103565, 406)\n",
      "Training Labels Shape: (103565,)\n",
      "Testing Features Shape: (25892, 406)\n",
      "Testing Labels Shape: (25892,)\n"
     ]
    }
   ],
   "source": [
    "x_train, x_test, y_train, y_test = split_data_4(df)"
   ]
  },
  {
   "cell_type": "markdown",
   "id": "8107d54e",
   "metadata": {},
   "source": [
    "# 7) nn sklearn"
   ]
  },
  {
   "cell_type": "code",
   "execution_count": 10,
   "id": "156713ed",
   "metadata": {},
   "outputs": [],
   "source": [
    "def sklearn_nn(param_grid, df, results_dict):\n",
    "    \"\"\"\n",
    "    Grid-search tunes and trains an MLPClassifier (one hidden layer),\n",
    "    evaluates performance, and stores results in the given dictionary.\n",
    "\n",
    "    Parameters:\n",
    "    -----------\n",
    "    param_grid : dict\n",
    "        Grid of hyperparameters to try. Keys are param names for MLPClassifier\n",
    "        (e.g. \"hidden_layer_sizes\", \"activation\", \"solver\", \"learning_rate_init\",\n",
    "        \"batch_size\", \"max_iter\"), values are lists of candidate values.\n",
    "    df : DataFrame\n",
    "        Dataset containing features and the target variable.\n",
    "    results_dict : dict\n",
    "        Dictionary to store model performance metrics.\n",
    "\n",
    "    Returns:\n",
    "    --------\n",
    "    best_params : dict\n",
    "        Best hyperparameters found by grid search.\n",
    "    results_dict : dict\n",
    "        Updated results dictionary containing model evaluation metrics.\n",
    "    \"\"\"\n",
    "    start_time = time.time()\n",
    "    print(\"\\nStarting grid-search for MLPClassifier...\")\n",
    "\n",
    "    # Split data\n",
    "    X_train, X_test, y_train, y_test = split_data_4(df)\n",
    "\n",
    "    # Build list of all param combinations\n",
    "    grid = list(ParameterGrid(param_grid))\n",
    "    print(f\"Total parameter combinations to try: {len(grid)}\")\n",
    "\n",
    "    best_score = -np.inf\n",
    "    best_params = None\n",
    "\n",
    "    # Evaluate each combination via 5-fold CV accuracy\n",
    "    for i, params in enumerate(grid, 1):\n",
    "        print(f\"Trying combination {i}/{len(grid)}: {params}\")\n",
    "        clf = MLPClassifier(**params, random_state=0)\n",
    "        scores = cross_val_score(clf, X_train, y_train, cv=5, scoring=\"accuracy\")\n",
    "        mean_score = scores.mean()\n",
    "        print(f\" → mean CV accuracy: {mean_score:.4f}\")\n",
    "        if mean_score > best_score:\n",
    "            best_score = mean_score\n",
    "            best_params = params\n",
    "\n",
    "    print(\"Best hyperparameters found:\", best_params)\n",
    "    print(f\"Best CV accuracy: {best_score:.4f}\")\n",
    "\n",
    "    # Train final model on full training data\n",
    "    clf_best = MLPClassifier(**best_params, random_state=0)\n",
    "    clf_best.fit(X_train, y_train)\n",
    "\n",
    "    # Obtain predictions\n",
    "    y_train_pred = cross_val_predict(clf_best, X_train, y_train, cv=5)\n",
    "    y_test_pred  = clf_best.predict(X_test)\n",
    "    y_test_proba = clf_best.predict_proba(X_test)[:, 1]\n",
    "\n",
    "    # Compute metrics\n",
    "    cfm_train    = confusion_matrix(y_train, y_train_pred)\n",
    "    cfm_test     = confusion_matrix(y_test,  y_test_pred)\n",
    "    acc_train    = accuracy_score(y_train, y_train_pred)\n",
    "    acc_test     = accuracy_score(y_test,  y_test_pred)\n",
    "    f1_train_1   = f1_score(y_train, y_train_pred, pos_label=1)\n",
    "    f1_train_0   = f1_score(y_train, y_train_pred, pos_label=0)\n",
    "    f1_test_1    = f1_score(y_test,  y_test_pred,  pos_label=1)\n",
    "    f1_test_0    = f1_score(y_test,  y_test_pred,  pos_label=0)\n",
    "    roc_auc_test = roc_auc_score(y_test, y_test_proba)\n",
    "\n",
    "    total_time = (time.time() - start_time) / 60\n",
    "    print(f\"Grid-search & training completed in {total_time:.2f} minutes\")\n",
    "\n",
    "    # Store results\n",
    "    results_dict[\"sklearn_nn\"] = {\n",
    "        \"classifier\":             deepcopy(clf_best),\n",
    "        \"cfm_train\":              cfm_train,\n",
    "        \"cfm_test\":               cfm_test,\n",
    "        \"train_accuracy\":         acc_train,\n",
    "        \"test_accuracy\":          acc_test,\n",
    "        \"train F1-score label 1\": f1_train_1,\n",
    "        \"train F1-score label 0\": f1_train_0,\n",
    "        \"test F1-score label 1\":  f1_test_1,\n",
    "        \"test F1-score label 0\":  f1_test_0,\n",
    "        \"test roc auc score\":     roc_auc_test,\n",
    "        \"param_grid\":             param_grid,\n",
    "        \"best_params\":            best_params,\n",
    "        \"time_m\":                 total_time\n",
    "    }\n",
    "\n",
    "    return best_params, results_dict"
   ]
  },
  {
   "cell_type": "code",
   "execution_count": 11,
   "id": "1bec5b27",
   "metadata": {},
   "outputs": [
    {
     "name": "stdout",
     "output_type": "stream",
     "text": [
      "\n",
      "Starting grid-search for MLPClassifier...\n",
      "Demographic Features: ['clientdata.demo.gender', 'clientdata.demo.age_year', 'clientdata.demo.age_month', 'clientdata.demo.children', 'clientdata.demo.children_singleparent', 'clientdata.demo.maritalstatus_expand_SINGLE', 'clientdata.demo.maritalstatus_expand_MARRIED', 'clientdata.demo.maritalstatus_expand_DIVORCED', 'clientdata.demo.maritalstatus_expand_WIDOWED', 'clientdata.demo.maritalstatus_expand_newvalue', 'clientdata.demo.maritalstatus_woe']\n",
      "Training Features Shape: (103565, 406)\n",
      "Training Labels Shape: (103565,)\n",
      "Testing Features Shape: (25892, 406)\n",
      "Testing Labels Shape: (25892,)\n",
      "Total parameter combinations to try: 54\n",
      "Trying combination 1/54: {'activation': 'relu', 'alpha': 0.0001, 'hidden_layer_sizes': (100,), 'learning_rate': 'constant', 'learning_rate_init': 0.005, 'max_iter': 100, 'solver': 'adam'}\n",
      " → mean CV accuracy: 0.5372\n",
      "Trying combination 2/54: {'activation': 'relu', 'alpha': 0.0001, 'hidden_layer_sizes': (100,), 'learning_rate': 'constant', 'learning_rate_init': 0.005, 'max_iter': 200, 'solver': 'adam'}\n",
      " → mean CV accuracy: 0.5372\n",
      "Trying combination 3/54: {'activation': 'relu', 'alpha': 0.0001, 'hidden_layer_sizes': (100,), 'learning_rate': 'constant', 'learning_rate_init': 0.005, 'max_iter': 500, 'solver': 'adam'}\n",
      " → mean CV accuracy: 0.5372\n",
      "Trying combination 4/54: {'activation': 'relu', 'alpha': 0.0001, 'hidden_layer_sizes': (100,), 'learning_rate': 'constant', 'learning_rate_init': 0.01, 'max_iter': 100, 'solver': 'adam'}\n",
      " → mean CV accuracy: 0.5864\n",
      "Trying combination 5/54: {'activation': 'relu', 'alpha': 0.0001, 'hidden_layer_sizes': (100,), 'learning_rate': 'constant', 'learning_rate_init': 0.01, 'max_iter': 200, 'solver': 'adam'}\n",
      " → mean CV accuracy: 0.5864\n",
      "Trying combination 6/54: {'activation': 'relu', 'alpha': 0.0001, 'hidden_layer_sizes': (100,), 'learning_rate': 'constant', 'learning_rate_init': 0.01, 'max_iter': 500, 'solver': 'adam'}\n",
      " → mean CV accuracy: 0.5864\n",
      "Trying combination 7/54: {'activation': 'relu', 'alpha': 0.0001, 'hidden_layer_sizes': (100,), 'learning_rate': 'constant', 'learning_rate_init': 0.05, 'max_iter': 100, 'solver': 'adam'}\n",
      " → mean CV accuracy: 0.6451\n",
      "Trying combination 8/54: {'activation': 'relu', 'alpha': 0.0001, 'hidden_layer_sizes': (100,), 'learning_rate': 'constant', 'learning_rate_init': 0.05, 'max_iter': 200, 'solver': 'adam'}\n",
      " → mean CV accuracy: 0.6451\n",
      "Trying combination 9/54: {'activation': 'relu', 'alpha': 0.0001, 'hidden_layer_sizes': (100,), 'learning_rate': 'constant', 'learning_rate_init': 0.05, 'max_iter': 500, 'solver': 'adam'}\n",
      " → mean CV accuracy: 0.6451\n",
      "Trying combination 10/54: {'activation': 'relu', 'alpha': 0.0001, 'hidden_layer_sizes': (200,), 'learning_rate': 'constant', 'learning_rate_init': 0.005, 'max_iter': 100, 'solver': 'adam'}\n",
      " → mean CV accuracy: 0.5449\n",
      "Trying combination 11/54: {'activation': 'relu', 'alpha': 0.0001, 'hidden_layer_sizes': (200,), 'learning_rate': 'constant', 'learning_rate_init': 0.005, 'max_iter': 200, 'solver': 'adam'}\n",
      " → mean CV accuracy: 0.5449\n",
      "Trying combination 12/54: {'activation': 'relu', 'alpha': 0.0001, 'hidden_layer_sizes': (200,), 'learning_rate': 'constant', 'learning_rate_init': 0.005, 'max_iter': 500, 'solver': 'adam'}\n",
      " → mean CV accuracy: 0.5449\n",
      "Trying combination 13/54: {'activation': 'relu', 'alpha': 0.0001, 'hidden_layer_sizes': (200,), 'learning_rate': 'constant', 'learning_rate_init': 0.01, 'max_iter': 100, 'solver': 'adam'}\n",
      " → mean CV accuracy: 0.5260\n",
      "Trying combination 14/54: {'activation': 'relu', 'alpha': 0.0001, 'hidden_layer_sizes': (200,), 'learning_rate': 'constant', 'learning_rate_init': 0.01, 'max_iter': 200, 'solver': 'adam'}\n",
      " → mean CV accuracy: 0.5260\n",
      "Trying combination 15/54: {'activation': 'relu', 'alpha': 0.0001, 'hidden_layer_sizes': (200,), 'learning_rate': 'constant', 'learning_rate_init': 0.01, 'max_iter': 500, 'solver': 'adam'}\n",
      " → mean CV accuracy: 0.5260\n",
      "Trying combination 16/54: {'activation': 'relu', 'alpha': 0.0001, 'hidden_layer_sizes': (200,), 'learning_rate': 'constant', 'learning_rate_init': 0.05, 'max_iter': 100, 'solver': 'adam'}\n",
      " → mean CV accuracy: 0.6446\n",
      "Trying combination 17/54: {'activation': 'relu', 'alpha': 0.0001, 'hidden_layer_sizes': (200,), 'learning_rate': 'constant', 'learning_rate_init': 0.05, 'max_iter': 200, 'solver': 'adam'}\n",
      " → mean CV accuracy: 0.6446\n",
      "Trying combination 18/54: {'activation': 'relu', 'alpha': 0.0001, 'hidden_layer_sizes': (200,), 'learning_rate': 'constant', 'learning_rate_init': 0.05, 'max_iter': 500, 'solver': 'adam'}\n",
      " → mean CV accuracy: 0.6446\n",
      "Trying combination 19/54: {'activation': 'relu', 'alpha': 0.0001, 'hidden_layer_sizes': (300,), 'learning_rate': 'constant', 'learning_rate_init': 0.005, 'max_iter': 100, 'solver': 'adam'}\n",
      " → mean CV accuracy: 0.6040\n",
      "Trying combination 20/54: {'activation': 'relu', 'alpha': 0.0001, 'hidden_layer_sizes': (300,), 'learning_rate': 'constant', 'learning_rate_init': 0.005, 'max_iter': 200, 'solver': 'adam'}\n",
      " → mean CV accuracy: 0.6040\n",
      "Trying combination 21/54: {'activation': 'relu', 'alpha': 0.0001, 'hidden_layer_sizes': (300,), 'learning_rate': 'constant', 'learning_rate_init': 0.005, 'max_iter': 500, 'solver': 'adam'}\n",
      " → mean CV accuracy: 0.6040\n",
      "Trying combination 22/54: {'activation': 'relu', 'alpha': 0.0001, 'hidden_layer_sizes': (300,), 'learning_rate': 'constant', 'learning_rate_init': 0.01, 'max_iter': 100, 'solver': 'adam'}\n",
      " → mean CV accuracy: 0.6067\n",
      "Trying combination 23/54: {'activation': 'relu', 'alpha': 0.0001, 'hidden_layer_sizes': (300,), 'learning_rate': 'constant', 'learning_rate_init': 0.01, 'max_iter': 200, 'solver': 'adam'}\n",
      " → mean CV accuracy: 0.6067\n",
      "Trying combination 24/54: {'activation': 'relu', 'alpha': 0.0001, 'hidden_layer_sizes': (300,), 'learning_rate': 'constant', 'learning_rate_init': 0.01, 'max_iter': 500, 'solver': 'adam'}\n",
      " → mean CV accuracy: 0.6067\n",
      "Trying combination 25/54: {'activation': 'relu', 'alpha': 0.0001, 'hidden_layer_sizes': (300,), 'learning_rate': 'constant', 'learning_rate_init': 0.05, 'max_iter': 100, 'solver': 'adam'}\n",
      " → mean CV accuracy: 0.5971\n",
      "Trying combination 26/54: {'activation': 'relu', 'alpha': 0.0001, 'hidden_layer_sizes': (300,), 'learning_rate': 'constant', 'learning_rate_init': 0.05, 'max_iter': 200, 'solver': 'adam'}\n",
      " → mean CV accuracy: 0.5971\n",
      "Trying combination 27/54: {'activation': 'relu', 'alpha': 0.0001, 'hidden_layer_sizes': (300,), 'learning_rate': 'constant', 'learning_rate_init': 0.05, 'max_iter': 500, 'solver': 'adam'}\n",
      " → mean CV accuracy: 0.5971\n",
      "Trying combination 28/54: {'activation': 'relu', 'alpha': 0.01, 'hidden_layer_sizes': (100,), 'learning_rate': 'constant', 'learning_rate_init': 0.005, 'max_iter': 100, 'solver': 'adam'}\n",
      " → mean CV accuracy: 0.5405\n",
      "Trying combination 29/54: {'activation': 'relu', 'alpha': 0.01, 'hidden_layer_sizes': (100,), 'learning_rate': 'constant', 'learning_rate_init': 0.005, 'max_iter': 200, 'solver': 'adam'}\n",
      " → mean CV accuracy: 0.5405\n",
      "Trying combination 30/54: {'activation': 'relu', 'alpha': 0.01, 'hidden_layer_sizes': (100,), 'learning_rate': 'constant', 'learning_rate_init': 0.005, 'max_iter': 500, 'solver': 'adam'}\n",
      " → mean CV accuracy: 0.5405\n",
      "Trying combination 31/54: {'activation': 'relu', 'alpha': 0.01, 'hidden_layer_sizes': (100,), 'learning_rate': 'constant', 'learning_rate_init': 0.01, 'max_iter': 100, 'solver': 'adam'}\n",
      " → mean CV accuracy: 0.5111\n",
      "Trying combination 32/54: {'activation': 'relu', 'alpha': 0.01, 'hidden_layer_sizes': (100,), 'learning_rate': 'constant', 'learning_rate_init': 0.01, 'max_iter': 200, 'solver': 'adam'}\n",
      " → mean CV accuracy: 0.5111\n",
      "Trying combination 33/54: {'activation': 'relu', 'alpha': 0.01, 'hidden_layer_sizes': (100,), 'learning_rate': 'constant', 'learning_rate_init': 0.01, 'max_iter': 500, 'solver': 'adam'}\n",
      " → mean CV accuracy: 0.5111\n",
      "Trying combination 34/54: {'activation': 'relu', 'alpha': 0.01, 'hidden_layer_sizes': (100,), 'learning_rate': 'constant', 'learning_rate_init': 0.05, 'max_iter': 100, 'solver': 'adam'}\n",
      " → mean CV accuracy: 0.6451\n",
      "Trying combination 35/54: {'activation': 'relu', 'alpha': 0.01, 'hidden_layer_sizes': (100,), 'learning_rate': 'constant', 'learning_rate_init': 0.05, 'max_iter': 200, 'solver': 'adam'}\n",
      " → mean CV accuracy: 0.6451\n",
      "Trying combination 36/54: {'activation': 'relu', 'alpha': 0.01, 'hidden_layer_sizes': (100,), 'learning_rate': 'constant', 'learning_rate_init': 0.05, 'max_iter': 500, 'solver': 'adam'}\n",
      " → mean CV accuracy: 0.6451\n",
      "Trying combination 37/54: {'activation': 'relu', 'alpha': 0.01, 'hidden_layer_sizes': (200,), 'learning_rate': 'constant', 'learning_rate_init': 0.005, 'max_iter': 100, 'solver': 'adam'}\n",
      " → mean CV accuracy: 0.6081\n",
      "Trying combination 38/54: {'activation': 'relu', 'alpha': 0.01, 'hidden_layer_sizes': (200,), 'learning_rate': 'constant', 'learning_rate_init': 0.005, 'max_iter': 200, 'solver': 'adam'}\n",
      " → mean CV accuracy: 0.6081\n",
      "Trying combination 39/54: {'activation': 'relu', 'alpha': 0.01, 'hidden_layer_sizes': (200,), 'learning_rate': 'constant', 'learning_rate_init': 0.005, 'max_iter': 500, 'solver': 'adam'}\n",
      " → mean CV accuracy: 0.6081\n",
      "Trying combination 40/54: {'activation': 'relu', 'alpha': 0.01, 'hidden_layer_sizes': (200,), 'learning_rate': 'constant', 'learning_rate_init': 0.01, 'max_iter': 100, 'solver': 'adam'}\n",
      " → mean CV accuracy: 0.6142\n",
      "Trying combination 41/54: {'activation': 'relu', 'alpha': 0.01, 'hidden_layer_sizes': (200,), 'learning_rate': 'constant', 'learning_rate_init': 0.01, 'max_iter': 200, 'solver': 'adam'}\n",
      " → mean CV accuracy: 0.6142\n",
      "Trying combination 42/54: {'activation': 'relu', 'alpha': 0.01, 'hidden_layer_sizes': (200,), 'learning_rate': 'constant', 'learning_rate_init': 0.01, 'max_iter': 500, 'solver': 'adam'}\n",
      " → mean CV accuracy: 0.6142\n",
      "Trying combination 43/54: {'activation': 'relu', 'alpha': 0.01, 'hidden_layer_sizes': (200,), 'learning_rate': 'constant', 'learning_rate_init': 0.05, 'max_iter': 100, 'solver': 'adam'}\n",
      " → mean CV accuracy: 0.6449\n",
      "Trying combination 44/54: {'activation': 'relu', 'alpha': 0.01, 'hidden_layer_sizes': (200,), 'learning_rate': 'constant', 'learning_rate_init': 0.05, 'max_iter': 200, 'solver': 'adam'}\n",
      " → mean CV accuracy: 0.6449\n",
      "Trying combination 45/54: {'activation': 'relu', 'alpha': 0.01, 'hidden_layer_sizes': (200,), 'learning_rate': 'constant', 'learning_rate_init': 0.05, 'max_iter': 500, 'solver': 'adam'}\n",
      " → mean CV accuracy: 0.6449\n",
      "Trying combination 46/54: {'activation': 'relu', 'alpha': 0.01, 'hidden_layer_sizes': (300,), 'learning_rate': 'constant', 'learning_rate_init': 0.005, 'max_iter': 100, 'solver': 'adam'}\n",
      " → mean CV accuracy: 0.5808\n",
      "Trying combination 47/54: {'activation': 'relu', 'alpha': 0.01, 'hidden_layer_sizes': (300,), 'learning_rate': 'constant', 'learning_rate_init': 0.005, 'max_iter': 200, 'solver': 'adam'}\n",
      " → mean CV accuracy: 0.5808\n",
      "Trying combination 48/54: {'activation': 'relu', 'alpha': 0.01, 'hidden_layer_sizes': (300,), 'learning_rate': 'constant', 'learning_rate_init': 0.005, 'max_iter': 500, 'solver': 'adam'}\n",
      " → mean CV accuracy: 0.5808\n",
      "Trying combination 49/54: {'activation': 'relu', 'alpha': 0.01, 'hidden_layer_sizes': (300,), 'learning_rate': 'constant', 'learning_rate_init': 0.01, 'max_iter': 100, 'solver': 'adam'}\n",
      " → mean CV accuracy: 0.6152\n",
      "Trying combination 50/54: {'activation': 'relu', 'alpha': 0.01, 'hidden_layer_sizes': (300,), 'learning_rate': 'constant', 'learning_rate_init': 0.01, 'max_iter': 200, 'solver': 'adam'}\n",
      " → mean CV accuracy: 0.6152\n",
      "Trying combination 51/54: {'activation': 'relu', 'alpha': 0.01, 'hidden_layer_sizes': (300,), 'learning_rate': 'constant', 'learning_rate_init': 0.01, 'max_iter': 500, 'solver': 'adam'}\n",
      " → mean CV accuracy: 0.6152\n",
      "Trying combination 52/54: {'activation': 'relu', 'alpha': 0.01, 'hidden_layer_sizes': (300,), 'learning_rate': 'constant', 'learning_rate_init': 0.05, 'max_iter': 100, 'solver': 'adam'}\n",
      " → mean CV accuracy: 0.6451\n",
      "Trying combination 53/54: {'activation': 'relu', 'alpha': 0.01, 'hidden_layer_sizes': (300,), 'learning_rate': 'constant', 'learning_rate_init': 0.05, 'max_iter': 200, 'solver': 'adam'}\n",
      " → mean CV accuracy: 0.6451\n",
      "Trying combination 54/54: {'activation': 'relu', 'alpha': 0.01, 'hidden_layer_sizes': (300,), 'learning_rate': 'constant', 'learning_rate_init': 0.05, 'max_iter': 500, 'solver': 'adam'}\n",
      " → mean CV accuracy: 0.6451\n",
      "Best hyperparameters found: {'activation': 'relu', 'alpha': 0.0001, 'hidden_layer_sizes': (100,), 'learning_rate': 'constant', 'learning_rate_init': 0.05, 'max_iter': 100, 'solver': 'adam'}\n",
      "Best CV accuracy: 0.6451\n",
      "Grid-search & training completed in 1661.11 minutes\n"
     ]
    }
   ],
   "source": [
    "best_params, results_dict = sklearn_nn(param_grid, df, results_dict)"
   ]
  },
  {
   "cell_type": "code",
   "execution_count": 19,
   "id": "a346b265",
   "metadata": {},
   "outputs": [],
   "source": [
    "with open('../pickle/Monedo_7/without_optuna/best_params.pkl','wb') as f: \n",
    "    pickle.dump(best_params, f, pickle.HIGHEST_PROTOCOL)"
   ]
  },
  {
   "cell_type": "code",
   "execution_count": 20,
   "id": "cb065736",
   "metadata": {},
   "outputs": [],
   "source": [
    "with open('../pickle/Monedo_7/without_optuna/results_dict.pkl','wb') as f: \n",
    "    pickle.dump(results_dict, f, pickle.HIGHEST_PROTOCOL)"
   ]
  },
  {
   "cell_type": "code",
   "execution_count": null,
   "id": "62fc4cbc",
   "metadata": {},
   "outputs": [],
   "source": []
  }
 ],
 "metadata": {
  "kernelspec": {
   "display_name": "Work",
   "language": "python",
   "name": "python3"
  },
  "language_info": {
   "codemirror_mode": {
    "name": "ipython",
    "version": 3
   },
   "file_extension": ".py",
   "mimetype": "text/x-python",
   "name": "python",
   "nbconvert_exporter": "python",
   "pygments_lexer": "ipython3",
   "version": "3.12.9"
  }
 },
 "nbformat": 4,
 "nbformat_minor": 5
}
