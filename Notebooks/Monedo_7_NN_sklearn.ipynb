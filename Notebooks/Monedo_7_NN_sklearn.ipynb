{
 "cells": [
  {
   "cell_type": "markdown",
   "id": "df3c8c4b",
   "metadata": {},
   "source": [
    "# Imports"
   ]
  },
  {
   "cell_type": "code",
   "execution_count": 3,
   "id": "b5f77aff",
   "metadata": {},
   "outputs": [
    {
     "name": "stderr",
     "output_type": "stream",
     "text": [
      "/home/RDC/fliegebe/.conda/envs/Work/lib/python3.12/site-packages/tqdm/auto.py:21: TqdmWarning: IProgress not found. Please update jupyter and ipywidgets. See https://ipywidgets.readthedocs.io/en/stable/user_install.html\n",
      "  from .autonotebook import tqdm as notebook_tqdm\n"
     ]
    }
   ],
   "source": [
    "%run Imports.ipynb\n",
    "name = 'Kred'\n",
    "\n",
    "# specific imports\n",
    "from sklearn.neural_network import MLPClassifier\n",
    "from sklearn.model_selection import GridSearchCV\n",
    "\n",
    "\n",
    "key_featsubgroups = pd.read_pickle('../pickle/2_FS/' + name + '/key_featsubgroups.pkl')\n",
    "df = pd.read_pickle('../pickle/2_FS/' + name + '/2_df_new_.pkl')"
   ]
  },
  {
   "cell_type": "code",
   "execution_count": 4,
   "id": "20e802b3",
   "metadata": {},
   "outputs": [
    {
     "name": "stdout",
     "output_type": "stream",
     "text": [
      "arrears\n",
      "1   0.646\n",
      "0   0.354\n",
      "Name: count, dtype: float64\n",
      "df_shape:  (129457, 418)\n"
     ]
    }
   ],
   "source": [
    "print(df[target].value_counts()/df.shape[0])\n",
    "print('df_shape: ', df.shape)"
   ]
  },
  {
   "cell_type": "code",
   "execution_count": 5,
   "id": "c247ba46",
   "metadata": {},
   "outputs": [],
   "source": [
    "# param grid scikit\n",
    "param_grid = {\n",
    "    'hidden_layer_sizes': [(h,) for h in [5, 10, 20, 50, 100, 200, 300, 406]],\n",
    "    'activation': ['relu', 'tanh', 'logistic'],                   # activation functions\n",
    "    'solver': ['adam', 'sgd'],                                    # optimization algorithms\n",
    "    'alpha': [0.0001, 0.001, 0.01, 0.1],                                # L2 regularization\n",
    "    'learning_rate': ['constant', 'adaptive'],                    # learning rate strategy\n",
    "    'learning_rate_init': [0.001, 0.005, 0.01, 0.05],                           # initial learning rate\n",
    "    'max_iter': [100, 200, 500, 750, 1000]                                        # training epochs\n",
    "}"
   ]
  },
  {
   "cell_type": "code",
   "execution_count": 6,
   "id": "a56e497d",
   "metadata": {},
   "outputs": [],
   "source": [
    "# testing grid\n",
    "pg = {\n",
    "    'hidden_layer_sizes': [(h,) for h in [5,10]],\n",
    "    'activation': ['relu'],                   # activation functions\n",
    "    'solver': ['adam'],                                    # optimization algorithms\n",
    "    'alpha': [0.1],                                # L2 regularization\n",
    "    'learning_rate': ['constant'],                    # learning rate strategy\n",
    "    'learning_rate_init': [0.05],                           # initial learning rate\n",
    "    'max_iter': [10, 15]                                        # training epochs\n",
    "}"
   ]
  },
  {
   "cell_type": "code",
   "execution_count": 7,
   "id": "9c942a8a",
   "metadata": {},
   "outputs": [],
   "source": [
    "with open('../pickle/4_Model_Optuna/results_dict_updated.pkl', 'rb') as f:\n",
    "    results_dict = pickle.load(f)"
   ]
  },
  {
   "cell_type": "code",
   "execution_count": 8,
   "id": "312cfeb0",
   "metadata": {},
   "outputs": [],
   "source": [
    "with open('../pickle/3_Model/xgb_default_params.pkl', 'rb') as f:\n",
    "    default_params = pickle.load(f)\n"
   ]
  },
  {
   "cell_type": "markdown",
   "id": "d70ff39a",
   "metadata": {},
   "source": [
    "# 2) Create Model prediction functions"
   ]
  },
  {
   "cell_type": "markdown",
   "id": "87bf3c58",
   "metadata": {},
   "source": [
    "## 2.1) Split dataset into train/testing while excluding demographic features"
   ]
  },
  {
   "cell_type": "code",
   "execution_count": 9,
   "id": "5a315b83",
   "metadata": {},
   "outputs": [],
   "source": [
    "def split_data_4(df, key_featsubgroups=key_featsubgroups, target=target, test_size=0.2, random_state=42):\n",
    "    \"\"\"\n",
    "    Splits the dataset into training and testing sets while excluding demographic features.\n",
    "\n",
    "    Parameters:\n",
    "    df (DataFrame): The dataset containing features and target variable.\n",
    "    key_featsubgroups (DataFrame): A mapping of feature subgroups.\n",
    "    target (str): The name of the target variable.\n",
    "    test_size (float, optional): The proportion of the dataset to allocate for testing. Default is 0.2.\n",
    "    random_state (int, optional): Random seed for reproducibility. Default is 42.\n",
    "\n",
    "    Returns:\n",
    "    tuple: X_train, X_test, y_train, y_test (training and testing datasets)\n",
    "    \"\"\"\n",
    "\n",
    "    # Extract demographic features\n",
    "    demo_feat = key_featsubgroups.loc[key_featsubgroups['subgroup'] == 'demo', 'list_features'].values[0]\n",
    "    print(\"Demographic Features:\", demo_feat)\n",
    "\n",
    "    # Separate features (X) and target variable (y), excluding demographic features\n",
    "    X = df.drop(columns=[target] + demo_feat)\n",
    "    y = df[target]\n",
    "\n",
    "    # Split the dataset into training (80%) and testing (20%) sets\n",
    "    X_train, X_test, y_train, y_test = train_test_split(\n",
    "        X, y, test_size=test_size, random_state=random_state\n",
    "    )\n",
    "\n",
    "    # Print dataset shapes\n",
    "    print(f\"Training Features Shape: {X_train.shape}\")\n",
    "    print(f\"Training Labels Shape: {y_train.shape}\")\n",
    "    print(f\"Testing Features Shape: {X_test.shape}\")\n",
    "    print(f\"Testing Labels Shape: {y_test.shape}\")\n",
    "\n",
    "    return X_train, X_test, y_train, y_test"
   ]
  },
  {
   "cell_type": "markdown",
   "id": "85f38532",
   "metadata": {},
   "source": [
    "## 2.2) Model training and prediction"
   ]
  },
  {
   "cell_type": "code",
   "execution_count": 10,
   "id": "87cdc403",
   "metadata": {},
   "outputs": [
    {
     "name": "stdout",
     "output_type": "stream",
     "text": [
      "Demographic Features: ['clientdata.demo.gender', 'clientdata.demo.age_year', 'clientdata.demo.age_month', 'clientdata.demo.children', 'clientdata.demo.children_singleparent', 'clientdata.demo.maritalstatus_expand_SINGLE', 'clientdata.demo.maritalstatus_expand_MARRIED', 'clientdata.demo.maritalstatus_expand_DIVORCED', 'clientdata.demo.maritalstatus_expand_WIDOWED', 'clientdata.demo.maritalstatus_expand_newvalue', 'clientdata.demo.maritalstatus_woe']\n",
      "Training Features Shape: (103565, 406)\n",
      "Training Labels Shape: (103565,)\n",
      "Testing Features Shape: (25892, 406)\n",
      "Testing Labels Shape: (25892,)\n"
     ]
    }
   ],
   "source": [
    "x_train, x_test, y_train, y_test = split_data_4(df)"
   ]
  },
  {
   "cell_type": "markdown",
   "id": "1cd2adef",
   "metadata": {},
   "source": [
    "## 7) Neural Network Sklearn"
   ]
  },
  {
   "cell_type": "code",
   "execution_count": 11,
   "id": "7d041476",
   "metadata": {},
   "outputs": [],
   "source": [
    "def sklearn_nn(param_grid, df, results_dict):\n",
    "    \"\"\"\n",
    "    Tunes and trains an MLPClassifier (one hidden layer) via Optuna,\n",
    "    evaluates performance, and stores results in the given dictionary.\n",
    "\n",
    "    Parameters:\n",
    "    -----------\n",
    "    default_params : dict\n",
    "        Default hyperparameters (each as a list) for reference.\n",
    "    param_grid : dict\n",
    "        Search space for Optuna (keys are param names, values are lists).\n",
    "    df : DataFrame\n",
    "        Dataset containing features and the target.\n",
    "    results_dict : dict\n",
    "        Dictionary to store model performance metrics.\n",
    "\n",
    "    Returns:\n",
    "    --------\n",
    "    best_params : dict\n",
    "        Best parameters found by Optuna.\n",
    "    results_dict : dict\n",
    "        Updated results dictionary containing model evaluation metrics.\n",
    "    \"\"\"\n",
    "    start_time = time.time()\n",
    "\n",
    "    # split_data_4 must return X_train, X_test, y_train, y_test\n",
    "    X_train, X_test, y_train, y_test = split_data_4(df)\n",
    "\n",
    "    # total number of trials = sum of lengths of all search lists\n",
    "    n_trials = int(np.sum([len(v) for v in param_grid.values()]))\n",
    "    print(f\"No. of trials scheduled: {n_trials}\")\n",
    "\n",
    "    def objective(trial):\n",
    "        # sample each hyperparameter categorically\n",
    "        params = {\n",
    "            key: trial.suggest_categorical(key, values)\n",
    "            for key, values in param_grid.items()\n",
    "        }\n",
    "        clf = MLPClassifier(**params, random_state=0)\n",
    "        # use 5-fold CV accuracy as objective\n",
    "        return cross_val_score(clf, X_train, y_train, cv=5, scoring='accuracy').mean()\n",
    "\n",
    "    study = optuna.create_study(direction=\"maximize\")\n",
    "    study.optimize(objective, n_trials=n_trials)\n",
    "\n",
    "    best_params = study.best_params\n",
    "    print(\"Best hyperparameters found:\", best_params)\n",
    "\n",
    "    # Train final model with best params\n",
    "    clf_best = MLPClassifier(**best_params, random_state=0)\n",
    "    clf_best.fit(X_train, y_train)\n",
    "\n",
    "    # Cross-validated predictions on train set\n",
    "    y_train_pred = cross_val_predict(clf_best, X_train, y_train, cv=5)\n",
    "    # Predictions on test set\n",
    "    y_test_pred = clf_best.predict(X_test)\n",
    "\n",
    "    # Compute confusion matrices\n",
    "    cfm_train = confusion_matrix(y_train, y_train_pred)\n",
    "    cfm_test  = confusion_matrix(y_test,  y_test_pred)\n",
    "\n",
    "    # Compute accuracy\n",
    "    acc_train = accuracy_score(y_train, y_train_pred)\n",
    "    acc_test  = accuracy_score(y_test,  y_test_pred)\n",
    "\n",
    "    # Compute F1-scores for both classes\n",
    "    f1_train_1 = f1_score(y_train, y_train_pred, pos_label=1)\n",
    "    f1_train_0 = f1_score(y_train, y_train_pred, pos_label=0)\n",
    "    f1_test_1  = f1_score(y_test,  y_test_pred,  pos_label=1)\n",
    "    f1_test_0  = f1_score(y_test,  y_test_pred,  pos_label=0)\n",
    "\n",
    "    # Compute ROC-AUC on test set\n",
    "    y_test_proba = clf_best.predict_proba(X_test)[:, 1]\n",
    "    roc_auc_test = roc_auc_score(y_test, y_test_proba)\n",
    "\n",
    "    total_time = (time.time() - start_time) / 60\n",
    "    print(f\"MLP optimization & training completed in {total_time:.2f} minutes\")\n",
    "\n",
    "    # Store everything in results_dict\n",
    "    results_dict[\"sklearn_nn\"] = {\n",
    "        \"classifier\": deepcopy(clf_best),\n",
    "        \"cfm_train\": cfm_train,\n",
    "        \"cfm_test\":  cfm_test,\n",
    "        \"train_accuracy\": acc_train,\n",
    "        \"test_accuracy\":  acc_test,\n",
    "        \"train F1-score label 1\": f1_train_1,\n",
    "        \"train F1-score label 0\": f1_train_0,\n",
    "        \"test F1-score label 1\":  f1_test_1,\n",
    "        \"test F1-score label 0\":  f1_test_0,\n",
    "        \"test roc auc score\":     roc_auc_test,\n",
    "        \"default_params\": default_params,\n",
    "        \"param_grid\":    param_grid,\n",
    "        \"best_params\":   best_params,\n",
    "        \"time_m\":        total_time\n",
    "    }\n",
    "\n",
    "    return best_params, results_dict"
   ]
  },
  {
   "cell_type": "code",
   "execution_count": null,
   "id": "31bc38e8",
   "metadata": {},
   "outputs": [
    {
     "name": "stdout",
     "output_type": "stream",
     "text": [
      "Demographic Features: ['clientdata.demo.gender', 'clientdata.demo.age_year', 'clientdata.demo.age_month', 'clientdata.demo.children', 'clientdata.demo.children_singleparent', 'clientdata.demo.maritalstatus_expand_SINGLE', 'clientdata.demo.maritalstatus_expand_MARRIED', 'clientdata.demo.maritalstatus_expand_DIVORCED', 'clientdata.demo.maritalstatus_expand_WIDOWED', 'clientdata.demo.maritalstatus_expand_newvalue', 'clientdata.demo.maritalstatus_woe']\n"
     ]
    },
    {
     "name": "stderr",
     "output_type": "stream",
     "text": [
      "[I 2025-06-10 15:48:54,529] A new study created in memory with name: no-name-6399edb1-329f-4893-86b8-bf3fab3c6d91\n"
     ]
    },
    {
     "name": "stdout",
     "output_type": "stream",
     "text": [
      "Training Features Shape: (103565, 406)\n",
      "Training Labels Shape: (103565,)\n",
      "Testing Features Shape: (25892, 406)\n",
      "Testing Labels Shape: (25892,)\n",
      "No. of trials scheduled: 9\n"
     ]
    },
    {
     "name": "stderr",
     "output_type": "stream",
     "text": [
      "[I 2025-06-10 15:49:12,181] Trial 0 finished with value: 0.6394921064066046 and parameters: {'hidden_layer_sizes': (10,), 'activation': 'relu', 'solver': 'adam', 'alpha': 0.1, 'learning_rate': 'constant', 'learning_rate_init': 0.05, 'max_iter': 10}. Best is trial 0 with value: 0.6394921064066046.\n",
      "[I 2025-06-10 15:49:37,808] Trial 1 finished with value: 0.6443103365036451 and parameters: {'hidden_layer_sizes': (10,), 'activation': 'relu', 'solver': 'adam', 'alpha': 0.1, 'learning_rate': 'constant', 'learning_rate_init': 0.05, 'max_iter': 15}. Best is trial 1 with value: 0.6443103365036451.\n",
      "[I 2025-06-10 15:49:56,106] Trial 2 finished with value: 0.6394921064066046 and parameters: {'hidden_layer_sizes': (10,), 'activation': 'relu', 'solver': 'adam', 'alpha': 0.1, 'learning_rate': 'constant', 'learning_rate_init': 0.05, 'max_iter': 10}. Best is trial 1 with value: 0.6443103365036451.\n"
     ]
    }
   ],
   "source": [
    "best_params, results_dict = sklearn_nn(pg, df, results_dict)"
   ]
  },
  {
   "cell_type": "code",
   "execution_count": null,
   "id": "a794e8ce",
   "metadata": {},
   "outputs": [],
   "source": [
    "with open('../pickle/7_Model/sklearn_nn_results.pkl', 'wb') as f:\n",
    "    pickle.dump(results_dict, f, pickle.HIGHEST_PROTOCOL)"
   ]
  },
  {
   "cell_type": "code",
   "execution_count": null,
   "id": "0c223ff4",
   "metadata": {},
   "outputs": [],
   "source": [
    "with open('../pickle/7_Model/sklearn_nn_best_params.pkl', 'wb') as f:\n",
    "    pickle.dump(best_params, f, pickle.HIGHEST_PROTOCOL)"
   ]
  },
  {
   "cell_type": "code",
   "execution_count": null,
   "id": "38e79ba8",
   "metadata": {},
   "outputs": [],
   "source": []
  }
 ],
 "metadata": {
  "kernelspec": {
   "display_name": "datachange_work",
   "language": "python",
   "name": "python3"
  },
  "language_info": {
   "codemirror_mode": {
    "name": "ipython",
    "version": 3
   },
   "file_extension": ".py",
   "mimetype": "text/x-python",
   "name": "python",
   "nbconvert_exporter": "python",
   "pygments_lexer": "ipython3",
   "version": "3.12.9"
  }
 },
 "nbformat": 4,
 "nbformat_minor": 5
}
