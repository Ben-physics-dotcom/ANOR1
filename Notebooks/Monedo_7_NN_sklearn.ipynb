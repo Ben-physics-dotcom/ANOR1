{
 "cells": [
  {
   "cell_type": "markdown",
   "id": "df3c8c4b",
   "metadata": {},
   "source": [
    "# Imports"
   ]
  },
  {
   "cell_type": "code",
   "execution_count": 2,
   "id": "b5f77aff",
   "metadata": {},
   "outputs": [
    {
     "name": "stderr",
     "output_type": "stream",
     "text": [
      "c:\\Users\\benjf\\anaconda3\\envs\\datachange_work\\Lib\\site-packages\\tqdm\\auto.py:21: TqdmWarning: IProgress not found. Please update jupyter and ipywidgets. See https://ipywidgets.readthedocs.io/en/stable/user_install.html\n",
      "  from .autonotebook import tqdm as notebook_tqdm\n"
     ]
    }
   ],
   "source": [
    "%run Imports.ipynb\n",
    "name = 'Kred'\n",
    "\n",
    "# specific imports\n",
    "from sklearn.neural_network import MLPClassifier\n",
    "from sklearn.model_selection import GridSearchCV\n",
    "\n",
    "\n",
    "key_featsubgroups = pd.read_pickle('../pickle/2_FS/' + name + '/key_featsubgroups.pkl')\n",
    "df = pd.read_pickle('../pickle/2_FS/' + name + '/2_df_new_.pkl')"
   ]
  },
  {
   "cell_type": "code",
   "execution_count": 3,
   "id": "20e802b3",
   "metadata": {},
   "outputs": [
    {
     "name": "stdout",
     "output_type": "stream",
     "text": [
      "arrears\n",
      "1   0.646\n",
      "0   0.354\n",
      "Name: count, dtype: float64\n",
      "df_shape:  (129457, 418)\n"
     ]
    }
   ],
   "source": [
    "print(df[target].value_counts()/df.shape[0])\n",
    "print('df_shape: ', df.shape)"
   ]
  },
  {
   "cell_type": "code",
   "execution_count": 4,
   "id": "c247ba46",
   "metadata": {},
   "outputs": [],
   "source": [
    "# param grid scikit\n",
    "param_grid = {\n",
    "    'hidden_layer_sizes': [(h,) for h in [5, 10, 20, 50, 100, 200, 300, 406]],\n",
    "    'activation': ['relu', 'tanh', 'logistic'],                   # activation functions\n",
    "    'solver': ['adam', 'sgd'],                                    # optimization algorithms\n",
    "    'alpha': [0.0001, 0.001, 0.01, 0.1],                                # L2 regularization\n",
    "    'learning_rate': ['constant', 'adaptive'],                    # learning rate strategy\n",
    "    'learning_rate_init': [0.001, 0.005, 0.01, 0.05],                           # initial learning rate\n",
    "    'max_iter': [100, 200, 500, 750, 1000]                                        # training epochs\n",
    "}"
   ]
  },
  {
   "cell_type": "code",
   "execution_count": 5,
   "id": "9c942a8a",
   "metadata": {},
   "outputs": [],
   "source": [
    "with open('../pickle/4_Model_Optuna/results_dict_updated.pkl', 'rb') as f:\n",
    "    results_dict = pickle.load(f)"
   ]
  },
  {
   "cell_type": "code",
   "execution_count": 6,
   "id": "312cfeb0",
   "metadata": {},
   "outputs": [],
   "source": [
    "with open('../pickle/3_Model/xgb_default_params.pkl', 'rb') as f:\n",
    "    default_params = pickle.load(f)\n"
   ]
  },
  {
   "cell_type": "markdown",
   "id": "d70ff39a",
   "metadata": {},
   "source": [
    "# 2) Create Model prediction functions"
   ]
  },
  {
   "cell_type": "markdown",
   "id": "87bf3c58",
   "metadata": {},
   "source": [
    "## 2.1) Split dataset into train/testing while excluding demographic features"
   ]
  },
  {
   "cell_type": "code",
   "execution_count": 5,
   "id": "5a315b83",
   "metadata": {},
   "outputs": [],
   "source": [
    "def split_data_4(df, key_featsubgroups=key_featsubgroups, target=target, test_size=0.2, random_state=42):\n",
    "    \"\"\"\n",
    "    Splits the dataset into training and testing sets while excluding demographic features.\n",
    "\n",
    "    Parameters:\n",
    "    df (DataFrame): The dataset containing features and target variable.\n",
    "    key_featsubgroups (DataFrame): A mapping of feature subgroups.\n",
    "    target (str): The name of the target variable.\n",
    "    test_size (float, optional): The proportion of the dataset to allocate for testing. Default is 0.2.\n",
    "    random_state (int, optional): Random seed for reproducibility. Default is 42.\n",
    "\n",
    "    Returns:\n",
    "    tuple: X_train, X_test, y_train, y_test (training and testing datasets)\n",
    "    \"\"\"\n",
    "\n",
    "    # Extract demographic features\n",
    "    demo_feat = key_featsubgroups.loc[key_featsubgroups['subgroup'] == 'demo', 'list_features'].values[0]\n",
    "    print(\"Demographic Features:\", demo_feat)\n",
    "\n",
    "    # Separate features (X) and target variable (y), excluding demographic features\n",
    "    X = df.drop(columns=[target] + demo_feat)\n",
    "    y = df[target]\n",
    "\n",
    "    # Split the dataset into training (80%) and testing (20%) sets\n",
    "    X_train, X_test, y_train, y_test = train_test_split(\n",
    "        X, y, test_size=test_size, random_state=random_state\n",
    "    )\n",
    "\n",
    "    # Print dataset shapes\n",
    "    print(f\"Training Features Shape: {X_train.shape}\")\n",
    "    print(f\"Training Labels Shape: {y_train.shape}\")\n",
    "    print(f\"Testing Features Shape: {X_test.shape}\")\n",
    "    print(f\"Testing Labels Shape: {y_test.shape}\")\n",
    "\n",
    "    return X_train, X_test, y_train, y_test"
   ]
  },
  {
   "cell_type": "markdown",
   "id": "85f38532",
   "metadata": {},
   "source": [
    "## 2.2) Model training and prediction"
   ]
  },
  {
   "cell_type": "code",
   "execution_count": 6,
   "id": "87cdc403",
   "metadata": {},
   "outputs": [
    {
     "name": "stdout",
     "output_type": "stream",
     "text": [
      "Demographic Features: ['clientdata.demo.gender', 'clientdata.demo.age_year', 'clientdata.demo.age_month', 'clientdata.demo.children', 'clientdata.demo.children_singleparent', 'clientdata.demo.maritalstatus_expand_SINGLE', 'clientdata.demo.maritalstatus_expand_MARRIED', 'clientdata.demo.maritalstatus_expand_DIVORCED', 'clientdata.demo.maritalstatus_expand_WIDOWED', 'clientdata.demo.maritalstatus_expand_newvalue', 'clientdata.demo.maritalstatus_woe']\n",
      "Training Features Shape: (103565, 406)\n",
      "Training Labels Shape: (103565,)\n",
      "Testing Features Shape: (25892, 406)\n",
      "Testing Labels Shape: (25892,)\n"
     ]
    }
   ],
   "source": [
    "x_train, x_test, y_train, y_test = split_data_4(df)"
   ]
  },
  {
   "cell_type": "markdown",
   "id": "1cd2adef",
   "metadata": {},
   "source": [
    "## 7) Neural Network Sklearn"
   ]
  },
  {
   "cell_type": "code",
   "execution_count": null,
   "id": "7d041476",
   "metadata": {},
   "outputs": [],
   "source": [
    "def sklearn_nn(default_params, param_grid, df, results_dict):\n",
    "    \"\"\"\n",
    "    Performs Bayesian hyperparameter optimization for an MLP classifier with one hidden layer using Optuna.\n",
    "\n",
    "    Parameters:\n",
    "    -----------\n",
    "    default_params : dict\n",
    "        Default hyperparameters (each as a list).\n",
    "    param_grid : dict\n",
    "        Search space for hyperparameters.\n",
    "    df : DataFrame\n",
    "        Input data.\n",
    "    results_dict : dict\n",
    "        Dictionary for storing evaluation results.\n",
    "\n",
    "    Returns:\n",
    "    --------\n",
    "    best_params : dict\n",
    "        Best-found parameters by Optuna.\n",
    "    results_dict : dict\n",
    "        Updated dictionary with evaluation metrics.\n",
    "    \"\"\"\n",
    "\n",
    "    # You must define or import split_data_4 and model_pred\n",
    "    X_train, X_test, y_train, y_test = split_data_4(df)\n",
    "\n",
    "    n_trials = int(np.cumsum([len(v) for v in param_grid.values()])[-1])\n",
    "    print(\"No. of trials:\", n_trials)\n",
    "\n",
    "    def objective(trial):\n",
    "        params = {key: trial.suggest_categorical(key, values) for key, values in param_grid.items()}\n",
    "        clf = MLPClassifier(**params)\n",
    "        return cross_val_score(clf, X_train, y_train, cv=5, scoring='accuracy').mean()\n",
    "\n",
    "    study = optuna.create_study(direction='maximize')\n",
    "    study.optimize(objective, n_trials=n_trials)\n",
    "\n",
    "    best_params = study.best_params\n",
    "    clf = MLPClassifier(**best_params)\n",
    "\n",
    "    results_dict = model_pred(X_train, X_test, y_train, y_test, clf, 'mlp_optuna', 'opt', results_dict)\n",
    "\n",
    "    print(f\"Optimization completed in {(time.time() - start_time) / 60:.2f} minutes\")\n",
    "    return best_params, results_dict\n"
   ]
  },
  {
   "cell_type": "code",
   "execution_count": null,
   "id": "31bc38e8",
   "metadata": {},
   "outputs": [],
   "source": [
    "best_params, results_dict = sklearn_nn(default_params, param_grid, df, results_dict)"
   ]
  }
 ],
 "metadata": {
  "kernelspec": {
   "display_name": "datachange_work",
   "language": "python",
   "name": "python3"
  },
  "language_info": {
   "codemirror_mode": {
    "name": "ipython",
    "version": 3
   },
   "file_extension": ".py",
   "mimetype": "text/x-python",
   "name": "python",
   "nbconvert_exporter": "python",
   "pygments_lexer": "ipython3",
   "version": "3.12.9"
  }
 },
 "nbformat": 4,
 "nbformat_minor": 5
}
