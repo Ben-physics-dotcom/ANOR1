{
 "cells": [
  {
   "cell_type": "code",
   "execution_count": 1,
   "id": "105ad620",
   "metadata": {},
   "outputs": [
    {
     "name": "stderr",
     "output_type": "stream",
     "text": [
      "/home/RDC/fliegebe/.conda/envs/Work/lib/python3.12/site-packages/tqdm/auto.py:21: TqdmWarning: IProgress not found. Please update jupyter and ipywidgets. See https://ipywidgets.readthedocs.io/en/stable/user_install.html\n",
      "  from .autonotebook import tqdm as notebook_tqdm\n"
     ]
    }
   ],
   "source": [
    "%run Imports.ipynb\n",
    "name = 'Kred'"
   ]
  },
  {
   "cell_type": "markdown",
   "id": "64b8f241",
   "metadata": {},
   "source": [
    "# 1) read files"
   ]
  },
  {
   "cell_type": "code",
   "execution_count": 2,
   "id": "d4e7e929",
   "metadata": {},
   "outputs": [],
   "source": [
    "key_featsubgroups = pd.read_pickle('../../pickle/2_FS/' + name + '/key_featsubgroups.pkl')\n",
    "df = pd.read_pickle('../../pickle/2_FS/' + name + '/2_df_new_.pkl')"
   ]
  },
  {
   "cell_type": "code",
   "execution_count": null,
   "id": "a192e93d",
   "metadata": {},
   "outputs": [],
   "source": []
  },
  {
   "cell_type": "markdown",
   "id": "b984d22b",
   "metadata": {},
   "source": [
    "# 2) Create Model Prediction functions"
   ]
  },
  {
   "cell_type": "markdown",
   "id": "db5acb79",
   "metadata": {},
   "source": [
    "## 2.1) Split dataset into train/testing while excluding demographic features"
   ]
  },
  {
   "cell_type": "code",
   "execution_count": 3,
   "id": "4355cae4",
   "metadata": {},
   "outputs": [],
   "source": [
    "def split_data_4(df, key_featsubgroups=key_featsubgroups, target=target, test_size=0.2, random_state=42):\n",
    "    \"\"\"\n",
    "    Splits the dataset into training and testing sets while excluding demographic features.\n",
    "\n",
    "    Parameters:\n",
    "    df (DataFrame): The dataset containing features and target variable.\n",
    "    key_featsubgroups (DataFrame): A mapping of feature subgroups.\n",
    "    target (str): The name of the target variable.\n",
    "    test_size (float, optional): The proportion of the dataset to allocate for testing. Default is 0.2.\n",
    "    random_state (int, optional): Random seed for reproducibility. Default is 42.\n",
    "\n",
    "    Returns:\n",
    "    tuple: X_train, X_test, y_train, y_test (training and testing datasets)\n",
    "    \"\"\"\n",
    "\n",
    "    # Extract demographic features\n",
    "    demo_feat = key_featsubgroups.loc[key_featsubgroups['subgroup'] == 'demo', 'list_features'].values[0]\n",
    "    print(\"Demographic Features:\", demo_feat)\n",
    "\n",
    "    # Separate features (X) and target variable (y), excluding demographic features\n",
    "    X = df.drop(columns=[target] + demo_feat)\n",
    "    y = df[target]\n",
    "\n",
    "    # Split the dataset into training (80%) and testing (20%) sets\n",
    "    X_train, X_test, y_train, y_test = train_test_split(\n",
    "        X, y, test_size=test_size, random_state=random_state\n",
    "    )\n",
    "\n",
    "    # Print dataset shapes\n",
    "    print(f\"Training Features Shape: {X_train.shape}\")\n",
    "    print(f\"Training Labels Shape: {y_train.shape}\")\n",
    "    print(f\"Testing Features Shape: {X_test.shape}\")\n",
    "    print(f\"Testing Labels Shape: {y_test.shape}\")\n",
    "\n",
    "    return X_train, X_test, y_train, y_test"
   ]
  },
  {
   "cell_type": "markdown",
   "id": "adf6eb52",
   "metadata": {},
   "source": [
    "## 2.2) Model training and prediction"
   ]
  },
  {
   "cell_type": "code",
   "execution_count": 4,
   "id": "60dbf881",
   "metadata": {},
   "outputs": [
    {
     "name": "stdout",
     "output_type": "stream",
     "text": [
      "Demographic Features: ['clientdata.demo.gender', 'clientdata.demo.age_year', 'clientdata.demo.age_month', 'clientdata.demo.children', 'clientdata.demo.children_singleparent', 'clientdata.demo.maritalstatus_expand_SINGLE', 'clientdata.demo.maritalstatus_expand_MARRIED', 'clientdata.demo.maritalstatus_expand_DIVORCED', 'clientdata.demo.maritalstatus_expand_WIDOWED', 'clientdata.demo.maritalstatus_expand_newvalue', 'clientdata.demo.maritalstatus_woe']\n",
      "Training Features Shape: (103565, 406)\n",
      "Training Labels Shape: (103565,)\n",
      "Testing Features Shape: (25892, 406)\n",
      "Testing Labels Shape: (25892,)\n"
     ]
    }
   ],
   "source": [
    "x_train, x_test, y_train, y_test = split_data_4(df)"
   ]
  },
  {
   "cell_type": "code",
   "execution_count": 5,
   "id": "c6bb042d",
   "metadata": {},
   "outputs": [],
   "source": [
    "import optuna\n",
    "from sklearn.ensemble import RandomForestClassifier\n",
    "\n",
    "\n",
    "# 3) Define Optuna objective\n",
    "def objective(trial):\n",
    "    # sample hyperparameters\n",
    "    params = {\n",
    "            \"n_estimators\": trial.suggest_categorical(\"n_estimators\", param_grid[\"n_estimators\"]),\n",
    "            \"max_depth\": trial.suggest_categorical(\"max_depth\", param_grid.get(\"max_depth\", [None])),\n",
    "            \"min_samples_split\": trial.suggest_categorical(\"min_samples_split\", param_grid.get(\"min_samples_split\", [2]))\n",
    "    }\n",
    "    rf = RandomForestClassifier(**params, random_state=42)\n",
    "    # evaluate with 5-fold CV on training set\n",
    "    score = cross_val_score(rf, X_train, y_train, cv=5, scoring=\"accuracy\").mean()\n",
    "    return score\n",
    "\n",
    "def run_optuna_RF(df, results_dict, param_grid, n_trials=None):\n",
    "    \"\"\"\n",
    "    Performs Bayesian hyperparameter optimization for a Random Forest using Optuna,\n",
    "    then trains and evaluates the best model.\n",
    "\n",
    "    Parameters:\n",
    "    -----------\n",
    "    df : pd.DataFrame\n",
    "        Dataset containing features and target.\n",
    "    results_dict : dict\n",
    "        Dictionary in which to store the evaluation metrics.\n",
    "    param_grid : dict\n",
    "        Search space for RF hyperparameters, e.g.:\n",
    "            {\n",
    "              \"n_estimators\": [100, 200, 300, 400, 500],\n",
    "              \"max_depth\": [None, 5, 10, 20],\n",
    "              \"min_samples_split\": [2, 5, 10]\n",
    "            }\n",
    "    n_trials : int, optional\n",
    "        Number of Optuna trials. Defaults to sum of grid lengths.\n",
    "\n",
    "    Returns:\n",
    "    --------\n",
    "    best_params : dict\n",
    "        Best hyperparameters found.\n",
    "    results_dict : dict\n",
    "        Updated with performance metrics under key 'rf_optuna'.\n",
    "    \"\"\"\n",
    "    # 1) Split once\n",
    "    X_train, X_test, y_train, y_test = split_data_4(df)\n",
    "\n",
    "    # 2) Determine number of trials\n",
    "    if n_trials is None:\n",
    "        n_trials = int(np.sum([len(v) for v in param_grid.values()]))\n",
    "    print(\"Optuna RF trials:\", n_trials)\n",
    "\n",
    "    # 4) Run Optuna study\n",
    "    start = time.time()\n",
    "    study = optuna.create_study(direction=\"maximize\")\n",
    "    study.optimize(objective, n_trials=n_trials)\n",
    "    best_params = study.best_params\n",
    "    print(f\"Best RF params: {best_params}\")\n",
    "\n",
    "    # 5) Train final model\n",
    "    best_rf = RandomForestClassifier(**best_params, random_state=42)\n",
    "    results_dict = model_pred(\n",
    "        X_train, X_test, y_train, y_test,\n",
    "        best_rf, \"rf_optuna\", \"opt\", results_dict\n",
    "    )\n",
    "\n",
    "    elapsed = (time.time() - start) / 60\n",
    "    print(f\"RF Optuna completed in {elapsed:.2f} minutes\")\n",
    "\n",
    "    return best_params, results_dict\n"
   ]
  },
  {
   "cell_type": "markdown",
   "id": "32287186",
   "metadata": {},
   "source": [
    "# Random Forest Optuna"
   ]
  },
  {
   "cell_type": "code",
   "execution_count": null,
   "id": "691cb755",
   "metadata": {},
   "outputs": [],
   "source": []
  }
 ],
 "metadata": {
  "kernelspec": {
   "display_name": "Work",
   "language": "python",
   "name": "python3"
  },
  "language_info": {
   "codemirror_mode": {
    "name": "ipython",
    "version": 3
   },
   "file_extension": ".py",
   "mimetype": "text/x-python",
   "name": "python",
   "nbconvert_exporter": "python",
   "pygments_lexer": "ipython3",
   "version": "3.12.9"
  }
 },
 "nbformat": 4,
 "nbformat_minor": 5
}
