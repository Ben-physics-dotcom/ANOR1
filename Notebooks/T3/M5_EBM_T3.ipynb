{
 "cells": [
  {
   "cell_type": "markdown",
   "id": "5ef24372",
   "metadata": {},
   "source": [
    "# Imports"
   ]
  },
  {
   "cell_type": "code",
   "execution_count": 1,
   "id": "b354dfa1",
   "metadata": {},
   "outputs": [
    {
     "name": "stderr",
     "output_type": "stream",
     "text": [
      "/home/RDC/fliegebe/.conda/envs/Work/lib/python3.12/site-packages/tqdm/auto.py:21: TqdmWarning: IProgress not found. Please update jupyter and ipywidgets. See https://ipywidgets.readthedocs.io/en/stable/user_install.html\n",
      "  from .autonotebook import tqdm as notebook_tqdm\n"
     ]
    }
   ],
   "source": [
    "%run Imports.ipynb\n",
    "name = 'Kred' # Choose Kred or Mone\n",
    "\n",
    "param_grid = {\n",
    "    'learning_rate': [0.001, 0.005, 0.01, 0.05],\n",
    "    'max_leaves': [3, 5, 10, 15, 20, 32],\n",
    "    'min_samples_leaf': [2, 5, 10, 15, 20],\n",
    "    'interactions': [5, 10, 15]\n",
    "}"
   ]
  },
  {
   "cell_type": "markdown",
   "id": "9fbedfa8",
   "metadata": {},
   "source": [
    "# 1) Read files"
   ]
  },
  {
   "cell_type": "code",
   "execution_count": 2,
   "id": "354efe5e",
   "metadata": {},
   "outputs": [],
   "source": [
    "key_featsubgroups = pd.read_pickle('../../pickle/2_FS/' + name + '/key_featsubgroups.pkl')\n",
    "df = pd.read_pickle('../../pickle/2_FS/' + name + '/2_df_new_.pkl')"
   ]
  },
  {
   "cell_type": "code",
   "execution_count": 3,
   "id": "dddd6564",
   "metadata": {},
   "outputs": [],
   "source": [
    "def split_data_4(df, key_featsubgroups=key_featsubgroups, target=target, test_size=0.2, random_state=42):\n",
    "    \"\"\"\n",
    "    Splits the dataset into training and testing sets while excluding demographic features.\n",
    "\n",
    "    Parameters:\n",
    "    df (DataFrame): The dataset containing features and target variable.\n",
    "    key_featsubgroups (DataFrame): A mapping of feature subgroups.\n",
    "    target (str): The name of the target variable.\n",
    "    test_size (float, optional): The proportion of the dataset to allocate for testing. Default is 0.2.\n",
    "    random_state (int, optional): Random seed for reproducibility. Default is 42.\n",
    "\n",
    "    Returns:\n",
    "    tuple: X_train, X_test, y_train, y_test (training and testing datasets)\n",
    "    \"\"\"\n",
    "\n",
    "    # Extract demographic features\n",
    "    demo_feat = key_featsubgroups.loc[key_featsubgroups['subgroup'] == 'demo', 'list_features'].values[0]\n",
    "    print(\"Demographic Features:\", demo_feat)\n",
    "\n",
    "    # Separate features (X) and target variable (y), excluding demographic features\n",
    "    X = df.drop(columns=[target] + demo_feat)\n",
    "    y = df[target]\n",
    "\n",
    "    # Split the dataset into training (80%) and testing (20%) sets\n",
    "    X_train, X_test, y_train, y_test = train_test_split(\n",
    "        X, y, test_size=test_size, random_state=random_state\n",
    "    )\n",
    "\n",
    "    # Print dataset shapes\n",
    "    print(f\"Training Features Shape: {X_train.shape}\")\n",
    "    print(f\"Training Labels Shape: {y_train.shape}\")\n",
    "    print(f\"Testing Features Shape: {X_test.shape}\")\n",
    "    print(f\"Testing Labels Shape: {y_test.shape}\")\n",
    "\n",
    "    return X_train, X_test, y_train, y_test"
   ]
  },
  {
   "cell_type": "code",
   "execution_count": 11,
   "id": "bd3d4fa4",
   "metadata": {},
   "outputs": [],
   "source": [
    "# with open('../pickle/3_Model/xgb_default_params.pkl', 'rb') as f:\n",
    "#     default_params = pickle.load(f)\n",
    "\n",
    "# Load results_dict_updated from the pickle file\n",
    "with open('../../pickle/4_Model_Optuna/results_dict_updated_5.pkl', 'rb') as f:\n",
    "    results_dict = pickle.load(f)"
   ]
  },
  {
   "cell_type": "code",
   "execution_count": 12,
   "id": "f9220b4f",
   "metadata": {},
   "outputs": [
    {
     "data": {
      "text/plain": [
       "dict_keys(['rf0', 'xgbc0', 'xgbc_optuna', 'xgbc_optimized', 'ebm_default', 'ebm_ben', 'sklearn_nn'])"
      ]
     },
     "execution_count": 12,
     "metadata": {},
     "output_type": "execute_result"
    }
   ],
   "source": [
    "results_dict.keys()"
   ]
  },
  {
   "cell_type": "markdown",
   "id": "c0f9cf36",
   "metadata": {},
   "source": [
    "# 5.3) Optuna"
   ]
  },
  {
   "cell_type": "code",
   "execution_count": 13,
   "id": "7dae1b5e",
   "metadata": {},
   "outputs": [],
   "source": [
    "def train_optuna_EBM(param_grid, df, results_dict):\n",
    "    \"\"\"\n",
    "    Tunes and trains an Explainable Boosting Machine (EBM) via Optuna,\n",
    "    evaluates performance, and stores results in the given dictionary.\n",
    "\n",
    "    Parameters:\n",
    "    -----------\n",
    "    param_grid : dict\n",
    "        Search space for Optuna. Keys are EBM init parameter names,\n",
    "        values are lists of candidate values.\n",
    "    df : DataFrame\n",
    "        Dataset containing features and the target variable.\n",
    "    results_dict : dict\n",
    "        Dictionary to store model performance metrics.\n",
    "\n",
    "    Returns:\n",
    "    --------\n",
    "    best_params : dict\n",
    "        Best parameters found by Optuna.\n",
    "    results_dict : dict\n",
    "        Updated results dictionary containing model evaluation metrics.\n",
    "    global_importance : object\n",
    "        Global feature importance from the tuned EBM model.\n",
    "    local_importance : object\n",
    "        Local feature importance from the tuned EBM model.\n",
    "    \"\"\"\n",
    "    start_time = time.time()\n",
    "    print(\"\\nStarting Optuna hyperparameter search for EBM...\")\n",
    "\n",
    "    # split_data_4 must return X_train, X_test, y_train, y_test\n",
    "    X_train, X_test, y_train, y_test = split_data_4(df)\n",
    "\n",
    "    # determine total number of trials\n",
    "    n_trials = int(np.sum([len(v) for v in param_grid.values()]))\n",
    "    print(f\"No. of trials scheduled: {n_trials}\")\n",
    "\n",
    "    def objective(trial):\n",
    "        # sample hyperparameters from the grid\n",
    "        params = {\n",
    "            key: trial.suggest_categorical(key, values)\n",
    "            for key, values in param_grid.items()\n",
    "        }\n",
    "        # instantiate an EBM with these parameters\n",
    "        ebm = ExplainableBoostingClassifier(**params)\n",
    "        # cross‐validated accuracy on training set\n",
    "        cv_scores = cross_val_score(\n",
    "            ebm, X_train, y_train,\n",
    "            cv=5, scoring=\"accuracy\"\n",
    "        )\n",
    "        return cv_scores.mean()\n",
    "\n",
    "    # run Optuna study\n",
    "    study = optuna.create_study(direction=\"maximize\")\n",
    "    study.optimize(objective, n_trials=n_trials)\n",
    "\n",
    "    best_params = study.best_params\n",
    "    print(\"Best hyperparameters found:\", best_params)\n",
    "\n",
    "    # train final EBM with best params\n",
    "    ebm_best = ExplainableBoostingClassifier(**best_params)\n",
    "    ebm_best.fit(X_train, y_train)\n",
    "\n",
    "    # cross‐validated predictions on train set\n",
    "    y_train_pred = cross_val_predict(ebm_best, X_train, y_train, cv=5)\n",
    "    # predictions on test set\n",
    "    y_test_pred  = ebm_best.predict(X_test)\n",
    "    y_test_proba = ebm_best.predict_proba(X_test)[:, 1]\n",
    "\n",
    "    # compute metrics\n",
    "    cfm_train    = confusion_matrix(y_train, y_train_pred)\n",
    "    cfm_test     = confusion_matrix(y_test,  y_test_pred)\n",
    "    acc_train    = accuracy_score(y_train, y_train_pred)\n",
    "    acc_test     = accuracy_score(y_test,  y_test_pred)\n",
    "    f1_train_1   = f1_score(y_train, y_train_pred, pos_label=1)\n",
    "    f1_train_0   = f1_score(y_train, y_train_pred, pos_label=0)\n",
    "    f1_test_1    = f1_score(y_test,  y_test_pred,  pos_label=1)\n",
    "    f1_test_0    = f1_score(y_test,  y_test_pred,  pos_label=0)\n",
    "    roc_auc_test = roc_auc_score(y_test, y_test_proba)\n",
    "\n",
    "    # extract importances\n",
    "    global_importance = ebm_best.explain_global().data()\n",
    "    local_importance  = ebm_best.explain_local(X_test, y_test).data()\n",
    "\n",
    "    total_time = (time.time() - start_time) / 60\n",
    "    print(f\"Optimized EBM training completed in {total_time:.2f} minutes\")\n",
    "\n",
    "    # store results\n",
    "    results_dict[\"ebm_optuna\"] = {\n",
    "        \"classifier\":         deepcopy(ebm_best),\n",
    "        \"cfm_train\":          cfm_train,\n",
    "        \"cfm_test\":           cfm_test,\n",
    "        \"train_accuracy\":     acc_train,\n",
    "        \"test_accuracy\":      acc_test,\n",
    "        \"train F1-score label 1\": f1_train_1,\n",
    "        \"train F1-score label 0\": f1_train_0,\n",
    "        \"test F1-score label 1\":  f1_test_1,\n",
    "        \"test F1-score label 0\":  f1_test_0,\n",
    "        \"test roc auc score\":     roc_auc_test,\n",
    "        \"default_params\":         ebm_best.get_params(),\n",
    "        \"param_grid\":             param_grid,\n",
    "        \"best_params\":            best_params,\n",
    "        \"global_importance\":      global_importance,\n",
    "        \"local_importance\":       local_importance,\n",
    "        \"time_m\":                 total_time\n",
    "    }\n",
    "\n",
    "    return best_params, results_dict, global_importance, local_importance\n"
   ]
  },
  {
   "cell_type": "code",
   "execution_count": null,
   "id": "fe62ba9a",
   "metadata": {},
   "outputs": [
    {
     "name": "stdout",
     "output_type": "stream",
     "text": [
      "\n",
      "Starting Optuna hyperparameter search for EBM...\n",
      "Demographic Features: ['clientdata.demo.gender', 'clientdata.demo.age_year', 'clientdata.demo.age_month', 'clientdata.demo.children', 'clientdata.demo.children_singleparent', 'clientdata.demo.maritalstatus_expand_SINGLE', 'clientdata.demo.maritalstatus_expand_MARRIED', 'clientdata.demo.maritalstatus_expand_DIVORCED', 'clientdata.demo.maritalstatus_expand_WIDOWED', 'clientdata.demo.maritalstatus_expand_newvalue', 'clientdata.demo.maritalstatus_woe']\n"
     ]
    },
    {
     "name": "stderr",
     "output_type": "stream",
     "text": [
      "[I 2025-07-10 13:36:23,915] A new study created in memory with name: no-name-9b670e5a-c952-4e95-9f66-e0cd6ad00628\n"
     ]
    },
    {
     "name": "stdout",
     "output_type": "stream",
     "text": [
      "Training Features Shape: (103565, 406)\n",
      "Training Labels Shape: (103565,)\n",
      "Testing Features Shape: (25892, 406)\n",
      "Testing Labels Shape: (25892,)\n",
      "No. of trials scheduled: 18\n"
     ]
    }
   ],
   "source": [
    "best_params, results_dict, global_importance, local_importance = train_optuna_EBM(param_grid, df, results_dict)"
   ]
  },
  {
   "cell_type": "code",
   "execution_count": null,
   "id": "fb290c5e",
   "metadata": {},
   "outputs": [],
   "source": [
    "with open('../../pickle/4_Model_Optuna/results_dict_updated_5.pkl', 'wb') as f:\n",
    "    pickle.dump(results_dict, f, pickle.HIGHEST_PROTOCOL)"
   ]
  }
 ],
 "metadata": {
  "kernelspec": {
   "display_name": "Work",
   "language": "python",
   "name": "python3"
  },
  "language_info": {
   "codemirror_mode": {
    "name": "ipython",
    "version": 3
   },
   "file_extension": ".py",
   "mimetype": "text/x-python",
   "name": "python",
   "nbconvert_exporter": "python",
   "pygments_lexer": "ipython3",
   "version": "3.12.9"
  }
 },
 "nbformat": 4,
 "nbformat_minor": 5
}
