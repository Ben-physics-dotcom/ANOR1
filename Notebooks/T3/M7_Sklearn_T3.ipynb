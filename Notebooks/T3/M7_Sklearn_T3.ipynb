{
 "cells": [
  {
   "cell_type": "code",
   "execution_count": 1,
   "id": "5ed46c1c",
   "metadata": {},
   "outputs": [
    {
     "name": "stderr",
     "output_type": "stream",
     "text": [
      "/home/RDC/fliegebe/.conda/envs/Work/lib/python3.12/site-packages/tqdm/auto.py:21: TqdmWarning: IProgress not found. Please update jupyter and ipywidgets. See https://ipywidgets.readthedocs.io/en/stable/user_install.html\n",
      "  from .autonotebook import tqdm as notebook_tqdm\n"
     ]
    }
   ],
   "source": [
    "%run Imports.ipynb\n",
    "name = 'Kred'\n",
    "\n",
    "# specific imports\n",
    "from sklearn.neural_network import MLPClassifier\n",
    "from sklearn.model_selection import GridSearchCV\n",
    "\n",
    "\n",
    "key_featsubgroups = pd.read_pickle('../../pickle/2_FS/' + name + '/key_featsubgroups.pkl')\n",
    "df = pd.read_pickle('../../pickle/2_FS/' + name + '/2_df_new_.pkl')"
   ]
  },
  {
   "cell_type": "code",
   "execution_count": 2,
   "id": "e2879d86",
   "metadata": {},
   "outputs": [
    {
     "name": "stdout",
     "output_type": "stream",
     "text": [
      "arrears\n",
      "1   0.646\n",
      "0   0.354\n",
      "Name: count, dtype: float64\n",
      "df_shape:  (129457, 418)\n"
     ]
    }
   ],
   "source": [
    "print(df[target].value_counts()/df.shape[0])\n",
    "print('df_shape: ', df.shape)"
   ]
  },
  {
   "cell_type": "code",
   "execution_count": 3,
   "id": "9246bdf5",
   "metadata": {},
   "outputs": [],
   "source": [
    "# param grid scikit\n",
    "param_grid = {\n",
    "    'hidden_layer_sizes': [(h,) for h in [300, 406]],\n",
    "    'activation': ['relu'],                   # activation functions\n",
    "    'solver': ['adam'],                                    # optimization algorithms\n",
    "    'alpha': [0.001, 0.01],                                # L2 regularization\n",
    "    'learning_rate': ['constant'],                    # learning rate strategy\n",
    "    'learning_rate_init': [0.001, 0.075, 0.05],                           # initial learning rate\n",
    "    'max_iter': [100, 500]                                        # training epochs\n",
    "}"
   ]
  },
  {
   "cell_type": "code",
   "execution_count": 4,
   "id": "971f23ed",
   "metadata": {},
   "outputs": [],
   "source": [
    "with open('../../pickle/4_Model_Optuna/results_dict_updated_5.pkl', 'rb') as f:\n",
    "    results_dict = pickle.load(f)"
   ]
  },
  {
   "cell_type": "code",
   "execution_count": 5,
   "id": "12af9abd",
   "metadata": {},
   "outputs": [],
   "source": [
    "with open('../../pickle/3_Model/xgb_default_params.pkl', 'rb') as f:\n",
    "    default_params = pickle.load(f)\n"
   ]
  },
  {
   "cell_type": "code",
   "execution_count": 6,
   "id": "8f5de80f",
   "metadata": {},
   "outputs": [],
   "source": [
    "def split_data_4(df, key_featsubgroups=key_featsubgroups, target=target, test_size=0.2, random_state=42):\n",
    "    \"\"\"\n",
    "    Splits the dataset into training and testing sets while excluding demographic features.\n",
    "\n",
    "    Parameters:\n",
    "    df (DataFrame): The dataset containing features and target variable.\n",
    "    key_featsubgroups (DataFrame): A mapping of feature subgroups.\n",
    "    target (str): The name of the target variable.\n",
    "    test_size (float, optional): The proportion of the dataset to allocate for testing. Default is 0.2.\n",
    "    random_state (int, optional): Random seed for reproducibility. Default is 42.\n",
    "\n",
    "    Returns:\n",
    "    tuple: X_train, X_test, y_train, y_test (training and testing datasets)\n",
    "    \"\"\"\n",
    "\n",
    "    # Extract demographic features\n",
    "    demo_feat = key_featsubgroups.loc[key_featsubgroups['subgroup'] == 'demo', 'list_features'].values[0]\n",
    "    print(\"Demographic Features:\", demo_feat)\n",
    "\n",
    "    # Separate features (X) and target variable (y), excluding demographic features\n",
    "    X = df.drop(columns=[target] + demo_feat)\n",
    "    y = df[target]\n",
    "\n",
    "    # Split the dataset into training (80%) and testing (20%) sets\n",
    "    X_train, X_test, y_train, y_test = train_test_split(\n",
    "        X, y, test_size=test_size, random_state=random_state\n",
    "    )\n",
    "\n",
    "    # Print dataset shapes\n",
    "    print(f\"Training Features Shape: {X_train.shape}\")\n",
    "    print(f\"Training Labels Shape: {y_train.shape}\")\n",
    "    print(f\"Testing Features Shape: {X_test.shape}\")\n",
    "    print(f\"Testing Labels Shape: {y_test.shape}\")\n",
    "\n",
    "    return X_train, X_test, y_train, y_test"
   ]
  },
  {
   "cell_type": "code",
   "execution_count": 7,
   "id": "2b437983",
   "metadata": {},
   "outputs": [
    {
     "name": "stdout",
     "output_type": "stream",
     "text": [
      "Demographic Features: ['clientdata.demo.gender', 'clientdata.demo.age_year', 'clientdata.demo.age_month', 'clientdata.demo.children', 'clientdata.demo.children_singleparent', 'clientdata.demo.maritalstatus_expand_SINGLE', 'clientdata.demo.maritalstatus_expand_MARRIED', 'clientdata.demo.maritalstatus_expand_DIVORCED', 'clientdata.demo.maritalstatus_expand_WIDOWED', 'clientdata.demo.maritalstatus_expand_newvalue', 'clientdata.demo.maritalstatus_woe']\n",
      "Training Features Shape: (103565, 406)\n",
      "Training Labels Shape: (103565,)\n",
      "Testing Features Shape: (25892, 406)\n",
      "Testing Labels Shape: (25892,)\n"
     ]
    }
   ],
   "source": [
    "x_train, x_test, y_train, y_test = split_data_4(df)"
   ]
  },
  {
   "cell_type": "code",
   "execution_count": 8,
   "id": "979738f6",
   "metadata": {},
   "outputs": [],
   "source": [
    "def sklearn_nn_optuna(param_grid, df, results_dict):\n",
    "    \"\"\"\n",
    "    Tunes and trains an MLPClassifier (one hidden layer) via Optuna,\n",
    "    evaluates performance, and stores results in the given dictionary.\n",
    "\n",
    "    Parameters:\n",
    "    -----------\n",
    "    default_params : dict\n",
    "        Default hyperparameters (each as a list) for reference.\n",
    "    param_grid : dict\n",
    "        Search space for Optuna (keys are param names, values are lists).\n",
    "    df : DataFrame\n",
    "        Dataset containing features and the target.\n",
    "    results_dict : dict\n",
    "        Dictionary to store model performance metrics.\n",
    "\n",
    "    Returns:\n",
    "    --------\n",
    "    best_params : dict\n",
    "        Best parameters found by Optuna.\n",
    "    results_dict : dict\n",
    "        Updated results dictionary containing model evaluation metrics.\n",
    "    \"\"\"\n",
    "    start_time = time.time()\n",
    "\n",
    "    # split_data_4 must return X_train, X_test, y_train, y_test\n",
    "    X_train, X_test, y_train, y_test = split_data_4(df)\n",
    "\n",
    "    # total number of trials = sum of lengths of all search lists\n",
    "    n_trials = int(np.sum([len(v) for v in param_grid.values()]))\n",
    "    print(f\"No. of trials scheduled: {n_trials}\")\n",
    "\n",
    "    def objective(trial):\n",
    "        # sample each hyperparameter categorically\n",
    "        params = {\n",
    "            key: trial.suggest_categorical(key, values)\n",
    "            for key, values in param_grid.items()\n",
    "        }\n",
    "        clf = MLPClassifier(**params, random_state=0)\n",
    "        # use 5-fold CV accuracy as objective\n",
    "        return cross_val_score(clf, X_train, y_train, cv=5, scoring='accuracy').mean()\n",
    "\n",
    "    study = optuna.create_study(direction=\"maximize\")\n",
    "    study.optimize(objective, n_trials=n_trials)\n",
    "\n",
    "    best_params = study.best_params\n",
    "    print(\"Best hyperparameters found:\", best_params)\n",
    "\n",
    "    # Train final model with best params\n",
    "    clf_best = MLPClassifier(**best_params, random_state=0)\n",
    "    clf_best.fit(X_train, y_train)\n",
    "    fi = clf_best.feature_importances_ if hasattr(clf_best, 'feature_importances_') else None\n",
    "\n",
    "    # Cross-validated predictions on train set\n",
    "    y_train_pred = cross_val_predict(clf_best, X_train, y_train, cv=5)\n",
    "    # Predictions on test set\n",
    "    y_test_pred = clf_best.predict(X_test)\n",
    "\n",
    "    # Compute confusion matrices\n",
    "    cfm_train = confusion_matrix(y_train, y_train_pred)\n",
    "    cfm_test  = confusion_matrix(y_test,  y_test_pred)\n",
    "\n",
    "    # Compute accuracy\n",
    "    acc_train = accuracy_score(y_train, y_train_pred)\n",
    "    acc_test  = accuracy_score(y_test,  y_test_pred)\n",
    "\n",
    "    # Compute F1-scores for both classes\n",
    "    f1_train_1 = f1_score(y_train, y_train_pred, pos_label=1)\n",
    "    f1_train_0 = f1_score(y_train, y_train_pred, pos_label=0)\n",
    "    f1_test_1  = f1_score(y_test,  y_test_pred,  pos_label=1)\n",
    "    f1_test_0  = f1_score(y_test,  y_test_pred,  pos_label=0)\n",
    "\n",
    "    # Compute ROC-AUC on test set\n",
    "    y_test_proba = clf_best.predict_proba(X_test)[:, 1]\n",
    "    roc_auc_test = roc_auc_score(y_test, y_test_proba)\n",
    "\n",
    "    total_time = (time.time() - start_time) / 60\n",
    "    print(f\"MLP optimization & training completed in {total_time:.2f} minutes\")\n",
    "\n",
    "    # Store everything in results_dict\n",
    "    results_dict[\"sklearn_nn_t3_optuna\"] = {\n",
    "        \"classifier\": deepcopy(clf_best),\n",
    "        \"cfm_train\": cfm_train,\n",
    "        \"cfm_test\":  cfm_test,\n",
    "        \"train_accuracy\": acc_train,\n",
    "        \"test_accuracy\":  acc_test,\n",
    "        \"train F1-score label 1\": f1_train_1,\n",
    "        \"train F1-score label 0\": f1_train_0,\n",
    "        \"test F1-score label 1\":  f1_test_1,\n",
    "        \"test F1-score label 0\":  f1_test_0,\n",
    "        \"test roc auc score\":     roc_auc_test,\n",
    "        \"default_params\": default_params,\n",
    "        \"param_grid\":    param_grid,\n",
    "        \"best_params\":   best_params,\n",
    "        \"time_m\":        total_time\n",
    "    }\n",
    "\n",
    "    return best_params, results_dict"
   ]
  },
  {
   "cell_type": "code",
   "execution_count": null,
   "id": "acdeb95d",
   "metadata": {},
   "outputs": [
    {
     "name": "stdout",
     "output_type": "stream",
     "text": [
      "Demographic Features: ['clientdata.demo.gender', 'clientdata.demo.age_year', 'clientdata.demo.age_month', 'clientdata.demo.children', 'clientdata.demo.children_singleparent', 'clientdata.demo.maritalstatus_expand_SINGLE', 'clientdata.demo.maritalstatus_expand_MARRIED', 'clientdata.demo.maritalstatus_expand_DIVORCED', 'clientdata.demo.maritalstatus_expand_WIDOWED', 'clientdata.demo.maritalstatus_expand_newvalue', 'clientdata.demo.maritalstatus_woe']\n"
     ]
    },
    {
     "name": "stderr",
     "output_type": "stream",
     "text": [
      "[I 2025-07-17 11:43:48,505] A new study created in memory with name: no-name-17168778-33d8-461b-87c2-e41424ad91c0\n"
     ]
    },
    {
     "name": "stdout",
     "output_type": "stream",
     "text": [
      "Training Features Shape: (103565, 406)\n",
      "Training Labels Shape: (103565,)\n",
      "Testing Features Shape: (25892, 406)\n",
      "Testing Labels Shape: (25892,)\n",
      "No. of trials scheduled: 12\n"
     ]
    }
   ],
   "source": [
    "best_params, results_dict = sklearn_nn_optuna(param_grid, df, results_dict)"
   ]
  },
  {
   "cell_type": "code",
   "execution_count": null,
   "id": "140e6739",
   "metadata": {},
   "outputs": [],
   "source": [
    "with open('../../pickle/4_Model_Optuna/results_dict_updated_5.pkl', 'wb') as f:\n",
    "    pickle.dump(results_dict, f, pickle.HIGHEST_PROTOCOL)"
   ]
  },
  {
   "cell_type": "code",
   "execution_count": null,
   "id": "f124910e",
   "metadata": {},
   "outputs": [],
   "source": []
  }
 ],
 "metadata": {
  "kernelspec": {
   "display_name": "Python 3",
   "language": "python",
   "name": "python3"
  },
  "language_info": {
   "codemirror_mode": {
    "name": "ipython",
    "version": 3
   },
   "file_extension": ".py",
   "mimetype": "text/x-python",
   "name": "python",
   "nbconvert_exporter": "python",
   "pygments_lexer": "ipython3",
   "version": "3.12.9"
  }
 },
 "nbformat": 4,
 "nbformat_minor": 5
}
