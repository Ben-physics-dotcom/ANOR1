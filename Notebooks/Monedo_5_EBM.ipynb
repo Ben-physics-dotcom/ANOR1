{
 "cells": [
  {
   "cell_type": "code",
   "execution_count": null,
   "id": "83f8ea5d",
   "metadata": {},
   "outputs": [
    {
     "name": "stderr",
     "output_type": "stream",
     "text": [
      "c:\\Users\\benjf\\anaconda3\\envs\\Work\\Lib\\site-packages\\tqdm\\auto.py:21: TqdmWarning: IProgress not found. Please update jupyter and ipywidgets. See https://ipywidgets.readthedocs.io/en/stable/user_install.html\n",
      "  from .autonotebook import tqdm as notebook_tqdm\n"
     ]
    }
   ],
   "source": [
    "%run Imports.ipynb\n",
    "name = 'Kred' # Choose Kred or Mone\n",
    "\n",
    "param_grid = {\n",
    "    'learning_rate': [0.001, 0.005, 0.01],\n",
    "    'max_leaves': [10],\n",
    "    'min_samples_leaf': [2, 5, 10],\n",
    "    'interactions': [5, 10, 15]\n",
    "}"
   ]
  },
  {
   "cell_type": "markdown",
   "id": "78df235a",
   "metadata": {},
   "source": [
    "# 1) Read in Files"
   ]
  },
  {
   "cell_type": "code",
   "execution_count": 3,
   "id": "9799522d",
   "metadata": {},
   "outputs": [],
   "source": [
    "key_featsubgroups = pd.read_pickle('../pickle/2_FS/' + name + '/key_featsubgroups.pkl')\n",
    "df = pd.read_pickle('../pickle/2_FS/' + name + '/2_df_new_.pkl')"
   ]
  },
  {
   "cell_type": "code",
   "execution_count": 4,
   "id": "0d0f13a9",
   "metadata": {},
   "outputs": [
    {
     "name": "stdout",
     "output_type": "stream",
     "text": [
      "arrears\n",
      "1   0.646\n",
      "0   0.354\n",
      "Name: count, dtype: float64\n",
      "df_shape:  (129457, 418)\n"
     ]
    }
   ],
   "source": [
    "print(df[target].value_counts()/df.shape[0])\n",
    "print('df_shape: ', df.shape)"
   ]
  },
  {
   "cell_type": "markdown",
   "id": "e33eba05",
   "metadata": {},
   "source": [
    "# 2) Create Model prediction functions"
   ]
  },
  {
   "cell_type": "markdown",
   "id": "f139308d",
   "metadata": {},
   "source": [
    "## 2.1) Split dataset into train/testing while excluding demographic features"
   ]
  },
  {
   "cell_type": "code",
   "execution_count": 5,
   "id": "8b63fba3-0855-4f08-9e0e-2f30b4b2630e",
   "metadata": {},
   "outputs": [],
   "source": [
    "def split_data_4(df, key_featsubgroups=key_featsubgroups, target=target, test_size=0.2, random_state=42):\n",
    "    \"\"\"\n",
    "    Splits the dataset into training and testing sets while excluding demographic features.\n",
    "\n",
    "    Parameters:\n",
    "    df (DataFrame): The dataset containing features and target variable.\n",
    "    key_featsubgroups (DataFrame): A mapping of feature subgroups.\n",
    "    target (str): The name of the target variable.\n",
    "    test_size (float, optional): The proportion of the dataset to allocate for testing. Default is 0.2.\n",
    "    random_state (int, optional): Random seed for reproducibility. Default is 42.\n",
    "\n",
    "    Returns:\n",
    "    tuple: X_train, X_test, y_train, y_test (training and testing datasets)\n",
    "    \"\"\"\n",
    "\n",
    "    # Extract demographic features\n",
    "    demo_feat = key_featsubgroups.loc[key_featsubgroups['subgroup'] == 'demo', 'list_features'].values[0]\n",
    "    print(\"Demographic Features:\", demo_feat)\n",
    "\n",
    "    # Separate features (X) and target variable (y), excluding demographic features\n",
    "    X = df.drop(columns=[target] + demo_feat)\n",
    "    y = df[target]\n",
    "\n",
    "    # Split the dataset into training (80%) and testing (20%) sets\n",
    "    X_train, X_test, y_train, y_test = train_test_split(\n",
    "        X, y, test_size=test_size, random_state=random_state\n",
    "    )\n",
    "\n",
    "    # Print dataset shapes\n",
    "    print(f\"Training Features Shape: {X_train.shape}\")\n",
    "    print(f\"Training Labels Shape: {y_train.shape}\")\n",
    "    print(f\"Testing Features Shape: {X_test.shape}\")\n",
    "    print(f\"Testing Labels Shape: {y_test.shape}\")\n",
    "\n",
    "    return X_train, X_test, y_train, y_test"
   ]
  },
  {
   "cell_type": "markdown",
   "id": "3b94d2e1",
   "metadata": {},
   "source": [
    "## 2.2) Model training and prediction"
   ]
  },
  {
   "cell_type": "code",
   "execution_count": 6,
   "id": "5b3edfbd",
   "metadata": {},
   "outputs": [],
   "source": [
    "# with open('../pickle/4_Model_Optuna/results_dict_updated.pkl', 'rb') as f:\n",
    "#     results_dict = pickle.load(f)"
   ]
  },
  {
   "cell_type": "code",
   "execution_count": 7,
   "id": "a0e6514f",
   "metadata": {},
   "outputs": [],
   "source": [
    "# with open('../pickle/3_Model/xgb_default_params.pkl', 'rb') as f:\n",
    "#     default_params = pickle.load(f)\n",
    "\n",
    "# Load results_dict_updated from the pickle file\n",
    "with open('../pickle/4_Model_Optuna/results_dict_updated.pkl', 'rb') as f:\n",
    "    results_dict = pickle.load(f)"
   ]
  },
  {
   "cell_type": "code",
   "execution_count": 8,
   "id": "1dce94bf",
   "metadata": {},
   "outputs": [
    {
     "data": {
      "text/plain": [
       "'2.2.0'"
      ]
     },
     "execution_count": 8,
     "metadata": {},
     "output_type": "execute_result"
    }
   ],
   "source": [
    "np.__version__"
   ]
  },
  {
   "cell_type": "markdown",
   "id": "3faa4c66-8a80-48bf-ba2e-a9aacac3c773",
   "metadata": {},
   "source": [
    "# 5) EBM"
   ]
  },
  {
   "cell_type": "markdown",
   "id": "a0f748d0",
   "metadata": {},
   "source": [
    "## 5.1) Default run"
   ]
  },
  {
   "cell_type": "code",
   "execution_count": 7,
   "id": "78b4f81a-45d3-4868-95b9-596e7f881821",
   "metadata": {},
   "outputs": [],
   "source": [
    "import time\n",
    "from copy import deepcopy\n",
    "from sklearn.model_selection import cross_val_predict\n",
    "from sklearn.metrics import confusion_matrix, accuracy_score, f1_score, roc_auc_score\n",
    "from interpret.glassbox import ExplainableBoostingClassifier  # Ensure you have the interpret package\n",
    "\n",
    "def train_default_EBM(df, results_dict):\n",
    "    \"\"\"\n",
    "    Trains an EBM model using the default parameters with CV=5,\n",
    "    evaluates performance, and stores results in the given dictionary.\n",
    "\n",
    "    Parameters:\n",
    "    -----------\n",
    "    df : DataFrame\n",
    "        The dataset containing features and the target variable.\n",
    "    results_dict : dict\n",
    "        Dictionary to store model performance metrics.\n",
    "\n",
    "    Returns:\n",
    "    --------\n",
    "    results_dict : dict\n",
    "        Updated results dictionary containing model evaluation metrics.\n",
    "    global_importance : object\n",
    "        Global feature importance from the EBM model.\n",
    "    local_importance : object\n",
    "        Local feature importance from the EBM model.\n",
    "    \"\"\"\n",
    "    start_time = time.time()\n",
    "    print(\"\\nStarting EBM model training and evaluation with default parameters...\")\n",
    "\n",
    "    # Split the dataset (assumes split_data_4 is defined elsewhere)\n",
    "    X_train, X_test, y_train, y_test = split_data_4(df)\n",
    "\n",
    "    # Initialize and train the EBM model using its default parameters\n",
    "    ebm = ExplainableBoostingClassifier()\n",
    "    ebm.fit(X_train, y_train)\n",
    "\n",
    "    # Perform cross-validation with CV=5 on training data\n",
    "    y_train_pred = cross_val_predict(ebm, X_train, y_train, cv=5)\n",
    "\n",
    "    # Make predictions on the test set\n",
    "    y_test_pred = ebm.predict(X_test)\n",
    "\n",
    "    # Compute confusion matrices\n",
    "    cfm_train = confusion_matrix(y_train, y_train_pred)\n",
    "    cfm_test = confusion_matrix(y_test, y_test_pred)\n",
    "\n",
    "    # Compute accuracy scores\n",
    "    accs_train = accuracy_score(y_train, y_train_pred)\n",
    "    accs_test = accuracy_score(y_test, y_test_pred)\n",
    "\n",
    "    # Compute F1-scores for both classes (0 and 1)\n",
    "    f1s_train_p1 = f1_score(y_train, y_train_pred, pos_label=1)\n",
    "    f1s_train_p0 = f1_score(y_train, y_train_pred, pos_label=0)\n",
    "    f1s_test_p1 = f1_score(y_test, y_test_pred, pos_label=1)\n",
    "    f1s_test_p0 = f1_score(y_test, y_test_pred, pos_label=0)\n",
    "\n",
    "    # Compute ROC-AUC score for the test data\n",
    "    test_ras = roc_auc_score(y_test, ebm.predict_proba(X_test)[:, 1])\n",
    "\n",
    "    # Extract feature importances\n",
    "    global_importance = ebm.explain_global().data()\n",
    "    local_importance = ebm.explain_local(X_test, y_test).data()\n",
    "\n",
    "    total_time = (time.time() - start_time) / 60\n",
    "    print(f\"EBM Model training completed in {total_time:.2f} minutes\")\n",
    "\n",
    "    # Store the computed metrics in the results dictionary\n",
    "    results_dict[\"ebm_default\"] = {\n",
    "        \"classifier\": deepcopy(ebm),\n",
    "        \"cfm_train\": cfm_train,\n",
    "        \"cfm_test\": cfm_test,\n",
    "        \"train_accuracy\": accs_train,\n",
    "        \"test_accuracy\": accs_test,\n",
    "        \"train F1-score label 1\": f1s_train_p1,\n",
    "        \"train F1-score label 0\": f1s_train_p0,\n",
    "        \"test F1-score label 1\": f1s_test_p1,\n",
    "        \"test F1-score label 0\": f1s_test_p0,\n",
    "        \"test roc auc score\": test_ras,\n",
    "        \"default_params\": ebm.get_params(),  # Save the default parameters used\n",
    "        \"global_importance\": global_importance,\n",
    "        \"local_importance\": local_importance,\n",
    "        \"time_m\": total_time\n",
    "    }\n",
    "\n",
    "    return results_dict, global_importance, local_importance\n"
   ]
  },
  {
   "cell_type": "code",
   "execution_count": 8,
   "id": "6ba85a42-93ee-49c7-8d26-f90765b27d6e",
   "metadata": {},
   "outputs": [
    {
     "name": "stdout",
     "output_type": "stream",
     "text": [
      "\n",
      "Starting EBM model training and evaluation with default parameters...\n",
      "Demographic Features: ['clientdata.demo.gender', 'clientdata.demo.age_year', 'clientdata.demo.age_month', 'clientdata.demo.children', 'clientdata.demo.children_singleparent', 'clientdata.demo.maritalstatus_expand_SINGLE', 'clientdata.demo.maritalstatus_expand_MARRIED', 'clientdata.demo.maritalstatus_expand_DIVORCED', 'clientdata.demo.maritalstatus_expand_WIDOWED', 'clientdata.demo.maritalstatus_expand_newvalue', 'clientdata.demo.maritalstatus_woe']\n",
      "Training Features Shape: (103565, 406)\n",
      "Training Labels Shape: (103565,)\n",
      "Testing Features Shape: (25892, 406)\n",
      "Testing Labels Shape: (25892,)\n",
      "EBM Model training completed in 14.31 minutes\n"
     ]
    }
   ],
   "source": [
    "# need around 40-45 minutes to run\n",
    "results_dict, global_importance, local_importance = train_default_EBM(df, results_dict)"
   ]
  },
  {
   "cell_type": "code",
   "execution_count": 11,
   "id": "2baa4b2a-bc74-4052-aed8-ca4589e7557e",
   "metadata": {},
   "outputs": [],
   "source": [
    "# Save results_dict_updated to a pickle file\n",
    "with open('../pickle/4_Model_Optuna/results_dict_updated_5.pkl', 'wb') as f:\n",
    "    pickle.dump(results_dict, f, pickle.HIGHEST_PROTOCOL)"
   ]
  },
  {
   "cell_type": "code",
   "execution_count": 13,
   "id": "d875faf1-4d7a-4488-a361-90fa13bc4078",
   "metadata": {},
   "outputs": [
    {
     "name": "stdout",
     "output_type": "stream",
     "text": [
      "Benchmark RandomForest - AUC/accuracy score: 0.7037 / 0.6878 @ 1.81 minutes\n",
      "Benchmark XGBoost - AUC/accuracy score: 0.723 / 0.6962 @ 0.43 minutes\n",
      "XGBoost w/ Optuna - AUC/accuracy score: 0.7363 / 0.7041 @ 0.23 minutes\n",
      "Optimized XGBoost w/ Optuna - AUC/accuracy score: 0.7363 / 0.7041 @ 1.07 minutes\n",
      "EBM Default - AUC/accuracy score: 0.7302 / 0.7014 @ 14.31 minutes\n"
     ]
    }
   ],
   "source": [
    "#printing benchmark, iterative grid search and randomized search ROC AUC / accuracy scores (test data set)\n",
    "print(f\"Benchmark RandomForest - AUC/accuracy score: {np.round(results_dict['rf0']['test roc auc score'],4)} / {np.round(results_dict['rf0']['test_accuracy'],4)} @ {np.round(results_dict['rf0']['time_m'],2)} minutes\")\n",
    "print(f\"Benchmark XGBoost - AUC/accuracy score: {np.round(results_dict['xgbc0']['test roc auc score'],4)} / {np.round(results_dict['xgbc0']['test_accuracy'],4)} @ {np.round(results_dict['xgbc0']['time_m'],2)} minutes\")\n",
    "print(f\"XGBoost w/ Optuna - AUC/accuracy score: {np.round(results_dict['xgbc_optuna']['test roc auc score'],4)} / {np.round(results_dict['xgbc_optuna']['test_accuracy'],4)} @ {np.round(results_dict['xgbc_optuna']['time_m'],2)} minutes\")\n",
    "print(f\"Optimized XGBoost w/ Optuna - AUC/accuracy score: {np.round(results_dict['xgbc_optimized']['test roc auc score'],4)} / {np.round(results_dict['xgbc_optimized']['test_accuracy'],4)} @ {np.round(results_dict['xgbc_optimized']['time_m'],2)} minutes\")\n",
    "print(f\"EBM Default - AUC/accuracy score: {np.round(results_dict['ebm_default']['test roc auc score'],4)} / {np.round(results_dict['ebm_default']['test_accuracy'],4)} @ {np.round(results_dict['ebm_default']['time_m'],2)} minutes\")\n"
   ]
  },
  {
   "cell_type": "markdown",
   "id": "86c44b27",
   "metadata": {},
   "source": [
    "## 5.2) Tuning"
   ]
  },
  {
   "cell_type": "code",
   "execution_count": null,
   "id": "3bc447ee",
   "metadata": {},
   "outputs": [],
   "source": [
    "def tune_grid_EBM(param_grid, df, results_dict):\n",
    "    \"\"\"\n",
    "    Grid-search tunes and trains an Explainable Boosting Machine (EBM),\n",
    "    evaluates performance, and stores results in the given dictionary.\n",
    "\n",
    "    Parameters:\n",
    "    -----------\n",
    "    param_grid : dict\n",
    "        Grid of EBM init parameters to try. Keys are parameter names,\n",
    "        values are lists of candidate values.\n",
    "    df : DataFrame\n",
    "        Dataset containing features and the target variable.\n",
    "    results_dict : dict\n",
    "        Dictionary to store model performance metrics.\n",
    "\n",
    "    Returns:\n",
    "    --------\n",
    "    best_params : dict\n",
    "        Best parameters found by grid search.\n",
    "    results_dict : dict\n",
    "        Updated results dictionary containing model evaluation metrics.\n",
    "    global_importance : object\n",
    "        Global feature importance from the tuned EBM model.\n",
    "    local_importance : object\n",
    "        Local feature importance from the tuned EBM model.\n",
    "    \"\"\"\n",
    "    start_time = time.time()\n",
    "    print(\"\\nStarting grid-search hyperparameter tuning for EBM...\")\n",
    "\n",
    "    # split_data_4 must return X_train, X_test, y_train, y_test\n",
    "    X_train, X_test, y_train, y_test = split_data_4(df)\n",
    "\n",
    "    # generate all combinations\n",
    "    grid = list(ParameterGrid(param_grid))\n",
    "    print(f\"Total parameter combinations to try: {len(grid)}\")\n",
    "\n",
    "    best_score = -np.inf\n",
    "    best_params = None\n",
    "\n",
    "    # evaluate each combination via 5-fold CV accuracy\n",
    "    for i, params in enumerate(grid, 1):\n",
    "        print(f\"Trying combo {i}/{len(grid)}: {params}\")\n",
    "        ebm = ExplainableBoostingClassifier(**params)\n",
    "        scores = cross_val_score(ebm, X_train, y_train, cv=5, scoring=\"accuracy\")\n",
    "        mean_score = scores.mean()\n",
    "        print(f\" → mean CV accuracy: {mean_score:.4f}\")\n",
    "        if mean_score > best_score:\n",
    "            best_score = mean_score\n",
    "            best_params = params\n",
    "\n",
    "    print(\"Best params found:\", best_params)\n",
    "    print(f\"Best CV accuracy: {best_score:.4f}\")\n",
    "\n",
    "    # train final model on full training data\n",
    "    ebm_best = ExplainableBoostingClassifier(**best_params)\n",
    "    ebm_best.fit(X_train, y_train)\n",
    "\n",
    "    # get cross-val predictions on training set\n",
    "    y_train_pred = cross_val_predict(ebm_best, X_train, y_train, cv=5)\n",
    "    # predict on test set\n",
    "    y_test_pred  = ebm_best.predict(X_test)\n",
    "    y_test_proba = ebm_best.predict_proba(X_test)[:, 1]\n",
    "\n",
    "    # compute metrics\n",
    "    cfm_train    = confusion_matrix(y_train, y_train_pred)\n",
    "    cfm_test     = confusion_matrix(y_test,  y_test_pred)\n",
    "    acc_train    = accuracy_score(y_train, y_train_pred)\n",
    "    acc_test     = accuracy_score(y_test,  y_test_pred)\n",
    "    f1_train_1   = f1_score(y_train, y_train_pred, pos_label=1)\n",
    "    f1_train_0   = f1_score(y_train, y_train_pred, pos_label=0)\n",
    "    f1_test_1    = f1_score(y_test,  y_test_pred,  pos_label=1)\n",
    "    f1_test_0    = f1_score(y_test,  y_test_pred,  pos_label=0)\n",
    "    roc_auc_test = roc_auc_score(y_test, y_test_proba)\n",
    "\n",
    "    # extract feature importances\n",
    "    global_importance = ebm_best.explain_global().data()\n",
    "    local_importance  = ebm_best.explain_local(X_test, y_test).data()\n",
    "\n",
    "    total_time = (time.time() - start_time) / 60\n",
    "    print(f\"Grid‐search & training completed in {total_time:.2f} minutes\")\n",
    "\n",
    "    # store results\n",
    "    results_dict[\"ebm_grid\"] = {\n",
    "        \"classifier\":             deepcopy(ebm_best),\n",
    "        \"cfm_train\":              cfm_train,\n",
    "        \"cfm_test\":               cfm_test,\n",
    "        \"train_accuracy\":         acc_train,\n",
    "        \"test_accuracy\":          acc_test,\n",
    "        \"train F1-score label 1\": f1_train_1,\n",
    "        \"train F1-score label 0\": f1_train_0,\n",
    "        \"test F1-score label 1\":  f1_test_1,\n",
    "        \"test F1-score label 0\":  f1_test_0,\n",
    "        \"test roc auc score\":     roc_auc_test,\n",
    "        \"param_grid\":             param_grid,\n",
    "        \"best_params\":            best_params,\n",
    "        \"global_importance\":      global_importance,\n",
    "        \"local_importance\":       local_importance,\n",
    "        \"time_m\":                 total_time\n",
    "    }\n",
    "\n",
    "    return best_params, results_dict, global_importance, local_importance"
   ]
  }
 ],
 "metadata": {
  "kernelspec": {
   "display_name": "Work",
   "language": "python",
   "name": "python3"
  },
  "language_info": {
   "codemirror_mode": {
    "name": "ipython",
    "version": 3
   },
   "file_extension": ".py",
   "mimetype": "text/x-python",
   "name": "python",
   "nbconvert_exporter": "python",
   "pygments_lexer": "ipython3",
   "version": "3.12.9"
  }
 },
 "nbformat": 4,
 "nbformat_minor": 5
}
